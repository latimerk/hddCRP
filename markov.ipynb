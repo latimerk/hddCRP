{
 "cells": [
  {
   "cell_type": "code",
   "execution_count": 1,
   "metadata": {},
   "outputs": [],
   "source": [
    "import numpy as np\n",
    "import hddCRP.markovModeling as mm"
   ]
  },
  {
   "cell_type": "code",
   "execution_count": 2,
   "metadata": {},
   "outputs": [],
   "source": [
    "# make sequence to fit (totally random)\n",
    "K = 3\n",
    "rng = np.random.Generator(np.random.MT19937(1023))\n",
    "seq = rng.integers(0,K,size=(100))\n",
    "symbols = range(K)\n"
   ]
  },
  {
   "cell_type": "code",
   "execution_count": 21,
   "metadata": {},
   "outputs": [
    {
     "name": "stdout",
     "output_type": "stream",
     "text": [
      "[[0.21875    0.5        0.28125   ]\n",
      " [0.27272727 0.33333333 0.39393939]\n",
      " [0.44117647 0.17647059 0.38235294]]\n",
      "[[0.22857143 0.48571429 0.28571429]\n",
      " [0.27777778 0.33333333 0.38888889]\n",
      " [0.43243243 0.18918919 0.37837838]]\n",
      "[[0.23179246 0.57055135 0.19765618]\n",
      " [0.45910552 0.21798038 0.3229141 ]\n",
      " [0.34188308 0.20691829 0.45119862]]\n",
      "[[0.22162805 0.49494949 0.28342246]\n",
      " [0.2739331  0.33333333 0.39273356]\n",
      " [0.43753501 0.18095238 0.38151261]]\n",
      "[[0.24976689 0.47095545 0.27927766]\n",
      " [0.38866376 0.31639637 0.29493987]\n",
      " [0.43007047 0.16188608 0.40804345]]\n"
     ]
    }
   ],
   "source": [
    "depth = 2 # how far back in time to care about dependencies (1=only look at previous action)\n",
    "\n",
    "C = mm.get_transition_count(seq, depth=depth, symbols=symbols)\n",
    "P = mm.get_transition_probabilities(C) # the plugin estimator for the transitions\n",
    "\n",
    "# I also have some Bayesian estimation options\n",
    "P1 = mm.get_transition_probabilities(C, alpha=1, rng=None) # add a regularization term in a simple categorical-dirichlet model for posterior mean estimates\n",
    "P2 = mm.get_transition_probabilities(C, alpha=1, rng=rng) # can also draw P from the posterior over P under the categorical-dirichlet model\n",
    "                                                          # This can help us figure out if the uncertainty in our estimates matters\n",
    "P3 = mm.get_transition_probabilities_hierarchical(C, alpha=1, rng=None) #changes up the regularization using a very quick hierarchical scheme\n",
    "P4 = mm.get_transition_probabilities_hierarchical(C, alpha=1, rng=rng) # \n"
   ]
  },
  {
   "cell_type": "code",
   "execution_count": 27,
   "metadata": {},
   "outputs": [
    {
     "data": {
      "text/plain": [
       "array([[0, 0, 0, 0, 0, 0, 0, 0, 0, 0],\n",
       "       [1, 1, 1, 1, 1, 1, 1, 1, 1, 1],\n",
       "       [2, 0, 1, 0, 0, 0, 2, 0, 0, 2],\n",
       "       [0, 0, 0, 2, 1, 0, 2, 2, 1, 1],\n",
       "       [0, 2, 1, 2, 2, 0, 1, 0, 1, 0],\n",
       "       [0, 1, 1, 0, 2, 2, 2, 1, 2, 0],\n",
       "       [0, 2, 2, 1, 2, 0, 0, 1, 0, 2],\n",
       "       [0, 2, 0, 2, 0, 2, 1, 1, 1, 1],\n",
       "       [1, 0, 1, 0, 0, 2, 0, 1, 0, 2],\n",
       "       [2, 0, 0, 1, 1, 1, 1, 1, 1, 1],\n",
       "       [0, 2, 1, 2, 1, 1, 2, 0, 2, 0],\n",
       "       [1, 2, 1, 0, 0, 1, 2, 2, 0, 0],\n",
       "       [2, 0, 1, 0, 1, 2, 0, 1, 1, 2],\n",
       "       [2, 0, 0, 0, 1, 0, 1, 1, 2, 0],\n",
       "       [2, 2, 1, 0, 2, 2, 1, 1, 1, 1],\n",
       "       [2, 0, 2, 0, 2, 2, 2, 1, 0, 0],\n",
       "       [0, 1, 0, 2, 0, 1, 2, 0, 1, 2],\n",
       "       [2, 2, 2, 0, 1, 2, 2, 2, 0, 0],\n",
       "       [0, 0, 0, 1, 0, 2, 2, 0, 1, 0],\n",
       "       [1, 1, 0, 2, 1, 2, 0, 1, 0, 0],\n",
       "       [2, 0, 2, 1, 2, 0, 0, 2, 1, 1],\n",
       "       [0, 0, 1, 0, 1, 1, 2, 0, 0, 2],\n",
       "       [1, 1, 0, 0, 2, 0, 2, 2, 1, 2],\n",
       "       [1, 1, 1, 1, 1, 0, 2, 0, 1, 1],\n",
       "       [2, 2, 1, 2, 2, 2, 0, 0, 1, 1],\n",
       "       [0, 0, 1, 0, 0, 0, 1, 1, 1, 1],\n",
       "       [0, 1, 1, 1, 1, 0, 2, 0, 0, 2],\n",
       "       [2, 2, 2, 0, 1, 1, 1, 0, 2, 0],\n",
       "       [2, 2, 2, 0, 0, 1, 1, 1, 2, 1],\n",
       "       [2, 0, 1, 1, 0, 1, 0, 2, 2, 0],\n",
       "       [2, 2, 0, 2, 1, 0, 0, 0, 0, 0],\n",
       "       [0, 2, 1, 1, 2, 2, 0, 0, 2, 0],\n",
       "       [2, 0, 2, 2, 0, 0, 2, 2, 2, 1],\n",
       "       [2, 1, 0, 0, 1, 2, 0, 2, 2, 1],\n",
       "       [2, 0, 1, 1, 1, 0, 2, 2, 0, 0],\n",
       "       [2, 2, 1, 0, 0, 1, 0, 2, 0, 1],\n",
       "       [0, 0, 2, 1, 1, 1, 1, 2, 1, 2],\n",
       "       [1, 0, 0, 0, 1, 0, 1, 0, 1, 0],\n",
       "       [1, 1, 1, 2, 2, 0, 2, 2, 2, 1],\n",
       "       [2, 2, 0, 0, 0, 2, 0, 0, 0, 0],\n",
       "       [0, 0, 1, 1, 2, 2, 2, 1, 1, 1],\n",
       "       [2, 1, 0, 2, 2, 2, 1, 0, 0, 2],\n",
       "       [2, 1, 1, 0, 0, 1, 1, 1, 2, 0],\n",
       "       [0, 1, 2, 0, 1, 2, 2, 2, 2, 1],\n",
       "       [0, 2, 0, 1, 1, 2, 0, 0, 0, 0],\n",
       "       [2, 0, 0, 2, 0, 2, 1, 0, 1, 1],\n",
       "       [0, 0, 2, 2, 1, 0, 2, 2, 1, 1],\n",
       "       [0, 1, 1, 0, 1, 0, 2, 0, 1, 2],\n",
       "       [1, 2, 2, 1, 2, 1, 0, 0, 0, 2],\n",
       "       [2, 0, 2, 2, 2, 2, 2, 1, 0, 2],\n",
       "       [2, 0, 0, 2, 1, 1, 1, 1, 2, 2],\n",
       "       [0, 1, 1, 1, 0, 2, 0, 0, 2, 2],\n",
       "       [2, 2, 2, 2, 1, 0, 1, 2, 1, 2],\n",
       "       [0, 0, 0, 2, 2, 2, 0, 0, 2, 2],\n",
       "       [1, 1, 1, 2, 0, 1, 2, 0, 2, 0],\n",
       "       [0, 2, 1, 2, 0, 1, 0, 1, 0, 2],\n",
       "       [1, 0, 2, 2, 0, 0, 1, 1, 1, 2],\n",
       "       [1, 1, 2, 2, 1, 2, 1, 1, 0, 2],\n",
       "       [2, 2, 2, 0, 2, 1, 1, 1, 2, 1],\n",
       "       [2, 2, 2, 1, 1, 2, 2, 2, 2, 2],\n",
       "       [2, 1, 1, 1, 2, 0, 0, 2, 0, 0],\n",
       "       [0, 2, 2, 1, 0, 0, 1, 0, 1, 2],\n",
       "       [2, 2, 0, 1, 2, 1, 2, 0, 1, 2],\n",
       "       [2, 1, 2, 2, 2, 0, 0, 0, 2, 2],\n",
       "       [2, 1, 2, 2, 2, 2, 1, 1, 0, 0],\n",
       "       [2, 2, 2, 0, 2, 2, 1, 1, 1, 1],\n",
       "       [2, 1, 0, 0, 2, 0, 1, 0, 2, 2],\n",
       "       [0, 2, 2, 1, 1, 0, 1, 2, 0, 2],\n",
       "       [1, 2, 0, 2, 2, 1, 0, 0, 1, 2],\n",
       "       [2, 1, 0, 2, 0, 1, 0, 1, 2, 2],\n",
       "       [1, 1, 1, 0, 1, 0, 1, 2, 0, 0],\n",
       "       [0, 2, 0, 2, 2, 0, 1, 0, 0, 2],\n",
       "       [2, 0, 1, 0, 2, 1, 1, 2, 1, 2],\n",
       "       [2, 1, 2, 2, 2, 2, 2, 2, 2, 0],\n",
       "       [1, 2, 0, 2, 0, 0, 2, 0, 0, 1],\n",
       "       [1, 1, 0, 2, 0, 2, 2, 1, 2, 2],\n",
       "       [1, 1, 1, 2, 2, 2, 2, 2, 2, 0],\n",
       "       [0, 2, 2, 2, 2, 2, 1, 2, 0, 2],\n",
       "       [2, 0, 0, 2, 0, 1, 2, 2, 1, 2],\n",
       "       [1, 2, 0, 0, 1, 0, 0, 0, 2, 2],\n",
       "       [2, 2, 1, 1, 2, 1, 1, 1, 0, 2],\n",
       "       [2, 2, 1, 2, 0, 2, 1, 0, 2, 2],\n",
       "       [1, 2, 2, 0, 2, 2, 0, 1, 0, 2],\n",
       "       [1, 1, 2, 2, 1, 0, 1, 0, 1, 0],\n",
       "       [0, 2, 2, 1, 0, 2, 2, 1, 1, 1],\n",
       "       [0, 1, 0, 0, 2, 0, 0, 2, 1, 0],\n",
       "       [1, 2, 0, 1, 0, 1, 1, 2, 2, 1],\n",
       "       [1, 2, 1, 1, 1, 0, 2, 2, 0, 0],\n",
       "       [1, 2, 2, 2, 1, 2, 1, 0, 0, 0],\n",
       "       [2, 2, 1, 2, 1, 0, 0, 2, 2, 1],\n",
       "       [2, 1, 0, 0, 1, 1, 2, 1, 0, 1],\n",
       "       [2, 1, 1, 0, 2, 1, 2, 0, 1, 0],\n",
       "       [2, 2, 1, 1, 0, 2, 0, 1, 2, 1],\n",
       "       [0, 0, 0, 1, 1, 0, 2, 0, 1, 0],\n",
       "       [1, 2, 1, 2, 2, 1, 0, 2, 1, 0],\n",
       "       [1, 1, 2, 2, 0, 0, 2, 0, 1, 1],\n",
       "       [2, 2, 0, 2, 0, 1, 2, 0, 0, 1],\n",
       "       [2, 2, 2, 1, 1, 0, 2, 1, 0, 2],\n",
       "       [1, 2, 2, 0, 2, 1, 2, 0, 2, 2],\n",
       "       [0, 2, 2, 1, 0, 0, 0, 2, 0, 0]])"
      ]
     },
     "execution_count": 27,
     "metadata": {},
     "output_type": "execute_result"
    }
   ],
   "source": [
    "initial_state = [0,1] # I ended up requiring an initial state to start the simulation - otherwise I wouldn't be sure how you'd want to begin\n",
    "simulated_seqs = mm.simulate_from_model(P, initial_state, sim_length=100, rng=rng, nsims=10)\n",
    "simulated_seqs # each column is one simulation (first steps are set to initial_state)"
   ]
  }
 ],
 "metadata": {
  "kernelspec": {
   "display_name": "JaiYuLab",
   "language": "python",
   "name": "python3"
  },
  "language_info": {
   "codemirror_mode": {
    "name": "ipython",
    "version": 3
   },
   "file_extension": ".py",
   "mimetype": "text/x-python",
   "name": "python",
   "nbconvert_exporter": "python",
   "pygments_lexer": "ipython3",
   "version": "3.10.13"
  }
 },
 "nbformat": 4,
 "nbformat_minor": 2
}
