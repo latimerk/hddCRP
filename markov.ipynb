{
 "cells": [
  {
   "cell_type": "code",
   "execution_count": 1,
   "metadata": {},
   "outputs": [],
   "source": [
    "import numpy as np\n",
    "import hddCRP.markovModeling as mm"
   ]
  },
  {
   "cell_type": "code",
   "execution_count": 34,
   "metadata": {},
   "outputs": [],
   "source": [
    "# make sequence to fit (totally random)\n",
    "K = 3\n",
    "rng = np.random.Generator(np.random.MT19937(1023))\n",
    "seq = rng.integers(0,K,size=(100))\n",
    "symbols = range(K)\n"
   ]
  },
  {
   "cell_type": "code",
   "execution_count": 45,
   "metadata": {},
   "outputs": [
    {
     "data": {
      "text/plain": [
       "array([0.31131383, 0.2977318 , 0.39095437])"
      ]
     },
     "execution_count": 45,
     "metadata": {},
     "output_type": "execute_result"
    }
   ],
   "source": [
    "depth = 0 # how far back in time to care about dependencies (1=only look at previous action)\n",
    "\n",
    "C = mm.get_transition_count(seq, depth=depth, symbols=symbols)\n",
    "P = mm.get_transition_probabilities(C) # the plugin estimator for the transitions\n",
    "\n",
    "# I also have some Bayesian estimation options\n",
    "P1 = mm.get_transition_probabilities(C, alpha=1, rng=None) # add a regularization term in a simple categorical-dirichlet model for posterior mean estimates\n",
    "P2 = mm.get_transition_probabilities(C, alpha=1, rng=rng) # can also draw P from the posterior over P under the categorical-dirichlet model\n",
    "                                                          # This can help us figure out if the uncertainty in our estimates matters\n",
    "P3 = mm.get_transition_probabilities_hierarchical(C, alpha=1, rng=None) #changes up the regularization using a very quick hierarchical scheme\n",
    "P4 = mm.get_transition_probabilities_hierarchical(C, alpha=1, rng=rng) # \n"
   ]
  },
  {
   "cell_type": "code",
   "execution_count": 46,
   "metadata": {},
   "outputs": [
    {
     "data": {
      "text/plain": [
       "array([[0, 0, 0, 0, 0, 0, 0, 0, 0, 0],\n",
       "       [1, 1, 1, 1, 1, 1, 1, 1, 1, 1],\n",
       "       [2, 2, 0, 2, 1, 1, 1, 0, 1, 2],\n",
       "       [1, 2, 1, 1, 0, 0, 1, 1, 0, 2],\n",
       "       [2, 0, 1, 0, 2, 2, 1, 2, 0, 2],\n",
       "       [2, 2, 0, 0, 2, 0, 0, 1, 2, 2],\n",
       "       [2, 0, 2, 0, 2, 2, 0, 2, 2, 1],\n",
       "       [0, 1, 1, 0, 2, 0, 2, 1, 1, 2],\n",
       "       [2, 1, 0, 0, 2, 2, 0, 1, 0, 2],\n",
       "       [2, 2, 0, 0, 2, 0, 2, 1, 2, 2],\n",
       "       [2, 2, 2, 0, 1, 0, 1, 1, 2, 1],\n",
       "       [0, 0, 0, 1, 1, 0, 1, 1, 0, 1],\n",
       "       [1, 0, 0, 1, 1, 1, 2, 2, 1, 2],\n",
       "       [0, 1, 2, 2, 1, 0, 0, 0, 0, 1],\n",
       "       [0, 2, 0, 2, 1, 0, 0, 2, 1, 2],\n",
       "       [0, 0, 0, 2, 0, 0, 1, 2, 1, 0],\n",
       "       [0, 0, 1, 2, 0, 0, 2, 1, 1, 2],\n",
       "       [1, 1, 0, 1, 0, 0, 1, 2, 2, 2],\n",
       "       [0, 1, 0, 1, 0, 1, 0, 2, 0, 0],\n",
       "       [0, 1, 2, 0, 0, 2, 1, 1, 1, 2],\n",
       "       [1, 2, 0, 0, 0, 0, 1, 1, 0, 2],\n",
       "       [1, 0, 0, 2, 2, 2, 0, 1, 2, 1],\n",
       "       [1, 2, 2, 1, 0, 1, 1, 2, 2, 2],\n",
       "       [2, 1, 2, 1, 2, 1, 2, 2, 0, 2],\n",
       "       [2, 1, 2, 2, 1, 1, 0, 1, 2, 0],\n",
       "       [2, 0, 2, 0, 2, 0, 2, 2, 2, 2],\n",
       "       [0, 0, 2, 1, 1, 2, 1, 2, 1, 0],\n",
       "       [0, 2, 2, 1, 1, 2, 0, 0, 1, 0],\n",
       "       [0, 1, 1, 2, 0, 2, 1, 2, 0, 1],\n",
       "       [2, 1, 0, 0, 0, 1, 2, 0, 2, 0],\n",
       "       [2, 1, 2, 1, 2, 1, 2, 0, 0, 2],\n",
       "       [1, 0, 1, 2, 1, 1, 0, 2, 2, 0],\n",
       "       [1, 2, 2, 2, 0, 1, 2, 1, 0, 2],\n",
       "       [2, 2, 1, 2, 1, 2, 1, 0, 0, 0],\n",
       "       [2, 0, 0, 0, 1, 2, 2, 0, 1, 2],\n",
       "       [2, 0, 0, 1, 1, 2, 2, 0, 1, 0],\n",
       "       [0, 0, 1, 1, 0, 2, 1, 0, 2, 2],\n",
       "       [1, 2, 2, 1, 0, 0, 2, 2, 1, 2],\n",
       "       [1, 2, 1, 1, 2, 1, 2, 1, 0, 2],\n",
       "       [1, 0, 2, 0, 2, 2, 2, 0, 2, 0],\n",
       "       [1, 1, 2, 1, 1, 1, 1, 2, 0, 0],\n",
       "       [0, 2, 2, 2, 0, 2, 0, 0, 2, 1],\n",
       "       [2, 1, 1, 1, 0, 0, 0, 0, 1, 0],\n",
       "       [0, 0, 2, 0, 2, 2, 1, 1, 0, 0],\n",
       "       [2, 0, 0, 0, 0, 2, 0, 0, 2, 2],\n",
       "       [0, 2, 0, 2, 1, 1, 1, 2, 0, 1],\n",
       "       [2, 2, 1, 1, 0, 2, 0, 1, 1, 2],\n",
       "       [2, 0, 1, 0, 0, 2, 1, 0, 0, 1],\n",
       "       [1, 2, 2, 1, 1, 2, 2, 2, 2, 1],\n",
       "       [2, 1, 2, 0, 2, 1, 0, 2, 2, 2],\n",
       "       [1, 1, 2, 1, 2, 1, 0, 2, 0, 2],\n",
       "       [2, 0, 2, 0, 0, 0, 0, 1, 0, 1],\n",
       "       [0, 2, 0, 1, 1, 2, 2, 1, 1, 1],\n",
       "       [0, 1, 2, 2, 2, 0, 2, 0, 1, 1],\n",
       "       [1, 1, 0, 2, 2, 2, 1, 1, 1, 0],\n",
       "       [1, 1, 2, 1, 1, 2, 2, 1, 2, 0],\n",
       "       [2, 0, 1, 2, 1, 2, 2, 1, 2, 0],\n",
       "       [0, 2, 0, 0, 2, 2, 1, 0, 1, 2],\n",
       "       [0, 2, 1, 2, 0, 0, 1, 1, 0, 1],\n",
       "       [0, 2, 0, 0, 2, 2, 2, 1, 0, 1],\n",
       "       [0, 2, 2, 2, 1, 1, 2, 2, 2, 2],\n",
       "       [1, 2, 0, 1, 1, 0, 0, 2, 2, 1],\n",
       "       [0, 2, 0, 2, 0, 1, 2, 0, 1, 1],\n",
       "       [1, 0, 1, 1, 1, 0, 2, 1, 1, 2],\n",
       "       [0, 1, 1, 0, 0, 1, 0, 1, 0, 2],\n",
       "       [2, 2, 1, 0, 2, 2, 1, 2, 1, 2],\n",
       "       [0, 0, 2, 1, 0, 1, 1, 2, 2, 2],\n",
       "       [2, 0, 1, 0, 1, 2, 0, 2, 2, 1],\n",
       "       [1, 0, 0, 2, 2, 2, 2, 1, 2, 2],\n",
       "       [0, 1, 2, 0, 2, 1, 2, 0, 0, 2],\n",
       "       [0, 1, 1, 1, 0, 1, 2, 2, 0, 1],\n",
       "       [0, 1, 2, 2, 0, 1, 0, 2, 2, 1],\n",
       "       [2, 2, 2, 0, 2, 1, 2, 2, 1, 1],\n",
       "       [0, 0, 1, 2, 2, 0, 2, 0, 0, 0],\n",
       "       [0, 0, 0, 1, 2, 0, 2, 1, 2, 1],\n",
       "       [0, 1, 0, 2, 2, 0, 2, 2, 0, 1],\n",
       "       [2, 0, 1, 2, 0, 1, 2, 1, 2, 1],\n",
       "       [2, 0, 2, 2, 1, 0, 2, 2, 0, 0],\n",
       "       [2, 2, 1, 0, 0, 0, 1, 2, 2, 1],\n",
       "       [0, 0, 0, 1, 1, 1, 1, 0, 1, 1],\n",
       "       [2, 2, 1, 1, 0, 0, 0, 2, 0, 1],\n",
       "       [0, 0, 1, 2, 1, 0, 2, 1, 1, 0],\n",
       "       [0, 1, 0, 0, 2, 1, 2, 1, 0, 0],\n",
       "       [1, 1, 2, 2, 0, 0, 2, 0, 0, 0],\n",
       "       [1, 2, 0, 0, 2, 0, 0, 2, 2, 0],\n",
       "       [0, 1, 1, 0, 1, 0, 2, 1, 1, 1],\n",
       "       [1, 1, 0, 1, 0, 2, 0, 0, 2, 0],\n",
       "       [2, 2, 0, 1, 0, 0, 2, 2, 2, 1],\n",
       "       [1, 0, 0, 0, 1, 1, 0, 2, 1, 0],\n",
       "       [0, 1, 0, 0, 2, 2, 1, 2, 2, 1],\n",
       "       [1, 1, 2, 2, 0, 2, 2, 2, 0, 0],\n",
       "       [2, 2, 0, 2, 0, 0, 1, 0, 2, 2],\n",
       "       [0, 1, 2, 2, 1, 2, 0, 2, 0, 1],\n",
       "       [0, 1, 2, 1, 2, 2, 2, 1, 2, 2],\n",
       "       [1, 0, 2, 1, 1, 0, 0, 2, 2, 1],\n",
       "       [1, 1, 2, 1, 2, 0, 2, 1, 1, 2],\n",
       "       [1, 1, 2, 2, 2, 2, 2, 0, 1, 0],\n",
       "       [2, 1, 1, 1, 1, 2, 0, 1, 2, 0],\n",
       "       [2, 2, 1, 0, 2, 0, 0, 2, 1, 2],\n",
       "       [2, 2, 2, 0, 1, 0, 1, 2, 2, 1]])"
      ]
     },
     "execution_count": 46,
     "metadata": {},
     "output_type": "execute_result"
    }
   ],
   "source": [
    "initial_state = [0,1] # I ended up requiring an initial state to start the simulation - otherwise I wouldn't be sure how you'd want to begin\n",
    "simulated_seqs = mm.simulate_from_model(P, initial_state, sim_length=100, rng=rng, nsims=10)\n",
    "simulated_seqs # each column is one simulation (first steps are set to initial_state)"
   ]
  },
  {
   "cell_type": "code",
   "execution_count": 47,
   "metadata": {},
   "outputs": [],
   "source": [
    "# with multiple sessions, there's a boundary problem at the start of each session.\n",
    "# Conditional counts can still be extracted by summation over each session\n",
    "seqs = [];\n",
    "for ii in range(2):\n",
    "    seqs += [rng.integers(0,K,size=(100))]\n",
    "\n",
    "C = 0\n",
    "for ss in seqs:\n",
    "    C = C + mm.get_transition_count(ss, depth=depth, symbols=symbols)\n",
    "P = mm.get_transition_probabilities(C) # the plugin estimator for the transitions"
   ]
  },
  {
   "cell_type": "code",
   "execution_count": 48,
   "metadata": {},
   "outputs": [
    {
     "data": {
      "text/plain": [
       "[array([1, 2, 0, 1, 0, 0, 1, 1, 1, 2, 0, 0, 2, 1, 1, 1, 0, 1, 1, 2, 2, 2,\n",
       "        0, 1, 1, 2, 2, 1, 1, 0, 2, 1, 0, 0, 0, 2, 1, 2, 0, 0, 1, 1, 1, 1,\n",
       "        2, 1, 1, 1, 2, 0, 0, 1, 1, 1, 0, 0, 0, 0, 1, 2, 2, 0, 2, 2, 0, 0,\n",
       "        0, 1, 0, 0, 1, 2, 1, 2, 0, 2, 0, 1, 0, 0, 1, 0, 2, 2, 1, 2, 1, 2,\n",
       "        1, 0, 1, 0, 1, 0, 2, 1, 0, 2, 1, 2]),\n",
       " array([2, 0, 0, 1, 1, 1, 1, 0, 1, 1, 2, 2, 1, 0, 0, 1, 1, 1, 2, 1, 1, 0,\n",
       "        2, 2, 2, 2, 2, 0, 1, 0, 0, 0, 2, 0, 1, 2, 1, 2, 0, 0, 2, 1, 0, 2,\n",
       "        0, 2, 0, 1, 2, 2, 2, 0, 2, 2, 1, 2, 1, 1, 2, 0, 2, 0, 1, 2, 2, 2,\n",
       "        1, 0, 2, 2, 1, 2, 1, 1, 0, 2, 1, 1, 2, 0, 0, 1, 2, 0, 2, 1, 2, 2,\n",
       "        1, 1, 0, 1, 1, 1, 2, 2, 2, 2, 2, 0])]"
      ]
     },
     "execution_count": 48,
     "metadata": {},
     "output_type": "execute_result"
    }
   ],
   "source": []
  }
 ],
 "metadata": {
  "kernelspec": {
   "display_name": "JaiYuLab",
   "language": "python",
   "name": "python3"
  },
  "language_info": {
   "codemirror_mode": {
    "name": "ipython",
    "version": 3
   },
   "file_extension": ".py",
   "mimetype": "text/x-python",
   "name": "python",
   "nbconvert_exporter": "python",
   "pygments_lexer": "ipython3",
   "version": "3.10.13"
  }
 },
 "nbformat": 4,
 "nbformat_minor": 2
}
