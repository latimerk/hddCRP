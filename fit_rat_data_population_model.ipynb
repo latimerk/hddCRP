{
 "cells": [
  {
   "cell_type": "code",
   "execution_count": 1,
   "metadata": {},
   "outputs": [],
   "source": [
    "import nest_asyncio\n",
    "nest_asyncio.apply()\n",
    "\n",
    "from hddCRP.modelBuilder import cdCRP\n",
    "import numpy as np\n",
    "import pandas as pd\n",
    "import matplotlib.pyplot as plt\n",
    "import seaborn as sns\n",
    "import pickle\n",
    "from statannotations.Annotator import Annotator\n",
    "from sklearn.metrics import roc_auc_score\n",
    "\n",
    "from pandas.api.types import CategoricalDtype\n",
    "import os"
   ]
  },
  {
   "cell_type": "code",
   "execution_count": 2,
   "metadata": {},
   "outputs": [
    {
     "name": "stdout",
     "output_type": "stream",
     "text": [
      "subjects = ['diverse', 'uniform']\n"
     ]
    }
   ],
   "source": [
    "session_numbers = [1]; # index by 1\n",
    "\n",
    "overwrite_existing_results = False\n",
    "results_directory = \"Results/population/\"\n",
    "\n",
    "if(not os.path.exists(results_directory)):\n",
    "    os.makedirs(results_directory)\n",
    "\n",
    "data_filename = 'data/Data_turns_all_by_session.pkl';\n",
    "with open(data_filename, 'rb') as data_file:\n",
    "    data = pickle.load(data_file)\n",
    "\n",
    "subjects = [\"uniform\", \"diverse\"]\n",
    "subjects.sort()\n",
    "print(\"subjects = \" + str(subjects))\n",
    "\n",
    "context_depth = 1;\n",
    "nback_depth = 1;\n",
    "\n",
    "action_labels = [0,1,2]"
   ]
  },
  {
   "cell_type": "code",
   "execution_count": 3,
   "metadata": {},
   "outputs": [
    {
     "name": "stdout",
     "output_type": "stream",
     "text": [
      "fit file found\n"
     ]
    }
   ],
   "source": [
    "start_session = np.min(session_numbers)\n",
    "end_session = np.max(session_numbers)\n",
    "fit_file = f\"{results_directory}/fits_session_{start_session}\"\n",
    "fit_summary_file = f\"{results_directory}/fit_summary_session_{start_session}\"\n",
    "if(end_session != start_session):\n",
    "    fit_file += f\"_to_{start_session}\"\n",
    "    fit_summary_file  += f\"_to_{start_session}\"\n",
    "\n",
    "if(nback_depth != 1 or context_depth != 2):\n",
    "    fit_file += f\"_cd{context_depth}_nb{nback_depth}\"\n",
    "    fit_summary_file  += f\"_cd{context_depth}_nb{nback_depth}\"\n",
    "\n",
    "fit_file += f\".pkl\"\n",
    "fit_summary_file += f\".pkl\"\n",
    "\n",
    "if(not os.path.isfile(fit_file) or overwrite_existing_results):\n",
    "    data_fits = pd.DataFrame()\n",
    "    data_fit_metrics = pd.DataFrame()\n",
    "    for subject_index, subject in enumerate(subjects):\n",
    "        print(f\"subject {subject} \")\n",
    "\n",
    "        sequences = []\n",
    "        session_types = []\n",
    "        subject_labels = []\n",
    "        for subject_p in data[\"group_definition\"][subject]:\n",
    "            sequences_0 = data[\"data\"][subject_p][\"data\"]; # turns in each session\n",
    "            session_types_0 = data[\"data\"][subject_p][\"task\"] # which maze\n",
    "            ii = list(np.where(np.array(session_types_0)=='C')[0][np.array(session_numbers)-1])\n",
    "            sequences     += [sequences_0[xx] for xx in ii]\n",
    "            session_types += [session_types_0[xx] for xx in ii]\n",
    "            subject_labels += [subject_p] * len(ii)\n",
    "\n",
    "        stan_seed = (subject_index+1) * 1000 + start_session\n",
    "\n",
    "        model = cdCRP(sequences, session_labels=session_types, subject_labels=subject_labels, possible_observations=action_labels);\n",
    "        model.same_nback_depth = nback_depth\n",
    "        model.context_depth = context_depth\n",
    "\n",
    "\n",
    "        model.build(random_seed=stan_seed);\n",
    "        model.fit_model()\n",
    "\n",
    "        map_fit = model.get_map()\n",
    "        fit_df  = model.fit.to_frame()\n",
    "\n",
    "        fit_df[\"subject\"] = subject\n",
    "        fit_df[\"start_session_C\"] = start_session\n",
    "        fit_df[\"end_session_C\"] = end_session\n",
    "        summary_df = model.fit_summary()\n",
    "        summary_df[\"subject\"] = subject\n",
    "        summary_df[\"MAP\"] = pd.Series(map_fit)\n",
    "        summary_df[\"start_session_C\"] = start_session\n",
    "        summary_df[\"end_session_C\"] = end_session\n",
    "\n",
    "        data_fit_metrics = pd.concat([data_fit_metrics,summary_df], copy=False)\n",
    "        data_fits = pd.concat([data_fits,fit_df], copy=False)\n",
    "\n",
    "    data_fits.to_pickle(fit_file)\n",
    "    data_fit_metrics.to_pickle(fit_summary_file)\n",
    "else:\n",
    "    print(\"fit file found\")\n",
    "\n"
   ]
  },
  {
   "cell_type": "markdown",
   "metadata": {},
   "source": [
    "\n"
   ]
  },
  {
   "cell_type": "code",
   "execution_count": 4,
   "metadata": {},
   "outputs": [],
   "source": [
    "parameter_name_map = {\"alpha\" : \"concentration\", \n",
    "                      \"context_similarity_depth_1\" : \"context weight level 1\",\n",
    "                      \"context_similarity_depth_2\" : \"context weight level 2\", \n",
    "                      \"repeat_bias_1_back\" : \"repeat bias\",\n",
    "                      \"timeconstant_within_session_A\" : \"time constant\",\n",
    "                      \"timeconstant_within_session_C\" : \"time constant\"}\n",
    "\n",
    "ss = \"session_1_cd1_nb1\";\n",
    "summary_df = pd.read_pickle(\"Results/population/fit_summary_\" + ss + \".pkl\")\n",
    "summary_df.index.name = \"parameter\"\n",
    "summary_df = summary_df.reset_index()\n",
    "summary_df[\"parameter\"] = summary_df[\"parameter\"].map(parameter_name_map)\n",
    "data_fits  = pd.read_pickle(\"Results/population/fits_\" + ss + \".pkl\")\n",
    "data_fits.rename(columns=parameter_name_map, inplace=True)\n",
    "\n",
    "params = list(summary_df[\"parameter\"].unique());\n",
    "\n"
   ]
  },
  {
   "cell_type": "code",
   "execution_count": 15,
   "metadata": {},
   "outputs": [
    {
     "name": "stdout",
     "output_type": "stream",
     "text": [
      "concentration: p(diverse > uniform) = 0.6672943124999999\n",
      "time constant: p(diverse > uniform) = 0.867925125\n",
      "repeat bias: p(diverse > uniform) = 0.0929529375\n",
      "context weight level 1: p(diverse > uniform) = 0.9352765624999999\n"
     ]
    },
    {
     "name": "stderr",
     "output_type": "stream",
     "text": [
      "/home/latimerk/anaconda3/envs/JaiYuLab/lib/python3.10/site-packages/seaborn/axisgrid.py:123: UserWarning: The figure layout has changed to tight\n",
      "  self._figure.tight_layout(*args, **kwargs)\n"
     ]
    },
    {
     "data": {
      "text/plain": [
       "<seaborn.axisgrid.FacetGrid at 0x7f9984107040>"
      ]
     },
     "execution_count": 15,
     "metadata": {},
     "output_type": "execute_result"
    },
    {
     "data": {
      "image/png": "[encoded data removed]",
      "text/plain": [
       "<Figure size 1303.88x300 with 4 Axes>"
      ]
     },
     "metadata": {},
     "output_type": "display_data"
    }
   ],
   "source": [
    "pval_seed = 10;\n",
    "sim_rng = np.random.Generator(np.random.MT19937(pval_seed))\n",
    "\n",
    "pval = np.zeros((len(params)))\n",
    "for ii, param in enumerate(params):\n",
    "    #fit.hist(params[ii], by=\"subject\", ax=ax);\n",
    "    cat_type = CategoricalDtype(categories=[\"uniform\", \"diverse\"], ordered=True)\n",
    "    df_c = data_fits[[\"subject\", param]]\n",
    "    df_c = df_c.assign(subject_c= df_c[\"subject\"].astype(cat_type))\n",
    "    df_c['subject_c'].replace(['uniform', 'diverse'],\n",
    "                            [0, 1], inplace=True)\n",
    "    pval[ii] = roc_auc_score(df_c['subject_c'].to_numpy(), df_c[param].to_numpy())\n",
    "\n",
    "    print(f\"{param}: p(diverse > uniform) = {pval[ii]}\")\n",
    "\n",
    "\n",
    "df_c2 = data_fits.melt(value_vars=params, id_vars=[\"subject\"])\n",
    "df_c2.head()\n",
    "\n",
    "sns.displot(\n",
    "    df_c2, x=\"value\", col=\"parameters\", hue=\"subject\", palette=\"colorblind\",\n",
    "    height=3, facet_kws={\"margin_titles\": True, \"sharex\" :False},common_bins=False\n",
    ")\n"
   ]
  },
  {
   "cell_type": "code",
   "execution_count": null,
   "metadata": {},
   "outputs": [],
   "source": [
    "fit_df"
   ]
  }
 ],
 "metadata": {
  "kernelspec": {
   "display_name": "JaiYuLab",
   "language": "python",
   "name": "python3"
  },
  "language_info": {
   "codemirror_mode": {
    "name": "ipython",
    "version": 3
   },
   "file_extension": ".py",
   "mimetype": "text/x-python",
   "name": "python",
   "nbconvert_exporter": "python",
   "pygments_lexer": "ipython3",
   "version": "3.10.13"
  }
 },
 "nbformat": 4,
 "nbformat_minor": 2
}
