{
 "cells": [
  {
   "cell_type": "code",
   "execution_count": 1,
   "metadata": {},
   "outputs": [],
   "source": [
    "import nest_asyncio\n",
    "nest_asyncio.apply()\n",
    "\n",
    "from hddCRP.modelBuilder import cdCRP\n",
    "import numpy as np\n",
    "import pandas as pd\n",
    "import matplotlib.pyplot as plt\n",
    "import seaborn as sns\n",
    "import pickle\n",
    "from statannotations.Annotator import Annotator\n",
    "\n",
    "import os"
   ]
  },
  {
   "cell_type": "code",
   "execution_count": 2,
   "metadata": {},
   "outputs": [
    {
     "name": "stdout",
     "output_type": "stream",
     "text": [
      "subjects = ['A1', 'A2', 'B1', 'B2', 'C1', 'C2', 'D1', 'D2', 'E1', 'E2', 'F1', 'F2', 'G1', 'G2', 'H1', 'I1', 'I2', 'J1', 'J2']\n"
     ]
    }
   ],
   "source": [
    "session_numbers = [1]; # index by 1\n",
    "\n",
    "overwrite_existing_results = True\n",
    "results_directory = \"Results/individualFit/\"\n",
    "\n",
    "if(not os.path.exists(results_directory)):\n",
    "    os.makedirs(results_directory)\n",
    "\n",
    "context_depth = 1;\n",
    "nback_depth = 1;\n",
    "\n",
    "data_filename = 'data/Data_turns_all_by_session.pkl';\n",
    "with open(data_filename, 'rb') as data_file:\n",
    "    data = pickle.load(data_file)\n",
    "\n",
    "subjects = list(data[\"data\"].keys())\n",
    "subjects.sort()\n",
    "print(\"subjects = \" + str(subjects))\n",
    "\n",
    "action_labels = [0,1,2]"
   ]
  },
  {
   "cell_type": "code",
   "execution_count": 3,
   "metadata": {},
   "outputs": [
    {
     "name": "stdout",
     "output_type": "stream",
     "text": [
      "subject A1 \n"
     ]
    },
    {
     "ename": "RuntimeError",
     "evalue": "",
     "output_type": "error",
     "traceback": [
      "\u001b[0;31m---------------------------------------------------------------------------\u001b[0m",
      "\u001b[0;31mRuntimeError\u001b[0m                              Traceback (most recent call last)",
      "\u001b[1;32m/home/latimerk/gitCode/hddCRP/fit_rat_data_individual_model.ipynb Cell 3\u001b[0m line \u001b[0;36m3\n\u001b[1;32m     <a href='vscode-notebook-cell:/home/latimerk/gitCode/hddCRP/fit_rat_data_individual_model.ipynb#W2sZmlsZQ%3D%3D?line=33'>34</a>\u001b[0m model\u001b[39m.\u001b[39msame_nback_depth \u001b[39m=\u001b[39m nback_depth\n\u001b[1;32m     <a href='vscode-notebook-cell:/home/latimerk/gitCode/hddCRP/fit_rat_data_individual_model.ipynb#W2sZmlsZQ%3D%3D?line=34'>35</a>\u001b[0m model\u001b[39m.\u001b[39mcontext_depth \u001b[39m=\u001b[39m context_depth\n\u001b[0;32m---> <a href='vscode-notebook-cell:/home/latimerk/gitCode/hddCRP/fit_rat_data_individual_model.ipynb#W2sZmlsZQ%3D%3D?line=36'>37</a>\u001b[0m \u001b[39mraise\u001b[39;00m \u001b[39mRuntimeError\u001b[39;00m\n\u001b[1;32m     <a href='vscode-notebook-cell:/home/latimerk/gitCode/hddCRP/fit_rat_data_individual_model.ipynb#W2sZmlsZQ%3D%3D?line=38'>39</a>\u001b[0m \u001b[39m# fit with Stan\u001b[39;00m\n\u001b[1;32m     <a href='vscode-notebook-cell:/home/latimerk/gitCode/hddCRP/fit_rat_data_individual_model.ipynb#W2sZmlsZQ%3D%3D?line=39'>40</a>\u001b[0m model\u001b[39m.\u001b[39mbuild(random_seed\u001b[39m=\u001b[39mstan_seed);\n",
      "\u001b[0;31mRuntimeError\u001b[0m: "
     ]
    }
   ],
   "source": [
    "start_session = np.min(session_numbers)\n",
    "end_session = np.max(session_numbers)\n",
    "fit_file = f\"{results_directory}/fits_session_{start_session}\"\n",
    "fit_summary_file = f\"{results_directory}/fit_summary_session_{start_session}\"\n",
    "if(end_session != start_session):\n",
    "    fit_file += f\"_to_{start_session}\"\n",
    "    fit_summary_file  += f\"_to_{start_session}\"\n",
    "    \n",
    "if(nback_depth != 1 or context_depth != 2):\n",
    "    fit_file += f\"_cd{context_depth}_nb{nback_depth}\"\n",
    "    fit_summary_file  += f\"_cd{context_depth}_nb{nback_depth}\"\n",
    "\n",
    "fit_file += f\".pkl\"\n",
    "fit_summary_file += f\".pkl\"\n",
    "\n",
    "if(not os.path.isfile(fit_file) or overwrite_existing_results):\n",
    "    data_fits = pd.DataFrame()\n",
    "    data_fit_metrics = pd.DataFrame()\n",
    "    for subject_index, subject in enumerate(subjects):\n",
    "        print(f\"subject {subject} \")\n",
    "        sequences_0 = data[\"data\"][subject][\"data\"]; # turns in each session\n",
    "        session_types_0 = data[\"data\"][subject][\"task\"] # which maze\n",
    "\n",
    "        ii = list(np.where(np.array(session_types_0)=='C')[0][np.array(session_numbers)-1]) # sessions in map C\n",
    "        sequences     = [sequences_0[xx] for xx in ii]\n",
    "        session_types = [session_types_0[xx] for xx in ii]\n",
    "\n",
    "        stan_seed = (subject_index+1) * 1000 + start_session\n",
    "\n",
    "        # build model with given sequences\n",
    "        model = cdCRP(sequences, session_labels=session_types, subject_labels=subject, possible_observations=action_labels);\n",
    "\n",
    "        # set model depth\n",
    "        model.same_nback_depth = nback_depth\n",
    "        model.context_depth = context_depth\n",
    "\n",
    "        raise RuntimeError\n",
    "\n",
    "        # fit with Stan\n",
    "        model.build(random_seed=stan_seed);\n",
    "        model.fit_model()\n",
    "\n",
    "        map_fit = model.get_map()\n",
    "        fit_df  = model.fit.to_frame()\n",
    "        summary_df = model.fit_summary()\n",
    "\n",
    "        fit_df[\"subject\"] = subject\n",
    "        fit_df[\"start_session_C\"] = start_session\n",
    "        fit_df[\"end_session_C\"] = end_session\n",
    "        summary_df[\"subject\"] = subject\n",
    "        summary_df[\"MAP\"] = pd.Series(map_fit)\n",
    "        summary_df[\"start_session_C\"] = start_session\n",
    "        summary_df[\"end_session_C\"] = end_session\n",
    "\n",
    "        data_fit_metrics = pd.concat([data_fit_metrics,summary_df], copy=False)\n",
    "        data_fits = pd.concat([data_fits,fit_df], copy=False)\n",
    "\n",
    "    data_fits.to_pickle(fit_file)\n",
    "    data_fit_metrics.to_pickle(fit_summary_file)\n",
    "else:\n",
    "    print(\"fit file found\")\n",
    "\n"
   ]
  },
  {
   "cell_type": "code",
   "execution_count": 4,
   "metadata": {},
   "outputs": [
    {
     "name": "stdout",
     "output_type": "stream",
     "text": [
      "Building..."
     ]
    },
    {
     "name": "stderr",
     "output_type": "stream",
     "text": [
      "/home/latimerk/.cache/httpstan/4.10.1/models/draa4kh3/model_draa4kh3.cpp: In constructor ‘model_draa4kh3_namespace::model_draa4kh3::model_draa4kh3(stan::io::var_context&, unsigned int, std::ostream*)’:\n",
      "/home/latimerk/.cache/httpstan/4.10.1/models/draa4kh3/model_draa4kh3.cpp:608:17: warning: variable ‘bb_c’ set but not used [-Wunused-but-set-variable]\n",
      "             int bb_c = std::numeric_limits<int>::min();\n",
      "                 ^~~~\n",
      "In file included from /home/latimerk/anaconda3/envs/JaiYuLab/lib/python3.10/site-packages/httpstan/include/stan/math/prim/fun.hpp:124:0,\n",
      "                 from /home/latimerk/anaconda3/envs/JaiYuLab/lib/python3.10/site-packages/httpstan/include/stan/math/rev/fun/multiply.hpp:7,\n",
      "                 from /home/latimerk/anaconda3/envs/JaiYuLab/lib/python3.10/site-packages/httpstan/include/stan/math/rev/fun/elt_multiply.hpp:9,\n",
      "                 from /home/latimerk/anaconda3/envs/JaiYuLab/lib/python3.10/site-packages/httpstan/include/stan/math/rev/fun.hpp:55,\n",
      "                 from /home/latimerk/anaconda3/envs/JaiYuLab/lib/python3.10/site-packages/httpstan/include/stan/math/rev.hpp:10,\n",
      "                 from /home/latimerk/anaconda3/envs/JaiYuLab/lib/python3.10/site-packages/httpstan/include/stan/math.hpp:19,\n",
      "                 from /home/latimerk/anaconda3/envs/JaiYuLab/lib/python3.10/site-packages/httpstan/include/stan/model/model_header.hpp:4,\n",
      "                 from /home/latimerk/.cache/httpstan/4.10.1/models/draa4kh3/model_draa4kh3.cpp:2:\n",
      "/home/latimerk/anaconda3/envs/JaiYuLab/lib/python3.10/site-packages/httpstan/include/stan/math/prim/fun/grad_2F1.hpp: In instantiation of ‘TupleT stan::math::internal::grad_2F1_impl(const T1&, const T2&, const T3&, const T_z&, double, int) [with bool calc_a1 = true; bool calc_a2 = true; bool calc_b1 = true; bool calc_z = true; T1 = double; T2 = double; T3 = double; T_z = double; ScalarT = double; TupleT = std::tuple<double, double, double, double>]’:\n",
      "/home/latimerk/anaconda3/envs/JaiYuLab/lib/python3.10/site-packages/httpstan/include/stan/math/prim/fun/grad_2F1.hpp:307:57:   required from ‘auto stan::math::grad_2F1(const T1&, const T2&, const T3&, const T_z&, double, int) [with bool ReturnSameT = true; T1 = double; T2 = double; T3 = double; T_z = double; stan::require_t<std::integral_constant<bool, __v> >* <anonymous> = 0]’\n",
      "/home/latimerk/anaconda3/envs/JaiYuLab/lib/python3.10/site-packages/httpstan/include/stan/math/prim/fun/grad_inc_beta.hpp:37:46:   required from here\n",
      "/home/latimerk/anaconda3/envs/JaiYuLab/lib/python3.10/site-packages/httpstan/include/stan/math/prim/fun/grad_2F1.hpp:192:12: warning: unused variable ‘pre_mult’ [-Wunused-variable]\n",
      "       auto pre_mult = a2 * pow(1 - z, -1 - a2);\n",
      "            ^~~~~~~~\n",
      "/home/latimerk/anaconda3/envs/JaiYuLab/lib/python3.10/site-packages/httpstan/include/stan/math/prim/fun/grad_2F1.hpp: In instantiation of ‘TupleT stan::math::internal::grad_2F1_impl(const T1&, const T2&, const T3&, const T_z&, double, int) [with bool calc_a1 = true; bool calc_a2 = true; bool calc_b1 = true; bool calc_z = true; T1 = stan::math::var_value<double>; T2 = stan::math::var_value<double>; T3 = stan::math::var_value<double>; T_z = stan::math::var_value<double>; ScalarT = stan::math::var_value<double>; TupleT = std::tuple<stan::math::var_value<double, void>, stan::math::var_value<double, void>, stan::math::var_value<double, void>, stan::math::var_value<double, void> >]’:\n",
      "/home/latimerk/anaconda3/envs/JaiYuLab/lib/python3.10/site-packages/httpstan/include/stan/math/prim/fun/grad_2F1.hpp:307:57:   required from ‘auto stan::math::grad_2F1(const T1&, const T2&, const T3&, const T_z&, double, int) [with bool ReturnSameT = true; T1 = stan::math::var_value<double>; T2 = stan::math::var_value<double>; T3 = stan::math::var_value<double>; T_z = stan::math::var_value<double>; stan::require_t<std::integral_constant<bool, __v> >* <anonymous> = 0]’\n",
      "/home/latimerk/anaconda3/envs/JaiYuLab/lib/python3.10/site-packages/httpstan/include/stan/math/rev/fun/grad_inc_beta.hpp:49:51:   required from here\n",
      "/home/latimerk/anaconda3/envs/JaiYuLab/lib/python3.10/site-packages/httpstan/include/stan/math/prim/fun/grad_2F1.hpp:192:12: warning: variable ‘pre_mult’ set but not used [-Wunused-but-set-variable]\n",
      "/home/latimerk/.cache/httpstan/4.10.1/models/draa4kh3/model_draa4kh3.cpp: In instantiation of ‘void model_draa4kh3_namespace::model_draa4kh3::transform_inits_impl(const stan::io::var_context&, VecVar&, std::ostream*) const [with VecVar = std::vector<double, std::allocator<double> >; stan::require_vector_t<T_y>* <anonymous> = 0; std::ostream = std::basic_ostream<char>]’:\n",
      "/home/latimerk/.cache/httpstan/4.10.1/models/draa4kh3/model_draa4kh3.cpp:1177:50:   required from here\n",
      "/home/latimerk/.cache/httpstan/4.10.1/models/draa4kh3/model_draa4kh3.cpp:1025:11: warning: variable ‘pos__’ set but not used [-Wunused-but-set-variable]\n",
      "       int pos__ = std::numeric_limits<int>::min();\n",
      "           ^~~~~\n",
      "/home/latimerk/.cache/httpstan/4.10.1/models/draa4kh3/model_draa4kh3.cpp: In instantiation of ‘void model_draa4kh3_namespace::model_draa4kh3::unconstrain_array_impl(const VecVar&, const VecI&, VecVar&, std::ostream*) const [with VecVar = std::vector<double, std::allocator<double> >; VecI = std::vector<int>; stan::require_vector_t<T_y>* <anonymous> = 0; stan::require_vector_like_vt<std::is_integral, VecI>* <anonymous> = 0; std::ostream = std::basic_ostream<char>]’:\n",
      "/home/latimerk/.cache/httpstan/4.10.1/models/draa4kh3/model_draa4kh3.cpp:1187:36:   required from here\n",
      "/home/latimerk/.cache/httpstan/4.10.1/models/draa4kh3/model_draa4kh3.cpp:980:11: warning: variable ‘pos__’ set but not used [-Wunused-but-set-variable]\n",
      "       int pos__ = std::numeric_limits<int>::min();\n",
      "           ^~~~~\n",
      "/home/latimerk/.cache/httpstan/4.10.1/models/draa4kh3/model_draa4kh3.cpp: In instantiation of ‘void model_draa4kh3_namespace::model_draa4kh3::unconstrain_array_impl(const VecVar&, const VecI&, VecVar&, std::ostream*) const [with VecVar = Eigen::Matrix<double, -1, 1>; VecI = std::vector<int>; stan::require_vector_t<T_y>* <anonymous> = 0; stan::require_vector_like_vt<std::is_integral, VecI>* <anonymous> = 0; std::ostream = std::basic_ostream<char>]’:\n",
      "/home/latimerk/.cache/httpstan/4.10.1/models/draa4kh3/model_draa4kh3.cpp:1197:36:   required from here\n",
      "/home/latimerk/.cache/httpstan/4.10.1/models/draa4kh3/model_draa4kh3.cpp:980:11: warning: variable ‘pos__’ set but not used [-Wunused-but-set-variable]\n",
      "In file included from /home/latimerk/anaconda3/envs/JaiYuLab/lib/python3.10/site-packages/httpstan/include/stan/math/prim/fun.hpp:124:0,\n",
      "                 from /home/latimerk/anaconda3/envs/JaiYuLab/lib/python3.10/site-packages/httpstan/include/stan/math/rev/fun/multiply.hpp:7,\n",
      "                 from /home/latimerk/anaconda3/envs/JaiYuLab/lib/python3.10/site-packages/httpstan/include/stan/math/rev/fun/elt_multiply.hpp:9,\n",
      "                 from /home/latimerk/anaconda3/envs/JaiYuLab/lib/python3.10/site-packages/httpstan/include/stan/math/rev/fun.hpp:55,\n",
      "                 from /home/latimerk/anaconda3/envs/JaiYuLab/lib/python3.10/site-packages/httpstan/include/stan/math/rev.hpp:10,\n",
      "                 from /home/latimerk/anaconda3/envs/JaiYuLab/lib/python3.10/site-packages/httpstan/include/stan/math.hpp:19,\n",
      "                 from /home/latimerk/anaconda3/envs/JaiYuLab/lib/python3.10/site-packages/httpstan/include/stan/model/model_header.hpp:4,\n",
      "                 from /home/latimerk/.cache/httpstan/4.10.1/models/draa4kh3/model_draa4kh3.cpp:2:\n",
      "/home/latimerk/anaconda3/envs/JaiYuLab/lib/python3.10/site-packages/httpstan/include/stan/math/prim/fun/grad_2F1.hpp: In instantiation of ‘TupleT stan::math::internal::grad_2F1_impl_ab(const T1&, const T2&, const T3&, const T_z&, double, int) [with bool calc_a1 = true; bool calc_a2 = true; bool calc_b1 = true; T1 = double; T2 = double; T3 = double; T_z = double; ScalarT = double; TupleT = std::tuple<double, double, double>]’:\n",
      "/home/latimerk/anaconda3/envs/JaiYuLab/lib/python3.10/site-packages/httpstan/include/stan/math/prim/fun/grad_2F1.hpp:205:78:   required from ‘TupleT stan::math::internal::grad_2F1_impl(const T1&, const T2&, const T3&, const T_z&, double, int) [with bool calc_a1 = true; bool calc_a2 = true; bool calc_b1 = true; bool calc_z = true; T1 = double; T2 = double; T3 = double; T_z = double; ScalarT = double; TupleT = std::tuple<double, double, double, double>]’\n",
      "/home/latimerk/anaconda3/envs/JaiYuLab/lib/python3.10/site-packages/httpstan/include/stan/math/prim/fun/grad_2F1.hpp:307:57:   required from ‘auto stan::math::grad_2F1(const T1&, const T2&, const T3&, const T_z&, double, int) [with bool ReturnSameT = true; T1 = double; T2 = double; T3 = double; T_z = double; stan::require_t<std::integral_constant<bool, __v> >* <anonymous> = 0]’\n",
      "/home/latimerk/anaconda3/envs/JaiYuLab/lib/python3.10/site-packages/httpstan/include/stan/math/prim/fun/grad_inc_beta.hpp:37:46:   required from here\n",
      "/home/latimerk/anaconda3/envs/JaiYuLab/lib/python3.10/site-packages/httpstan/include/stan/math/prim/fun/grad_2F1.hpp:68:10: warning: unused variable ‘log_precision’ [-Wunused-variable]\n",
      "   double log_precision = log(precision);\n",
      "          ^~~~~~~~~~~~~\n",
      "/home/latimerk/anaconda3/envs/JaiYuLab/lib/python3.10/site-packages/httpstan/include/stan/math/prim/fun/grad_2F1.hpp: In instantiation of ‘TupleT stan::math::internal::grad_2F1_impl_ab(const T1&, const T2&, const T3&, const T_z&, double, int) [with bool calc_a1 = true; bool calc_a2 = true; bool calc_b1 = true; T1 = stan::math::var_value<double>; T2 = stan::math::var_value<double>; T3 = stan::math::var_value<double>; T_z = stan::math::var_value<double>; ScalarT = stan::math::var_value<double>; TupleT = std::tuple<stan::math::var_value<double, void>, stan::math::var_value<double, void>, stan::math::var_value<double, void> >]’:\n",
      "/home/latimerk/anaconda3/envs/JaiYuLab/lib/python3.10/site-packages/httpstan/include/stan/math/prim/fun/grad_2F1.hpp:205:78:   required from ‘TupleT stan::math::internal::grad_2F1_impl(const T1&, const T2&, const T3&, const T_z&, double, int) [with bool calc_a1 = true; bool calc_a2 = true; bool calc_b1 = true; bool calc_z = true; T1 = stan::math::var_value<double>; T2 = stan::math::var_value<double>; T3 = stan::math::var_value<double>; T_z = stan::math::var_value<double>; ScalarT = stan::math::var_value<double>; TupleT = std::tuple<stan::math::var_value<double, void>, stan::math::var_value<double, void>, stan::math::var_value<double, void>, stan::math::var_value<double, void> >]’\n",
      "/home/latimerk/anaconda3/envs/JaiYuLab/lib/python3.10/site-packages/httpstan/include/stan/math/prim/fun/grad_2F1.hpp:307:57:   required from ‘auto stan::math::grad_2F1(const T1&, const T2&, const T3&, const T_z&, double, int) [with bool ReturnSameT = true; T1 = stan::math::var_value<double>; T2 = stan::math::var_value<double>; T3 = stan::math::var_value<double>; T_z = stan::math::var_value<double>; stan::require_t<std::integral_constant<bool, __v> >* <anonymous> = 0]’\n",
      "/home/latimerk/anaconda3/envs/JaiYuLab/lib/python3.10/site-packages/httpstan/include/stan/math/rev/fun/grad_inc_beta.hpp:49:51:   required from here\n",
      "/home/latimerk/anaconda3/envs/JaiYuLab/lib/python3.10/site-packages/httpstan/include/stan/math/prim/fun/grad_2F1.hpp:68:10: warning: unused variable ‘log_precision’ [-Wunused-variable]\n"
     ]
    },
    {
     "name": "stdout",
     "output_type": "stream",
     "text": [
      "\n"
     ]
    },
    {
     "name": "stderr",
     "output_type": "stream",
     "text": [
      "\n",
      "Building: 35.2s, done.Messages from stanc:\n",
      "Warning: The parameter timeconstant_within_session_C has no priors. This\n",
      "    means either no prior is provided, or the prior(s) depend on data\n",
      "    variables. In the later case, this may be a false positive.\n",
      "Warning: The parameter repeat_bias_1_back has no priors. This means either no\n",
      "    prior is provided, or the prior(s) depend on data variables. In the later\n",
      "    case, this may be a false positive.\n",
      "Warning: The parameter context_similarity_depth_1 has no priors. This means\n",
      "    either no prior is provided, or the prior(s) depend on data variables. In\n",
      "    the later case, this may be a false positive.\n",
      "Warning: The parameter alpha has no priors. This means either no prior is\n",
      "    provided, or the prior(s) depend on data variables. In the later case,\n",
      "    this may be a false positive.\n",
      "Sampling:   0%\n",
      "Sampling:   0% (1/8000)\n",
      "Sampling:   0% (2/8000)\n",
      "Sampling:   0% (3/8000)\n",
      "Sampling:   0% (4/8000)\n",
      "Sampling:   1% (103/8000)\n",
      "Sampling:   3% (202/8000)\n",
      "Sampling:   4% (302/8000)\n",
      "Sampling:   6% (501/8000)\n",
      "Sampling:   8% (600/8000)\n",
      "Sampling:  10% (800/8000)\n",
      "Sampling:  11% (900/8000)\n",
      "Sampling:  12% (1000/8000)\n",
      "Sampling:  15% (1200/8000)\n",
      "Sampling:  16% (1300/8000)\n",
      "Sampling:  19% (1500/8000)\n",
      "Sampling:  21% (1700/8000)\n",
      "Sampling:  24% (1900/8000)\n",
      "Sampling:  26% (2100/8000)\n",
      "Sampling:  28% (2200/8000)\n",
      "Sampling:  29% (2300/8000)\n",
      "Sampling:  30% (2400/8000)\n",
      "Sampling:  32% (2600/8000)\n",
      "Sampling:  35% (2800/8000)\n",
      "Sampling:  38% (3000/8000)\n",
      "Sampling:  40% (3200/8000)\n",
      "Sampling:  55% (4400/8000)\n",
      "Sampling:  70% (5600/8000)\n",
      "Sampling:  85% (6800/8000)\n",
      "Sampling: 100% (8000/8000)\n",
      "Sampling: 100% (8000/8000), done.\n",
      "Messages received during sampling:\n",
      "  Gradient evaluation took 0.0032 seconds\n",
      "  1000 transitions using 10 leapfrog steps per transition would take 32 seconds.\n",
      "  Adjust your expectations accordingly!\n",
      "  Informational Message: The current Metropolis proposal is about to be rejected because of the following issue:\n",
      "  Exception: gamma_lpdf: Random variable is inf, but must be positive finite! (in '/tmp/httpstan_6qksyn33/model_draa4kh3.stan', line 120, column 4 to column 121)\n",
      "  If this warning occurs sporadically, such as for highly constrained variable types like covariance matrices, then the sampler is fine,\n",
      "  but if this warning occurs often then your model may be either severely ill-conditioned or misspecified.\n",
      "  Informational Message: The current Metropolis proposal is about to be rejected because of the following issue:\n",
      "  Exception: bernoulli_lpmf: Probability parameter[1] is -nan, but must be in the interval [0, 1] (in '/tmp/httpstan_6qksyn33/model_draa4kh3.stan', line 137, column 4 to column 22)\n",
      "  If this warning occurs sporadically, such as for highly constrained variable types like covariance matrices, then the sampler is fine,\n",
      "  but if this warning occurs often then your model may be either severely ill-conditioned or misspecified.\n",
      "  Gradient evaluation took 0.00196 seconds\n",
      "  1000 transitions using 10 leapfrog steps per transition would take 19.6 seconds.\n",
      "  Adjust your expectations accordingly!\n",
      "  Informational Message: The current Metropolis proposal is about to be rejected because of the following issue:\n",
      "  Exception: bernoulli_lpmf: Probability parameter[1] is -nan, but must be in the interval [0, 1] (in '/tmp/httpstan_6qksyn33/model_draa4kh3.stan', line 137, column 4 to column 22)\n",
      "  If this warning occurs sporadically, such as for highly constrained variable types like covariance matrices, then the sampler is fine,\n",
      "  but if this warning occurs often then your model may be either severely ill-conditioned or misspecified.\n",
      "  Gradient evaluation took 0.002352 seconds\n",
      "  1000 transitions using 10 leapfrog steps per transition would take 23.52 seconds.\n",
      "  Adjust your expectations accordingly!\n",
      "  Gradient evaluation took 0.002226 seconds\n",
      "  1000 transitions using 10 leapfrog steps per transition would take 22.26 seconds.\n",
      "  Adjust your expectations accordingly!\n",
      "  Informational Message: The current Metropolis proposal is about to be rejected because of the following issue:\n",
      "  Exception: gamma_lpdf: Random variable is 0, but must be positive finite! (in '/tmp/httpstan_6qksyn33/model_draa4kh3.stan', line 120, column 4 to column 121)\n",
      "  If this warning occurs sporadically, such as for highly constrained variable types like covariance matrices, then the sampler is fine,\n",
      "  but if this warning occurs often then your model may be either severely ill-conditioned or misspecified.\n",
      "  Informational Message: The current Metropolis proposal is about to be rejected because of the following issue:\n",
      "  Exception: bernoulli_lpmf: Probability parameter[1] is -nan, but must be in the interval [0, 1] (in '/tmp/httpstan_6qksyn33/model_draa4kh3.stan', line 137, column 4 to column 22)\n",
      "  If this warning occurs sporadically, such as for highly constrained variable types like covariance matrices, then the sampler is fine,\n",
      "  but if this warning occurs often then your model may be either severely ill-conditioned or misspecified.\n"
     ]
    },
    {
     "data": {
      "text/plain": [
       "<stan.Fit>\n",
       "Parameters:\n",
       "    alpha: ()\n",
       "    timeconstant_within_session_C: ()\n",
       "    repeat_bias_1_back: ()\n",
       "    context_similarity_depth_1: ()\n",
       "    log_likelihood: (1,)\n",
       "Draws: 4000"
      ]
     },
     "execution_count": 4,
     "metadata": {},
     "output_type": "execute_result"
    }
   ],
   "source": [
    "# print(model.model)\n",
    "model.build(random_seed=stan_seed);\n",
    "model.fit_model()\n",
    "    "
   ]
  },
  {
   "cell_type": "code",
   "execution_count": 26,
   "metadata": {},
   "outputs": [
    {
     "name": "stderr",
     "output_type": "stream",
     "text": [
      "/home/latimerk/anaconda3/envs/JaiYuLab/lib/python3.10/site-packages/arviz/stats/stats.py:1673: UserWarning: The point-wise WAIC is the same with the sum WAIC, please double check\n",
      "            the Observed RV in your model to make sure it returns element-wise logp.\n",
      "            \n",
      "  warnings.warn(\n"
     ]
    },
    {
     "data": {
      "text/plain": [
       "Computed from 4000 posterior samples and 1 observations log-likelihood matrix.\n",
       "\n",
       "          Estimate       SE\n",
       "elpd_waic   -55.00     0.00\n",
       "p_waic        0.26        -"
      ]
     },
     "execution_count": 26,
     "metadata": {},
     "output_type": "execute_result"
    }
   ],
   "source": []
  },
  {
   "cell_type": "code",
   "execution_count": null,
   "metadata": {},
   "outputs": [],
   "source": [
    "fit_summary = pd.read_pickle(fit_summary_file)\n",
    "group_names = np.array([\"uniform\", \"diverse\"])\n",
    "\n",
    "mapping = {}\n",
    "for jj in range(2):\n",
    "    for ii in data[\"group_definition\"][group_names[jj]]:\n",
    "        mapping[ii] = group_names[jj]\n",
    "fit_summary[\"group\"] = fit_summary[\"subject\"].map(mapping)\n",
    "\n",
    "params = list(fit_summary.index.unique())\n",
    "\n",
    "fit_summary.index.name = 'parameter'\n",
    "fit_summary = fit_summary.reset_index()\n",
    "\n",
    "estimator_to_plot = \"median\"\n",
    "\n",
    "formatted_fit = fit_summary.pivot(index=\"subject\", columns=[\"parameter\"],values=[estimator_to_plot]).droplevel(0,axis=1)\n",
    "formatted_fit[\"group\"] = fit_summary[[\"group\",\"subject\"]].drop_duplicates(\"subject\").set_index(\"subject\")\n",
    "\n",
    "#     print(fit_summary[\"median\"][fit_summary[\"parameter\"] == ii])\n",
    "plt.figure(figsize=(10,6))\n",
    "g = sns.PairGrid(formatted_fit, hue=\"group\")\n",
    "g.map_upper(sns.scatterplot)\n",
    "g.map_diag(sns.histplot)\n",
    "g.add_legend()\n",
    "# fit_summary[[\"median\",\"subject\"]].set_index(\"subject\")"
   ]
  },
  {
   "cell_type": "code",
   "execution_count": null,
   "metadata": {},
   "outputs": [],
   "source": [
    "\n",
    "grps = [[\"timeconstant_within_session_C\"], [\"alpha\"], [\"repeat_bias_1_back\", \"context_similarity_depth_1\", \"context_similarity_depth_2\"]]\n",
    "ii = 0\n",
    "plt.figure(figsize=(len(grps[ii])*3,4))\n",
    "fit_summary2 = fit_summary[[\"group\", estimator_to_plot, \"parameter\"]]\n",
    "ax = sns.boxplot(data=fit_summary2, x=\"parameter\", y=estimator_to_plot, order=grps[ii], hue_order=[\"uniform\", \"diverse\"],\n",
    "            hue=\"group\")\n",
    "\n",
    "pairs = [((xx, \"uniform\"), (xx, \"diverse\")) for xx in grps[ii]]\n",
    "annot = Annotator(ax, pairs=pairs, data=fit_summary2, x=\"parameter\", y=estimator_to_plot, order=grps[ii], hue=\"group\", hue_order=[\"uniform\", \"diverse\"])\n",
    "#Annotator.new_plot(ax=ax, pairs=pairs, data=fit_summary2, x=\"parameter\", y=estimator_to_plot, order=grps[ii], hue=\"group\", hue_order=[\"uniform\", \"diverse\"])\n",
    "annot.configure(test='Mann-Whitney', verbose=2, text_format='simple')\n",
    "annot.apply_test()\n",
    "annot.annotate()\n",
    "sp = sns.stripplot(data=fit_summary2,  x=\"parameter\", y=estimator_to_plot, hue=\"group\", order=grps[ii], hue_order=[\"uniform\", \"diverse\"],\n",
    "              dodge=True, size=6, alpha=1,  edgecolor=[0,0,0], linewidth=0.5)\n",
    "sns.despine(offset=5, trim=True);\n",
    "plt.xlabel(None);\n"
   ]
  },
  {
   "cell_type": "code",
   "execution_count": null,
   "metadata": {},
   "outputs": [],
   "source": [
    "ii = 1\n",
    "plt.figure(figsize=(len(grps[ii])*3,4))\n",
    "ax = sns.boxplot(x=\"parameter\", y=estimator_to_plot, order=grps[ii], hue_order=[\"uniform\", \"diverse\"],\n",
    "            hue=\"group\",\n",
    "            data=fit_summary2)\n",
    "\n",
    "pairs = [((xx, \"uniform\"), (xx, \"diverse\")) for xx in grps[ii]]\n",
    "annot = Annotator(ax, pairs=pairs, data=fit_summary2, x=\"parameter\", y=estimator_to_plot, order=grps[ii], hue=\"group\", hue_order=[\"uniform\", \"diverse\"])\n",
    "annot.configure(test='Mann-Whitney', verbose=2, text_format='simple')\n",
    "\n",
    "annot.apply_test()\n",
    "annot.annotate()\n",
    "\n",
    "sns.stripplot(data=fit_summary2, x=\"parameter\", y=estimator_to_plot, hue=\"group\", size=6, order=grps[ii], hue_order=[\"uniform\", \"diverse\"],\n",
    "             dodge=True, alpha=1,  edgecolor=[0,0,0], linewidth=0.5)\n",
    "sns.despine(offset=5, trim=True)\n",
    "plt.xlabel(None)"
   ]
  },
  {
   "cell_type": "code",
   "execution_count": null,
   "metadata": {},
   "outputs": [],
   "source": [
    "ii = 2\n",
    "plt.figure(figsize=(len(grps[ii])*3,4))\n",
    "ax = sns.boxplot(x=\"parameter\", y=estimator_to_plot, order=grps[ii], hue_order=[\"uniform\", \"diverse\"],\n",
    "            hue=\"group\",\n",
    "            data=fit_summary2)\n",
    "\n",
    "pairs = [((xx, \"uniform\"), (xx, \"diverse\")) for xx in grps[ii]]\n",
    "annot = Annotator(ax, pairs=pairs, data=fit_summary2, x=\"parameter\", y=estimator_to_plot, order=grps[ii], hue=\"group\", hue_order=[\"uniform\", \"diverse\"])\n",
    "#Annotator.new_plot(ax=ax, pairs=pairs, data=fit_summary2, x=\"parameter\", y=estimator_to_plot, order=grps[ii], hue=\"group\", hue_order=[\"uniform\", \"diverse\"])\n",
    "annot.configure(test='Mann-Whitney', verbose=2, text_format='simple')\n",
    "annot.apply_test()\n",
    "annot.annotate()\n",
    "sns.stripplot(data=fit_summary2, x=\"parameter\", y=estimator_to_plot, hue=\"group\", size=6, order=grps[ii], hue_order=[\"uniform\", \"diverse\"],\n",
    "             dodge=True, alpha=1,  edgecolor=[0,0,0], linewidth=0.5)\n",
    "sns.despine(offset=5, trim=True)\n",
    "plt.xlabel(None)"
   ]
  },
  {
   "cell_type": "code",
   "execution_count": null,
   "metadata": {},
   "outputs": [],
   "source": [
    "fit_summary.head()"
   ]
  },
  {
   "cell_type": "code",
   "execution_count": null,
   "metadata": {},
   "outputs": [],
   "source": [
    "x = fit_summary.pivot(index=\"subject\", columns=[\"parameter\"],values=[estimator_to_plot]).droplevel(0,axis=1)\n",
    "x[\"group\"] = fit_summary[[\"group\",\"subject\"]].drop_duplicates(\"subject\").set_index(\"subject\")\n",
    "# fit_summary.pivot(index=\"subject\", columns=[\"parameter\"], values=[\"group\"])\n",
    "x"
   ]
  },
  {
   "cell_type": "code",
   "execution_count": null,
   "metadata": {},
   "outputs": [],
   "source": []
  },
  {
   "cell_type": "code",
   "execution_count": null,
   "metadata": {},
   "outputs": [],
   "source": []
  }
 ],
 "metadata": {
  "kernelspec": {
   "display_name": "JaiYuLab",
   "language": "python",
   "name": "python3"
  },
  "language_info": {
   "codemirror_mode": {
    "name": "ipython",
    "version": 3
   },
   "file_extension": ".py",
   "mimetype": "text/x-python",
   "name": "python",
   "nbconvert_exporter": "python",
   "pygments_lexer": "ipython3",
   "version": "3.10.13"
  }
 },
 "nbformat": 4,
 "nbformat_minor": 2
}
