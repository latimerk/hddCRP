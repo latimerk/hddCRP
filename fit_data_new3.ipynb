{
 "cells": [
  {
   "cell_type": "code",
   "execution_count": 1,
   "metadata": {},
   "outputs": [],
   "source": [
    "import nest_asyncio\n",
    "nest_asyncio.apply()\n",
    "\n",
    "import numpy as np\n",
    "import matplotlib.pyplot as plt\n",
    "import pandas as pd\n",
    "import seaborn as sns\n",
    "import hddCRP.dataLoader as dl\n",
    "import hddCRP.newContextModel2 as crp\n",
    "import os\n",
    "import scipy.stats as stats "
   ]
  },
  {
   "cell_type": "code",
   "execution_count": 2,
   "metadata": {},
   "outputs": [
    {
     "name": "stdout",
     "output_type": "stream",
     "text": [
      "['diverse_TH', 'diverse_HT', 'uniform_H', 'uniform_T', 'diverse', 'uniform']\n"
     ]
    }
   ],
   "source": [
    "print(dl.grp_names_all)\n",
    "\n",
    "results_directory = \"Results/populationNew2/\"\n",
    "if(not os.path.exists(results_directory)):\n",
    "    os.makedirs(results_directory)\n",
    "\n",
    "OVERWRITE = True\n",
    "N_trials = 50"
   ]
  },
  {
   "cell_type": "code",
   "execution_count": 3,
   "metadata": {},
   "outputs": [
    {
     "data": {
      "text/plain": [
       "array([-54.44178094, -55.81388969, -55.94093822, -54.17326767,\n",
       "       -53.99380047, -55.4404435 , -53.85050134, -56.36123022,\n",
       "       -49.05872917])"
      ]
     },
     "execution_count": 3,
     "metadata": {},
     "output_type": "execute_result"
    }
   ],
   "source": [
    "group = 'diverse'\n",
    "model = crp.create_pop_model(group, n_trials=N_trials)\n",
    "\n",
    "timescale = np.inf\n",
    "context_a = 0.75;\n",
    "context_b = 0.75\n",
    "alpha = np.ones((3))*5/3\n",
    "subject_similarity = 0\n",
    "\n",
    "lls = model.compute_log_likelihood(timescale=timescale, context_a=context_a, context_b=context_b, alpha=alpha, subject_similarity=subject_similarity)\n",
    "\n",
    "lls.sum(axis=0)"
   ]
  },
  {
   "cell_type": "code",
   "execution_count": 4,
   "metadata": {},
   "outputs": [],
   "source": [
    "# P = {}\n",
    "# for group in ['uniform', 'diverse']:\n",
    "#     model = crp.create_pop_model(group, n_trials=N_trials)\n",
    "#     timescale = np.inf\n",
    "#     context_b = 1.0;\n",
    "#     alpha = np.ones((3))*6/3\n",
    "#     subject_similarity = 0.0\n",
    "\n",
    "#     context_as = np.linspace(0,1,20)\n",
    "#     lls = np.zeros((context_as.size, model.K))\n",
    "\n",
    "\n",
    "#     for ii, context_a in enumerate(context_as):\n",
    "\n",
    "#         ll_c = model.compute_log_likelihood(timescale=timescale, context_a=context_a, context_b=context_b, alpha=alpha, subject_similarity=subject_similarity)\n",
    "\n",
    "#         lls[ii,:] = ll_c.sum(axis=0)\n",
    "\n",
    "#     P[group] = lls\n"
   ]
  },
  {
   "cell_type": "code",
   "execution_count": 5,
   "metadata": {},
   "outputs": [],
   "source": [
    "# d_div =P[\"diverse\"][-1,:] - P[\"diverse\"][0,:]\n",
    "# d_uni = P[\"uniform\"][-1,:] - P[\"uniform\"][0,:]\n",
    "# # plt.plot(context_as,lls)\n",
    "# plt.figure(figsize=(12,8))\n",
    "# plt.subplot(2,3,1)\n",
    "# plt.plot(context_as, P[\"uniform\"].mean(axis=1),'b')\n",
    "# plt.plot(context_as, P[\"diverse\"].mean(axis=1),'r')\n",
    "# plt.plot(context_as, np.ones_like(context_as)*np.log(1/3)*N_trials,'k:')\n",
    "# plt.subplot(2,3,2)\n",
    "# plt.plot(context_as, P[\"uniform\"])\n",
    "# plt.plot(context_as, np.ones_like(context_as)*np.log(1/3)*N_trials,'k:')\n",
    "# plt.subplot(2,3,3)\n",
    "# plt.plot(context_as, P[\"diverse\"])\n",
    "# plt.plot(context_as, np.ones_like(context_as)*np.log(1/3)*N_trials,'k:')\n",
    "# plt.subplot(2,3,5)\n",
    "# plt.hist(d_uni)\n",
    "# plt.subplot(2,3,6)\n",
    "# plt.hist(d_div)\n",
    "\n",
    "# stats.mannwhitneyu(d_div, d_uni)"
   ]
  },
  {
   "cell_type": "code",
   "execution_count": 16,
   "metadata": {},
   "outputs": [
    {
     "data": {
      "text/plain": [
       "array([-53.88783387, -52.8876574 , -54.85767196, -53.72253514,\n",
       "       -60.56867119])"
      ]
     },
     "execution_count": 16,
     "metadata": {},
     "output_type": "execute_result"
    }
   ],
   "source": [
    "L = {}\n",
    "\n",
    "a1 = 1\n",
    "a2 = 1\n",
    "\n",
    "for group in ['uniform_T', 'uniform_H', 'diverse_HT', 'diverse_TH']:\n",
    "    model = crp.create_pop_model(group, n_trials=N_trials)\n",
    "    ll_c = np.zeros((model.K, 4))\n",
    "\n",
    "    context_a = 1\n",
    "    context_b = 1\n",
    "    ll_c[:,0] = model.compute_cross_val_test(context_a, context_b, a1, a2)\n",
    "    context_a = 1\n",
    "    context_b = 0\n",
    "    ll_c[:,1] = model.compute_cross_val_test(context_a, context_b, a1, a2)\n",
    "    context_a = 0\n",
    "    context_b = 1\n",
    "    ll_c[:,2] = model.compute_cross_val_test(context_a, context_b, a1, a2)\n",
    "    context_a = 0\n",
    "    context_b = 0\n",
    "    ll_c[:,3] = model.compute_cross_val_test(context_a, context_b, a1, a2)"
   ]
  },
  {
   "cell_type": "code",
   "execution_count": 7,
   "metadata": {},
   "outputs": [
    {
     "ename": "RuntimeError",
     "evalue": "",
     "output_type": "error",
     "traceback": [
      "\u001b[0;31m---------------------------------------------------------------------------\u001b[0m",
      "\u001b[0;31mRuntimeError\u001b[0m                              Traceback (most recent call last)",
      "\u001b[1;32m/home/latimerk/gitCode/hddCRP/fit_data_new3.ipynb Cell 7\u001b[0m line \u001b[0;36m1\n\u001b[0;32m----> <a href='vscode-notebook-cell:/home/latimerk/gitCode/hddCRP/fit_data_new3.ipynb#W1sZmlsZQ%3D%3D?line=0'>1</a>\u001b[0m \u001b[39mraise\u001b[39;00m \u001b[39mRuntimeError\u001b[39;00m\n\u001b[1;32m      <a href='vscode-notebook-cell:/home/latimerk/gitCode/hddCRP/fit_data_new3.ipynb#W1sZmlsZQ%3D%3D?line=1'>2</a>\u001b[0m fit_file \u001b[39m=\u001b[39m \u001b[39mf\u001b[39m\u001b[39m\"\u001b[39m\u001b[39m{\u001b[39;00mresults_directory\u001b[39m}\u001b[39;00m\u001b[39m/fit\u001b[39m\u001b[39m\"\u001b[39m\n\u001b[1;32m      <a href='vscode-notebook-cell:/home/latimerk/gitCode/hddCRP/fit_data_new3.ipynb#W1sZmlsZQ%3D%3D?line=2'>3</a>\u001b[0m fit_summary_file \u001b[39m=\u001b[39m \u001b[39mf\u001b[39m\u001b[39m\"\u001b[39m\u001b[39m{\u001b[39;00mresults_directory\u001b[39m}\u001b[39;00m\u001b[39m/fit_summary\u001b[39m\u001b[39m\"\u001b[39m\n",
      "\u001b[0;31mRuntimeError\u001b[0m: "
     ]
    }
   ],
   "source": [
    "raise RuntimeError\n",
    "fit_file = f\"{results_directory}/fit\"\n",
    "fit_summary_file = f\"{results_directory}/fit_summary\"\n",
    "fit_file += f\".pkl\"\n",
    "fit_summary_file  += f\".pkl\"\n",
    "\n",
    "if(((not os.path.isfile(fit_file)) or (not os.path.isfile(fit_summary_file))) or OVERWRITE):\n",
    "    data_fits = pd.DataFrame()\n",
    "    data_fit_metrics = pd.DataFrame()\n",
    "else:\n",
    "    data_fits = pd.read_pickle(fit_file)\n",
    "    data_fit_metrics = pd.read_pickle(fit_summary_file)\n",
    "\n",
    "\n",
    "for ii, group in enumerate(dl.grp_names_all):\n",
    "    if( (\"group\" in data_fit_metrics) and data_fit_metrics.query(\"group == @group\").size > 0):\n",
    "        print(f\"found group {ii}: {group}\")\n",
    "        continue\n",
    "    \n",
    "    print(f\"fitting group {ii}: {group}\")\n",
    "    rs = 1200 + ii;\n",
    "    model = crp.create_pop_model(group, n_trials=N_trials)\n",
    "    model.build(random_seed = rs)\n",
    "    model.fit_model()"
   ]
  }
 ],
 "metadata": {
  "kernelspec": {
   "display_name": "JaiYuLab",
   "language": "python",
   "name": "python3"
  },
  "language_info": {
   "codemirror_mode": {
    "name": "ipython",
    "version": 3
   },
   "file_extension": ".py",
   "mimetype": "text/x-python",
   "name": "python",
   "nbconvert_exporter": "python",
   "pygments_lexer": "ipython3",
   "version": "3.10.13"
  }
 },
 "nbformat": 4,
 "nbformat_minor": 2
}
