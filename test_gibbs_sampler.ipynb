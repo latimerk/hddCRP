{
 "cells": [
  {
   "cell_type": "code",
   "execution_count": 1,
   "metadata": {},
   "outputs": [],
   "source": [
    "import hddCRP.modelFitting\n",
    "import hddCRP.simulations\n",
    "import numpy as np\n",
    "import matplotlib.pyplot as plt\n",
    "import matplotlib as mpl\n",
    "import networkx as nx"
   ]
  },
  {
   "cell_type": "code",
   "execution_count": 5,
   "metadata": {},
   "outputs": [
    {
     "name": "stdout",
     "output_type": "stream",
     "text": [
      "[0 0 0 0 1 1 1 1 2 2 2 2 0 0 0 0 1 1 1 1 2 2 2 2]\n",
      "[[0 0 0 0 0 0 0 0 0 0 0 0 0 0 0 0 0 0 0 0 0 0 0 0]\n",
      " [1 1 1 1 1 1 1 1 1 1 1 1 0 0 0 0 0 0 0 0 0 0 0 0]]\n"
     ]
    }
   ],
   "source": [
    "M = 3;\n",
    "R = 4\n",
    "syms = list(range(M))\n",
    "Y = np.array(syms * R).reshape((R,M)).flatten(order='F')\n",
    "Y = np.append(Y,Y)\n",
    "N = Y.size;\n",
    "grps = np.zeros((N,2),dtype=int)\n",
    "grps[:int(N/2),1] = 1\n",
    "\n",
    "D = np.ones((N,N))\n",
    "alphas = [1,2];\n",
    "\n",
    "print(Y)\n",
    "print(grps.T)"
   ]
  },
  {
   "cell_type": "code",
   "execution_count": 6,
   "metadata": {},
   "outputs": [],
   "source": [
    "model = hddCRP.modelFitting.hddCRPModel(Y=Y, groupings=grps, alpha=alphas, D=D)\n",
    "model._validate_internals(\"INIT\")"
   ]
  },
  {
   "cell_type": "code",
   "execution_count": 11,
   "metadata": {},
   "outputs": [
    {
     "name": "stdout",
     "output_type": "stream",
     "text": [
      "[[2 3]\n",
      " [3 3]\n",
      " [2 3]\n",
      " [2 5]\n",
      " [5 0]\n",
      " [2 1]\n",
      " [5 5]\n",
      " [1 0]\n",
      " [2 2]\n",
      " [3 1]\n",
      " [5 4]\n",
      " [2 2]\n",
      " [5 0]\n",
      " [5 0]\n",
      " [5 0]\n",
      " [4 0]\n",
      " [1 0]\n",
      " [5 5]\n",
      " [3 5]\n",
      " [4 5]\n",
      " [4 1]\n",
      " [1 5]\n",
      " [5 0]\n",
      " [1 5]\n",
      " [0 0]\n",
      " [0 0]\n",
      " [0 0]\n",
      " [0 0]\n",
      " [0 0]\n",
      " [0 0]\n",
      " [0 0]\n",
      " [0 0]\n",
      " [0 0]\n",
      " [0 0]\n",
      " [0 0]\n",
      " [0 0]\n",
      " [0 0]\n",
      " [0 0]\n",
      " [0 0]\n",
      " [0 0]\n",
      " [0 0]\n",
      " [0 0]\n",
      " [0 0]\n",
      " [0 0]\n",
      " [0 0]\n",
      " [0 0]\n",
      " [0 0]\n",
      " [0 0]]\n"
     ]
    }
   ],
   "source": [
    "codes = model.run_gibbs_sweep(DEBUG_MODE=True)\n",
    "print(codes)"
   ]
  },
  {
   "cell_type": "code",
   "execution_count": 12,
   "metadata": {},
   "outputs": [
    {
     "name": "stdout",
     "output_type": "stream",
     "text": [
      "CB_tables_values \n",
      "[1 0 0 2 2]\n",
      "CB_tables \n",
      "[[0 3 0 3 0 0 0 0 3 3 3 0 0 3 0 0 0 0 0 3 0 0 3 3]\n",
      " [1 1 1 1 0 0 0 0 4 3 4 4 2 2 2 2 0 0 0 0 3 3 3 3]]\n",
      "CB_ptr \n",
      "[[21  9 16 10 17  4 14 18 13 23  1 21 11  3 21 14 14 21  7 19 14  7 23 19]\n",
      " [ 2  2  0  1  4  4  7  7 10  9  8  8 14 14 15 13 16 17 18 18 22 22 22 23]]\n",
      "CB_is_cycle \n",
      "[[False False False False False False False  True False False False False\n",
      "  False False False False False False  True  True False False False False]\n",
      " [ True False  True False False False False False  True False  True False\n",
      "  False  True  True  True False False False False False False False False]]\n",
      "CB_y \n",
      "[[1 2 1 2 1 1 1 1 2 2 2 1 1 2 1 1 1 1 1 2 1 1 2 2]\n",
      " [0 0 0 0 1 1 1 1 2 2 2 2 0 0 0 0 1 1 1 1 2 2 2 2]]\n",
      "CB_num_labeled_upstream \n",
      "[[0 0 0 0 2 0 0 6 0 1 0 0 0 0 1 0 1 3 2 5 0 4 3 5]\n",
      " [1 2 3 1 2 1 1 2 2 1 1 1 1 1 2 1 1 1 2 1 1 1 3 1]]\n",
      "CB_num_labeled_in_table \n",
      "[8 4 4 5 3]\n",
      "CB_predecessors \n",
      "[[[], [10], [], [13], [5], [], [], [18, 21], [], [1], [3], [12], [], [8], [6, 15, 16, 20], [], [2], [4], [7], [23], [], [0, 11, 14, 17], [], [9, 22]], [[2], [3], [0, 1], [], [5], [], [], [6], [10, 11], [], [8], [], [], [15], [13, 12], [14], [], [], [19], [], [23], [], [20, 21], []]]\n",
      "C_table_values \n",
      "[1 0 0 2 2]\n",
      "C_tables \n",
      "[[0 3 0 3 0 0 0 0 3 3 3 0 0 3 0 0 0 0 0 3 0 0 3 3]\n",
      " [1 1 1 1 0 0 0 0 4 3 4 4 2 2 2 2 0 0 0 0 3 3 3 3]]\n",
      "C_ptr \n",
      "[[21  9 16 10 17  4 14 18 13 23  1 21 11  3 21 14 14 21  7 19 14  7 23 19]\n",
      " [ 2  2  0  1  4  4  7  7 10  9  8  8 14 14 15 13 16 17 18 18 22 22 22 20]]\n",
      "C_is_cycle \n",
      "[[False False False False False False False  True False False False False\n",
      "  False False False False False False  True  True False False False False]\n",
      " [ True False  True False False False False False  True False  True False\n",
      "  False  True  True  True False False False False False False False False]]\n",
      "C_y \n",
      "[[1 2 1 2 1 1 1 1 2 2 2 1 1 2 1 1 1 1 1 2 1 1 2 2]\n",
      " [0 0 0 0 1 1 1 1 2 2 2 2 0 0 0 0 1 1 1 1 2 2 2 2]]\n",
      "C_num_labeled_upstream \n",
      "[[0 0 0 0 2 0 0 6 0 1 0 0 0 0 1 0 1 3 2 5 0 4 4 5]\n",
      " [1 2 3 1 2 1 1 2 2 1 1 1 1 1 2 1 1 1 2 1 2 1 4 1]]\n",
      "C_num_labeled_in_table \n",
      "[8 4 4 5 3]\n",
      "C_predecessors \n",
      "[[[], [10], [], [13], [5], [], [], [18, 21], [], [1], [3], [12], [], [8], [6, 15, 16, 20], [], [2], [4], [7], [23], [], [0, 11, 14, 17], [], [9, 22]], [[2], [3], [0, 1], [], [5], [], [], [6], [10, 11], [], [8], [], [], [15], [13, 12], [14], [], [], [19], [], [23], [], [20, 21], []]]\n"
     ]
    }
   ],
   "source": [
    "model._validate_print_before_and_after()"
   ]
  },
  {
   "cell_type": "code",
   "execution_count": 13,
   "metadata": {},
   "outputs": [
    {
     "data": {
      "image/png": "[encoded data removed]",
      "text/plain": [
       "<Figure size 640x480 with 1 Axes>"
      ]
     },
     "metadata": {},
     "output_type": "display_data"
    }
   ],
   "source": [
    "\n",
    "\n",
    "# connection_data2= {\"C_y\" : model._CB_tables, \"C_ctx\" : grps, \"session_lengths\" : [model.N], \"C_ptr\" : model._CB_ptr}\n",
    "# ax2 = plt.subplot(2,1,1)\n",
    "# hddCRP.simulations.make_graph_plot(connection_data2, ax2, hs = 10, hh = 10)\n",
    "# plt.show\n",
    "\n",
    "connection_data= {\"C_y\" : model._C_tables, \"C_ctx\" : grps, \"session_lengths\" : [model.N], \"C_ptr\" : model._C_ptr}\n",
    "ax = plt.subplot(2,1,2)\n",
    "hddCRP.simulations.make_graph_plot(connection_data, ax, hs = 10, hh = 10)\n",
    "plt.show()\n"
   ]
  },
  {
   "cell_type": "code",
   "execution_count": 14,
   "metadata": {},
   "outputs": [
    {
     "name": "stdout",
     "output_type": "stream",
     "text": [
      "[[0 0 0 0 2 0 0 6 0 1 0 0 0 0 1 0 1 3 2 5 0 4 3 5]\n",
      " [1 2 3 1 2 1 1 2 2 1 1 1 1 1 2 1 1 1 2 1 1 1 3 1]]\n",
      "[[0 0 0 0 2 0 0 6 0 1 0 0 0 0 1 0 1 3 2 5 0 4 4 5]\n",
      " [1 2 3 1 2 1 1 2 2 1 1 1 1 1 2 1 1 1 2 1 2 1 4 1]]\n"
     ]
    }
   ],
   "source": [
    "\n",
    "print(model._CB_num_labeled_upstream.T)\n",
    "print(model._C_num_labeled_upstream.T)"
   ]
  },
  {
   "cell_type": "code",
   "execution_count": null,
   "metadata": {},
   "outputs": [],
   "source": [
    "print(model._C_is_cycle.T)"
   ]
  },
  {
   "cell_type": "code",
   "execution_count": null,
   "metadata": {},
   "outputs": [],
   "source": [
    "can_connect_to, post, *_ = model._post_for_single_nodes_connections(0, 0);\n",
    "print(can_connect_to)\n",
    "print(post)"
   ]
  },
  {
   "cell_type": "code",
   "execution_count": 15,
   "metadata": {},
   "outputs": [
    {
     "name": "stdout",
     "output_type": "stream",
     "text": [
      "all good\n"
     ]
    }
   ],
   "source": [
    "# run test on Gibbs probs\n",
    "from scipy.special import logsumexp\n",
    "\n",
    "stop = False\n",
    "for layer in range(2):\n",
    "    for node in range(12):\n",
    "        start_con = model._C_ptr[node,layer];\n",
    "\n",
    "        table_cnts = np.array([np.sum(model._C_table_values == yy) for yy in range(model.M)])\n",
    "\n",
    "        can_connect_to, post, table_count_delta, Y_change, p_Y, p_C = model._post_for_single_nodes_connections(node, layer, print_msgs=False);\n",
    "        post = post/sum(post)\n",
    "        # print(table_cnts)\n",
    "        # print(table_count_delta)\n",
    "        # print(Y_change)\n",
    "        # print(can_connect_to)\n",
    "        # print(model._C_is_cycle.T)\n",
    "        # print(model._C_ptr[6,layer]):\n",
    "        t1 = model._C_is_cycle[node,layer]\n",
    "        y1 = model._C_y[node,layer]\n",
    "        destination_Y = model._C_y[can_connect_to,layer]\n",
    "        destination_tables = model._C_tables[can_connect_to,layer]\n",
    "        if(layer > 0):\n",
    "            destination_Y[can_connect_to == node] = model._C_y[node,layer-1]\n",
    "            destination_tables[can_connect_to == node] = model._C_tables[node,layer-1]\n",
    "        out_of_table = destination_tables !=  model._C_tables[node,layer]\n",
    "        destination_Y2 = model._C_table_values[destination_tables];\n",
    "        # print(\"out_of_table_a \" + str(out_of_table ))\n",
    "        # print(\"destination_tables_a \" + str(destination_tables ))\n",
    "        # print(\"destination_Y_a \" + str(destination_Y ))\n",
    "        # print(\"f1b \" + str((destination_Y != -1) ))\n",
    "        # print(\"f1v \" + str((destination_Y == destination_Y2) ))\n",
    "        # print(\"f1 \" + str(out_of_table & (destination_Y != -1)))\n",
    "        # print(\"t1 \" + str(t1))\n",
    "        # print(\"y1 \" + str(y1))\n",
    "\n",
    "        lps = np.zeros((len(can_connect_to)))\n",
    "        for ii, node_to in enumerate(can_connect_to):\n",
    "            c_type = model._set_connection(node, node_to, layer)\n",
    "            model._validate_internals(ii)\n",
    "\n",
    "            table_cnts_2 = np.array([np.sum(model._C_table_values == yy) for yy in range(model.M)])\n",
    "            table_cnts_3 = table_cnts.copy()\n",
    "            if(Y_change[ii] >= 0):\n",
    "                table_cnts_3[Y_change[ii] ] += table_count_delta[ii]\n",
    "            if(not np.all(table_cnts_3 == table_cnts_2)):\n",
    "                print(\"original cnt \" + str(table_cnts))\n",
    "                print(table_count_delta)\n",
    "                print(\"real cnt \" + str(table_cnts_2))\n",
    "                print(\"predicted cnt \" + str(table_cnts_3))\n",
    "                print(\"table est is off \" + str(c_type) + \" \" + str(node_to) + \"(\" + str(ii) + \")\")\n",
    "                stop = True;\n",
    "                # raise(\"table est is off\")\n",
    "\n",
    "\n",
    "            lps[ii] = model.compute_log_likelihood()\n",
    "\n",
    "            can_connect_to_c, post_c, _, _, p_Y_c, p_C_c = model._post_for_single_nodes_connections(node, layer);\n",
    "            post_c = post_c/sum(post_c)\n",
    "\n",
    "            if(not np.all(np.isin(can_connect_to_c, can_connect_to)) or not np.all(np.isin(can_connect_to, can_connect_to_c))):\n",
    "                print(\"can_connect_to_c \" + str(can_connect_to_c))\n",
    "                print(\"can_connect_to \" + str(can_connect_to))\n",
    "                print(\"can_connect_to shouldn't change \" + str(c_type) + \" \" + str(node_to))\n",
    "                stop = True;\n",
    "                #raise RuntimeError(\"can_connect_to shouldn't change\")\n",
    "            if(np.max(np.abs(post_c-post)) > 1e-8):\n",
    "                print(\"post \" + str(post))\n",
    "                print(\"post_c \" + str(post_c))\n",
    "                print(\"p_Y \" + str(p_Y))\n",
    "                print(\"p_Y_c \" + str(p_Y_c))\n",
    "                print(\"p_C \" + str(p_C))\n",
    "                print(\"p_C_c \" + str(p_C_c))\n",
    "                print(\"post shouldn't change \" + str(c_type) + \" \" + str(node_to))\n",
    "                stop = True;\n",
    "                #raise RuntimeError(\"post shouldn't change\")\n",
    "            model._set_connection(node, start_con, layer);\n",
    "            \n",
    "        post_2 = np.exp(lps - logsumexp(lps))\n",
    "        post_2 = post_2 / np.sum(post_2)\n",
    "\n",
    "        # print(post)\n",
    "        # print(post_2)\n",
    "        if(np.max(np.abs(post_2-post)) > 1e-8):\n",
    "            print(\"post \" + str(post))\n",
    "            print(\"post_c \" + str(post_2))\n",
    "            print(\"outer post shouldn't change \" + str(node))\n",
    "            stop = True;\n",
    "        model._set_connection(node, start_con, layer);\n",
    "        if(stop):\n",
    "            break\n",
    "    \n",
    "    if(stop):\n",
    "        break\n",
    "if(not stop):\n",
    "    print(\"all good\")"
   ]
  },
  {
   "cell_type": "code",
   "execution_count": null,
   "metadata": {},
   "outputs": [],
   "source": [
    "model._set_connection(node, 2, layer)"
   ]
  },
  {
   "cell_type": "code",
   "execution_count": 7,
   "metadata": {},
   "outputs": [
    {
     "data": {
      "text/plain": [
       "11"
      ]
     },
     "execution_count": 7,
     "metadata": {},
     "output_type": "execute_result"
    }
   ],
   "source": [
    "node"
   ]
  },
  {
   "cell_type": "code",
   "execution_count": null,
   "metadata": {},
   "outputs": [],
   "source": [
    "model._set_connection(node, 5, layer);\n",
    "group_num = model._groupings_compact[node,layer];\n",
    "table_num = model._C_tables[node,layer];\n",
    "Y_type = model._C_y[node,layer]\n",
    "\n",
    "can_connect_to = model._group_indicies[layer][group_num]; # in group\n",
    "print(can_connect_to)\n",
    "print(model._C_y[can_connect_to,layer])\n",
    "print(Y_type)\n",
    "if(Y_type != -1):\n",
    "    can_connect_to = can_connect_to[np.isin(model._C_y[can_connect_to,layer], [-1, Y_type])]; # possible observation\n",
    "if(layer > 0 and not np.isin(model._C_y[node,layer-1], [-1, Y_type])): # connection to upper layers must also have correct label\n",
    "    can_connect_to = can_connect_to[can_connect_to != node];\n",
    "print(can_connect_to)\n"
   ]
  }
 ],
 "metadata": {
  "kernelspec": {
   "display_name": "JaiYuLab",
   "language": "python",
   "name": "python3"
  },
  "language_info": {
   "codemirror_mode": {
    "name": "ipython",
    "version": 3
   },
   "file_extension": ".py",
   "mimetype": "text/x-python",
   "name": "python",
   "nbconvert_exporter": "python",
   "pygments_lexer": "ipython3",
   "version": "3.10.12"
  },
  "orig_nbformat": 4
 },
 "nbformat": 4,
 "nbformat_minor": 2
}
