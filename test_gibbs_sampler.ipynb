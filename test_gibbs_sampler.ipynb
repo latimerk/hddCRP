{
 "cells": [
  {
   "cell_type": "code",
   "execution_count": 1,
   "metadata": {},
   "outputs": [],
   "source": [
    "import hddCRP.modelFitting\n",
    "import hddCRP.simulations\n",
    "import numpy as np"
   ]
  },
  {
   "cell_type": "code",
   "execution_count": 2,
   "metadata": {},
   "outputs": [
    {
     "name": "stdout",
     "output_type": "stream",
     "text": [
      "[0 0 1 1 2 2 0 0 1 1 2 2]\n",
      "[[0 0 0 0 0 0 0 0 0 0 0 0]\n",
      " [1 1 1 1 1 1 0 0 0 0 0 0]]\n"
     ]
    }
   ],
   "source": [
    "Y = np.array([0,1,2] * 2).reshape((2,3)).flatten(order='F')\n",
    "Y = np.append(Y,Y)\n",
    "N = Y.size;\n",
    "grps = np.zeros((N,2),dtype=int)\n",
    "grps[:6,1] = 1\n",
    "\n",
    "D = np.ones((N,N))\n",
    "alphas = [1,2];\n",
    "\n",
    "print(Y)\n",
    "print(grps.T)"
   ]
  },
  {
   "cell_type": "code",
   "execution_count": 6,
   "metadata": {},
   "outputs": [],
   "source": [
    "model = hddCRP.modelFitting.hddCRPModel(Y=Y, groupings=grps, alpha=alphas, D=D)\n",
    "model._validate_internals(\"INIT\")"
   ]
  },
  {
   "cell_type": "code",
   "execution_count": 7,
   "metadata": {},
   "outputs": [
    {
     "name": "stdout",
     "output_type": "stream",
     "text": [
      "Connection type: 5\n",
      "Connection type: 4\n",
      "CB_num_labeled_upstream \n",
      "[[1 1 2 2 1 1 0 0 1 1 0 2]\n",
      " [1 1 1 1 1 1 1 1 1 1 1 2]]\n",
      "C_num_labeled_upstream \n",
      "[[1 1 2 5 1 1 0 0 1 3 0 2]\n",
      " [1 1 1 1 1 1 1 1 1 1 1 2]]\n",
      "recomputed num_labeled_upstream \n",
      "[[1 1 2 4 1 1 0 0 1 3 0 2]\n",
      " [1 1 1 1 1 1 1 1 1 1 1 2]]\n",
      "Error found with code: 1\n"
     ]
    },
    {
     "ename": "ValueError",
     "evalue": "_C_num_labeled_upstream has invalid counts",
     "output_type": "error",
     "traceback": [
      "\u001b[1;31m---------------------------------------------------------------------------\u001b[0m",
      "\u001b[1;31mValueError\u001b[0m                                Traceback (most recent call last)",
      "Cell \u001b[1;32mIn[7], line 1\u001b[0m\n\u001b[1;32m----> 1\u001b[0m codes \u001b[39m=\u001b[39m model\u001b[39m.\u001b[39;49mrun_gibbs_sweep(DEBUG_MODE\u001b[39m=\u001b[39;49m\u001b[39mTrue\u001b[39;49;00m)\n\u001b[0;32m      2\u001b[0m \u001b[39mprint\u001b[39m(codes)\n",
      "File \u001b[1;32m~\\gitCode\\hddCRP\\src\\hddCRP\\modelFitting.py:846\u001b[0m, in \u001b[0;36mhddCRPModel.run_gibbs_sweep\u001b[1;34m(self, order, DEBUG_MODE)\u001b[0m\n\u001b[0;32m    844\u001b[0m codes \u001b[39m=\u001b[39m np\u001b[39m.\u001b[39mzeros(order\u001b[39m.\u001b[39mshape, dtype\u001b[39m=\u001b[39m\u001b[39mint\u001b[39m)\n\u001b[0;32m    845\u001b[0m \u001b[39mfor\u001b[39;00m ii \u001b[39min\u001b[39;00m \u001b[39mrange\u001b[39m(order\u001b[39m.\u001b[39mshape[\u001b[39m0\u001b[39m]):\n\u001b[1;32m--> 846\u001b[0m     codes[order[ii,\u001b[39m0\u001b[39m], order[ii,\u001b[39m1\u001b[39m]] \u001b[39m=\u001b[39m \u001b[39mself\u001b[39;49m\u001b[39m.\u001b[39;49m_gibbs_sample_single_node(order[ii,\u001b[39m0\u001b[39;49m], order[ii,\u001b[39m1\u001b[39;49m], DEBUG_MODE\u001b[39m=\u001b[39;49mDEBUG_MODE);\n\u001b[0;32m    847\u001b[0m \u001b[39mreturn\u001b[39;00m codes\n",
      "File \u001b[1;32m~\\gitCode\\hddCRP\\src\\hddCRP\\modelFitting.py:977\u001b[0m, in \u001b[0;36mhddCRPModel._gibbs_sample_single_node\u001b[1;34m(self, node, layer, DEBUG_MODE)\u001b[0m\n\u001b[0;32m    975\u001b[0m connection_type \u001b[39m=\u001b[39m \u001b[39mself\u001b[39m\u001b[39m.\u001b[39m_set_connection(node, node_to, layer)\n\u001b[0;32m    976\u001b[0m \u001b[39mif\u001b[39;00m(DEBUG_MODE):\n\u001b[1;32m--> 977\u001b[0m     \u001b[39mself\u001b[39;49m\u001b[39m.\u001b[39;49m_validate_internals(connection_type)\n\u001b[0;32m    978\u001b[0m     \u001b[39mprint\u001b[39m(\u001b[39m\"\u001b[39m\u001b[39mConnection type: \u001b[39m\u001b[39m\"\u001b[39m \u001b[39m+\u001b[39m \u001b[39mstr\u001b[39m(connection_type))\n\u001b[0;32m    979\u001b[0m \u001b[39mreturn\u001b[39;00m connection_type\n",
      "File \u001b[1;32m~\\gitCode\\hddCRP\\src\\hddCRP\\modelFitting.py:1582\u001b[0m, in \u001b[0;36mhddCRPModel._validate_internals\u001b[1;34m(self, code)\u001b[0m\n\u001b[0;32m   1580\u001b[0m \u001b[39mexcept\u001b[39;00m \u001b[39mValueError\u001b[39;00m \u001b[39mas\u001b[39;00m err:\n\u001b[0;32m   1581\u001b[0m     \u001b[39mprint\u001b[39m(\u001b[39m\"\u001b[39m\u001b[39mError found with code: \u001b[39m\u001b[39m\"\u001b[39m \u001b[39m+\u001b[39m \u001b[39mstr\u001b[39m(code))\n\u001b[1;32m-> 1582\u001b[0m     \u001b[39mraise\u001b[39;00m err\n",
      "File \u001b[1;32m~\\gitCode\\hddCRP\\src\\hddCRP\\modelFitting.py:1579\u001b[0m, in \u001b[0;36mhddCRPModel._validate_internals\u001b[1;34m(self, code)\u001b[0m\n\u001b[0;32m   1577\u001b[0m     \u001b[39mself\u001b[39m\u001b[39m.\u001b[39m_validate_labels()\n\u001b[0;32m   1578\u001b[0m     \u001b[39mself\u001b[39m\u001b[39m.\u001b[39m_validate_cycles()\n\u001b[1;32m-> 1579\u001b[0m     \u001b[39mself\u001b[39;49m\u001b[39m.\u001b[39;49m_validate_counts()\n\u001b[0;32m   1580\u001b[0m \u001b[39mexcept\u001b[39;00m \u001b[39mValueError\u001b[39;00m \u001b[39mas\u001b[39;00m err:\n\u001b[0;32m   1581\u001b[0m     \u001b[39mprint\u001b[39m(\u001b[39m\"\u001b[39m\u001b[39mError found with code: \u001b[39m\u001b[39m\"\u001b[39m \u001b[39m+\u001b[39m \u001b[39mstr\u001b[39m(code))\n",
      "File \u001b[1;32m~\\gitCode\\hddCRP\\src\\hddCRP\\modelFitting.py:1571\u001b[0m, in \u001b[0;36mhddCRPModel._validate_counts\u001b[1;34m(self)\u001b[0m\n\u001b[0;32m   1569\u001b[0m \u001b[39mprint\u001b[39m(\u001b[39m\"\u001b[39m\u001b[39mC_num_labeled_upstream \u001b[39m\u001b[39m\\n\u001b[39;00m\u001b[39m\"\u001b[39m \u001b[39m+\u001b[39m \u001b[39mstr\u001b[39m(\u001b[39mself\u001b[39m\u001b[39m.\u001b[39m_C_num_labeled_upstream\u001b[39m.\u001b[39mT))\n\u001b[0;32m   1570\u001b[0m \u001b[39mprint\u001b[39m(\u001b[39m\"\u001b[39m\u001b[39mrecomputed num_labeled_upstream \u001b[39m\u001b[39m\\n\u001b[39;00m\u001b[39m\"\u001b[39m \u001b[39m+\u001b[39m \u001b[39mstr\u001b[39m(C_num_labeled_upstream\u001b[39m.\u001b[39mT))\n\u001b[1;32m-> 1571\u001b[0m \u001b[39mraise\u001b[39;00m \u001b[39mValueError\u001b[39;00m(\u001b[39m\"\u001b[39m\u001b[39m_C_num_labeled_upstream has invalid counts\u001b[39m\u001b[39m\"\u001b[39m)\n",
      "\u001b[1;31mValueError\u001b[0m: _C_num_labeled_upstream has invalid counts"
     ]
    }
   ],
   "source": [
    "codes = model.run_gibbs_sweep(DEBUG_MODE=True)\n",
    "print(codes)"
   ]
  },
  {
   "cell_type": "code",
   "execution_count": 5,
   "metadata": {},
   "outputs": [
    {
     "name": "stdout",
     "output_type": "stream",
     "text": [
      "CB_tables_values \n",
      "[0 1 2 1]\n",
      "CB_tables \n",
      "[[0 0 1 1 1 2 0 0 3 3 0 2]\n",
      " [0 0 1 1 2 2 0 0 3 3 2 2]]\n",
      "CB_ptr \n",
      "[[ 7  7  3  4  3 11  0  1  8  8  6  5]\n",
      " [ 0  1  2  3  5  5  6  7  8  9 11 11]]\n",
      "CB_is_cycle \n",
      "[[False  True False  True  True  True False  True  True False False  True]\n",
      " [False False False False False False False False False False False False]]\n",
      "CB_y \n",
      "[[0 0 1 1 1 2 0 0 1 1 0 2]\n",
      " [0 0 1 1 2 2 0 0 1 1 2 2]]\n",
      "CB_num_labeled_upstream \n",
      "[[2 1 1 2 0 2 1 3 2 1 0 2]\n",
      " [1 1 1 1 1 2 1 1 1 1 1 2]]\n",
      "CB_num_labeled_in_table \n",
      "[4 2 4 2]\n",
      "CB_predecessors \n",
      "[[[6], [7], [], [4, 2], [], [11], [10], [1, 0], [9], [3], [], [5]], [[], [], [], [], [], [4], [], [], [], [], [], [10]]]\n",
      "C_table_values \n",
      "[0 1 2]\n",
      "C_tables \n",
      "[[0 0 1 1 1 2 0 0 1 1 0 2]\n",
      " [0 0 1 1 2 2 0 0 1 1 2 2]]\n",
      "C_ptr \n",
      "[[ 7  7  3  9  3 11  0  1  8  8  6  5]\n",
      " [ 0  1  2  3  5  5  6  7  8  9 11 11]]\n",
      "C_is_cycle \n",
      "[[False  True False False False  True False  True  True False False  True]\n",
      " [False False False False False False False False False False False False]]\n"
     ]
    },
    {
     "ename": "UFuncTypeError",
     "evalue": "ufunc 'add' did not contain a loop with signature matching types (dtype('<U5'), dtype('int32')) -> None",
     "output_type": "error",
     "traceback": [
      "\u001b[1;31m---------------------------------------------------------------------------\u001b[0m",
      "\u001b[1;31mUFuncTypeError\u001b[0m                            Traceback (most recent call last)",
      "Cell \u001b[1;32mIn[5], line 1\u001b[0m\n\u001b[1;32m----> 1\u001b[0m model\u001b[39m.\u001b[39;49m_validate_print_before_and_after()\n",
      "File \u001b[1;32m~\\gitCode\\hddCRP\\src\\hddCRP\\modelFitting.py:1599\u001b[0m, in \u001b[0;36mhddCRPModel._validate_print_before_and_after\u001b[1;34m(self)\u001b[0m\n\u001b[0;32m   1597\u001b[0m \u001b[39mprint\u001b[39m(\u001b[39m\"\u001b[39m\u001b[39mC_ptr \u001b[39m\u001b[39m\\n\u001b[39;00m\u001b[39m\"\u001b[39m \u001b[39m+\u001b[39m \u001b[39mstr\u001b[39m(\u001b[39mself\u001b[39m\u001b[39m.\u001b[39m_C_ptr\u001b[39m.\u001b[39mT))\n\u001b[0;32m   1598\u001b[0m \u001b[39mprint\u001b[39m(\u001b[39m\"\u001b[39m\u001b[39mC_is_cycle \u001b[39m\u001b[39m\\n\u001b[39;00m\u001b[39m\"\u001b[39m \u001b[39m+\u001b[39m \u001b[39mstr\u001b[39m(\u001b[39mself\u001b[39m\u001b[39m.\u001b[39m_C_is_cycle\u001b[39m.\u001b[39mT))\n\u001b[1;32m-> 1599\u001b[0m \u001b[39mprint\u001b[39m(\u001b[39m\"\u001b[39;49m\u001b[39mC_y \u001b[39;49m\u001b[39m\\n\u001b[39;49;00m\u001b[39m\"\u001b[39;49m \u001b[39m+\u001b[39;49m \u001b[39mself\u001b[39;49m\u001b[39m.\u001b[39;49m_C_y\u001b[39m.\u001b[39;49mT)\n\u001b[0;32m   1600\u001b[0m \u001b[39mprint\u001b[39m(\u001b[39m\"\u001b[39m\u001b[39mC_num_labeled_upstream \u001b[39m\u001b[39m\\n\u001b[39;00m\u001b[39m\"\u001b[39m \u001b[39m+\u001b[39m \u001b[39mstr\u001b[39m(\u001b[39mself\u001b[39m\u001b[39m.\u001b[39m_C_num_labeled_upstream\u001b[39m.\u001b[39mT))\n\u001b[0;32m   1601\u001b[0m \u001b[39mprint\u001b[39m(\u001b[39m\"\u001b[39m\u001b[39mC_num_labeled_in_table \u001b[39m\u001b[39m\\n\u001b[39;00m\u001b[39m\"\u001b[39m \u001b[39m+\u001b[39m \u001b[39mstr\u001b[39m(\u001b[39mself\u001b[39m\u001b[39m.\u001b[39m_C_num_labeled_in_table))\n",
      "\u001b[1;31mUFuncTypeError\u001b[0m: ufunc 'add' did not contain a loop with signature matching types (dtype('<U5'), dtype('int32')) -> None"
     ]
    }
   ],
   "source": [
    "model._validate_print_before_and_after()"
   ]
  },
  {
   "cell_type": "code",
   "execution_count": null,
   "metadata": {},
   "outputs": [],
   "source": [
    "\n",
    "connection_data= {\"C_y\" : model._C_y, \"C_ctx\" : grps, \"session_lengths\" : [model.N]}\n",
    "ax = plt.gca()\n",
    "hddCRP.simulations.make_graph_plot(connection_data, ax)\n",
    "plt.show"
   ]
  },
  {
   "cell_type": "code",
   "execution_count": null,
   "metadata": {},
   "outputs": [],
   "source": [
    "\n",
    "print(model._C_y)\n",
    "print(model._C_y_0)"
   ]
  },
  {
   "cell_type": "code",
   "execution_count": null,
   "metadata": {},
   "outputs": [],
   "source": [
    "print(model._C_is_cycle.T)"
   ]
  },
  {
   "cell_type": "code",
   "execution_count": null,
   "metadata": {},
   "outputs": [],
   "source": [
    "print(model._C_predecessors)"
   ]
  },
  {
   "cell_type": "code",
   "execution_count": null,
   "metadata": {},
   "outputs": [],
   "source": [
    "print(np.sum(model._C_y_0[model._C_tables == 1] != -1))\n",
    "np.array([np.sum(model._C_y_0[model._C_tables == tt] != -1) \n",
    "                                                for tt in range(model._C_table_counter)], dtype=int)"
   ]
  }
 ],
 "metadata": {
  "kernelspec": {
   "display_name": "JaiYuLab",
   "language": "python",
   "name": "python3"
  },
  "language_info": {
   "codemirror_mode": {
    "name": "ipython",
    "version": 3
   },
   "file_extension": ".py",
   "mimetype": "text/x-python",
   "name": "python",
   "nbconvert_exporter": "python",
   "pygments_lexer": "ipython3",
   "version": "3.10.12"
  },
  "orig_nbformat": 4
 },
 "nbformat": 4,
 "nbformat_minor": 2
}
