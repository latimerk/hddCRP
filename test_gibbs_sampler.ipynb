{
 "cells": [
  {
   "cell_type": "code",
   "execution_count": 1,
   "metadata": {},
   "outputs": [],
   "source": [
    "import hddCRP.modelFitting\n",
    "import numpy as np"
   ]
  },
  {
   "cell_type": "code",
   "execution_count": 2,
   "metadata": {},
   "outputs": [
    {
     "name": "stdout",
     "output_type": "stream",
     "text": [
      "[0 0 1 1 2 2 0 0 1 1 2 2]\n",
      "[[0 1]\n",
      " [0 1]\n",
      " [0 1]\n",
      " [0 1]\n",
      " [0 1]\n",
      " [0 1]\n",
      " [0 0]\n",
      " [0 0]\n",
      " [0 0]\n",
      " [0 0]\n",
      " [0 0]\n",
      " [0 0]]\n"
     ]
    }
   ],
   "source": [
    "Y = np.array([0,1,2] * 2).reshape((2,3)).flatten(order='F')\n",
    "Y = np.append(Y,Y)\n",
    "N = Y.size;\n",
    "grps = np.zeros((N,2),dtype=int)\n",
    "grps[:6,1] = 1\n",
    "\n",
    "D = np.ones((N,N))\n",
    "alphas = [1,2];\n",
    "\n",
    "print(Y)\n",
    "print(grps)"
   ]
  },
  {
   "cell_type": "code",
   "execution_count": 3,
   "metadata": {},
   "outputs": [
    {
     "name": "stdout",
     "output_type": "stream",
     "text": [
      "Error found with code: INITIAL SETUP TEST\n"
     ]
    },
    {
     "ename": "ValueError",
     "evalue": "_C_num_labeled_in_table has invalid count: table number 1",
     "output_type": "error",
     "traceback": [
      "\u001b[1;31m---------------------------------------------------------------------------\u001b[0m",
      "\u001b[1;31mValueError\u001b[0m                                Traceback (most recent call last)",
      "Cell \u001b[1;32mIn[3], line 1\u001b[0m\n\u001b[1;32m----> 1\u001b[0m model \u001b[39m=\u001b[39m hddCRP\u001b[39m.\u001b[39;49mmodelFitting\u001b[39m.\u001b[39;49mhddCRPModel(Y\u001b[39m=\u001b[39;49mY, groupings\u001b[39m=\u001b[39;49mgrps, alpha\u001b[39m=\u001b[39;49malphas, D\u001b[39m=\u001b[39;49mD)\n",
      "File \u001b[1;32m~\\gitCode\\hddCRP\\src\\hddCRP\\modelFitting.py:222\u001b[0m, in \u001b[0;36mhddCRPModel.__init__\u001b[1;34m(self, Y, groupings, alpha, D, Y_values, BaseMeasure, weight_params, weight_func, weight_param_labels)\u001b[0m\n\u001b[0;32m    219\u001b[0m     \u001b[39mself\u001b[39m\u001b[39m.\u001b[39msimulate_from_hddCRP();\n\u001b[0;32m    221\u001b[0m \u001b[39m# check to make sure everything is happy\u001b[39;00m\n\u001b[1;32m--> 222\u001b[0m \u001b[39mself\u001b[39;49m\u001b[39m.\u001b[39;49m_validate_internals(\u001b[39m\"\u001b[39;49m\u001b[39mINITIAL SETUP TEST\u001b[39;49m\u001b[39m\"\u001b[39;49m)\n",
      "File \u001b[1;32m~\\gitCode\\hddCRP\\src\\hddCRP\\modelFitting.py:1538\u001b[0m, in \u001b[0;36mhddCRPModel._validate_internals\u001b[1;34m(self, code)\u001b[0m\n\u001b[0;32m   1536\u001b[0m \u001b[39mexcept\u001b[39;00m \u001b[39mValueError\u001b[39;00m \u001b[39mas\u001b[39;00m err:\n\u001b[0;32m   1537\u001b[0m     \u001b[39mprint\u001b[39m(\u001b[39m\"\u001b[39m\u001b[39mError found with code: \u001b[39m\u001b[39m\"\u001b[39m \u001b[39m+\u001b[39m \u001b[39mstr\u001b[39m(code))\n\u001b[1;32m-> 1538\u001b[0m     \u001b[39mraise\u001b[39;00m err\n",
      "File \u001b[1;32m~\\gitCode\\hddCRP\\src\\hddCRP\\modelFitting.py:1535\u001b[0m, in \u001b[0;36mhddCRPModel._validate_internals\u001b[1;34m(self, code)\u001b[0m\n\u001b[0;32m   1533\u001b[0m     \u001b[39mself\u001b[39m\u001b[39m.\u001b[39m_validate_labels()\n\u001b[0;32m   1534\u001b[0m     \u001b[39mself\u001b[39m\u001b[39m.\u001b[39m_validate_cycles()\n\u001b[1;32m-> 1535\u001b[0m     \u001b[39mself\u001b[39;49m\u001b[39m.\u001b[39;49m_validate_counts()\n\u001b[0;32m   1536\u001b[0m \u001b[39mexcept\u001b[39;00m \u001b[39mValueError\u001b[39;00m \u001b[39mas\u001b[39;00m err:\n\u001b[0;32m   1537\u001b[0m     \u001b[39mprint\u001b[39m(\u001b[39m\"\u001b[39m\u001b[39mError found with code: \u001b[39m\u001b[39m\"\u001b[39m \u001b[39m+\u001b[39m \u001b[39mstr\u001b[39m(code))\n",
      "File \u001b[1;32m~\\gitCode\\hddCRP\\src\\hddCRP\\modelFitting.py:1508\u001b[0m, in \u001b[0;36mhddCRPModel._validate_counts\u001b[1;34m(self)\u001b[0m\n\u001b[0;32m   1506\u001b[0m     cnt \u001b[39m=\u001b[39m np\u001b[39m.\u001b[39msum(\u001b[39mself\u001b[39m\u001b[39m.\u001b[39m_C_y_0[tt] \u001b[39m!=\u001b[39m hddCRPModel\u001b[39m.\u001b[39mUNKNOWN_OBSERVATION);\n\u001b[0;32m   1507\u001b[0m     \u001b[39mif\u001b[39;00m(cnt \u001b[39m!=\u001b[39m \u001b[39mself\u001b[39m\u001b[39m.\u001b[39m_C_num_labeled_in_table[ii]):\n\u001b[1;32m-> 1508\u001b[0m         \u001b[39mraise\u001b[39;00m \u001b[39mValueError\u001b[39;00m(\u001b[39m\"\u001b[39m\u001b[39m_C_num_labeled_in_table has invalid count: table number \u001b[39m\u001b[39m\"\u001b[39m \u001b[39m+\u001b[39m \u001b[39mstr\u001b[39m(ii))\n\u001b[0;32m   1511\u001b[0m \u001b[39m# trace all labeled nodes\u001b[39;00m\n\u001b[0;32m   1512\u001b[0m labeled_coords \u001b[39m=\u001b[39m np\u001b[39m.\u001b[39margwhere(\u001b[39mself\u001b[39m\u001b[39m.\u001b[39m_C_y_0 \u001b[39m!=\u001b[39m hddCRPModel\u001b[39m.\u001b[39mUNKNOWN_OBSERVATION);\n",
      "\u001b[1;31mValueError\u001b[0m: _C_num_labeled_in_table has invalid count: table number 1"
     ]
    }
   ],
   "source": [
    "model = hddCRP.modelFitting.hddCRPModel(Y=Y, groupings=grps, alpha=alphas, D=D)\n",
    "model._validate_internals(\"INIT\")"
   ]
  },
  {
   "cell_type": "code",
   "execution_count": null,
   "metadata": {},
   "outputs": [],
   "source": [
    "codes = model.run_gibbs_sweep(DEBUG_MODE=True)\n",
    "print(codes)"
   ]
  },
  {
   "cell_type": "code",
   "execution_count": 4,
   "metadata": {},
   "outputs": [
    {
     "ename": "NameError",
     "evalue": "name 'model' is not defined",
     "output_type": "error",
     "traceback": [
      "\u001b[1;31m---------------------------------------------------------------------------\u001b[0m",
      "\u001b[1;31mNameError\u001b[0m                                 Traceback (most recent call last)",
      "Cell \u001b[1;32mIn[4], line 1\u001b[0m\n\u001b[1;32m----> 1\u001b[0m \u001b[39mprint\u001b[39m(model\u001b[39m.\u001b[39m_C_table_counter)\n\u001b[0;32m      2\u001b[0m \u001b[39mprint\u001b[39m(model\u001b[39m.\u001b[39m_C_tables)\n\u001b[0;32m      3\u001b[0m \u001b[39mprint\u001b[39m(model\u001b[39m.\u001b[39m_C_ptr)\n",
      "\u001b[1;31mNameError\u001b[0m: name 'model' is not defined"
     ]
    }
   ],
   "source": [
    "print(model._C_table_counter)\n",
    "print(model._C_tables)\n",
    "print(model._C_ptr)"
   ]
  },
  {
   "cell_type": "code",
   "execution_count": null,
   "metadata": {},
   "outputs": [],
   "source": [
    "\n",
    "print(model._C_y)\n",
    "print(model._C_y_0)"
   ]
  },
  {
   "cell_type": "code",
   "execution_count": null,
   "metadata": {},
   "outputs": [],
   "source": [
    "print(model._C_is_cycle)"
   ]
  }
 ],
 "metadata": {
  "kernelspec": {
   "display_name": "JaiYuLab",
   "language": "python",
   "name": "python3"
  },
  "language_info": {
   "codemirror_mode": {
    "name": "ipython",
    "version": 3
   },
   "file_extension": ".py",
   "mimetype": "text/x-python",
   "name": "python",
   "nbconvert_exporter": "python",
   "pygments_lexer": "ipython3",
   "version": "3.10.12"
  },
  "orig_nbformat": 4
 },
 "nbformat": 4,
 "nbformat_minor": 2
}
