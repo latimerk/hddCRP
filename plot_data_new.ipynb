{
 "cells": [
  {
   "cell_type": "code",
   "execution_count": null,
   "metadata": {},
   "outputs": [],
   "source": [
    "import numpy as np\n",
    "import matplotlib.pyplot as plt\n",
    "import pandas as pd\n",
    "import seaborn as sns\n",
    "import hddCRP.dataLoader as dl\n",
    "results_directory = \"Results/populationNew/\""
   ]
  },
  {
   "cell_type": "code",
   "execution_count": null,
   "metadata": {},
   "outputs": [],
   "source": [
    "fit_file = f\"{results_directory}/fit\"\n",
    "fit_summary_file = f\"{results_directory}/fit_summary\"\n",
    "fit_file += f\".pkl\"\n",
    "fit_summary_file  += f\".pkl\"\n",
    "\n",
    "data_fits = pd.read_pickle(fit_file)\n",
    "data_fit_metrics = pd.read_pickle(fit_summary_file)\n",
    "\n",
    "df = data_fits[[\"group\", \"alpha\", \"timeconstant\", \"subject_similarity\", \"context_weight_depth_1\", \"context_weight_depth_2.1\", \"context_weight_depth_2.2\", \"context_weight_depth_2.3\"]]\n",
    "\n",
    "grps = [\"uniform_H\", \"uniform_T\"]\n",
    "# grps = [\"diverse_TH\", \"diverse_HT\"]\n",
    "grps = [\"uniform_H\", \"uniform_T\", \"diverse_TH\", \"diverse_HT\"]\n",
    "# grps = [\"uniform_H\", \"uniform_T\", \"uniform\"]\n",
    "# grps = [\"diverse_TH\", \"diverse_HT\", \"diverse\"]\n",
    "# grps = [\"uniform\", \"diverse\"]\n",
    "# grps = [\"uniform_H\", \"uniform_T\", \"diverse\"]\n",
    "df = df.query(\"group in @grps\")\n",
    "\n",
    "\n",
    "plt.figure(figsize=(20,10))\n",
    "plt.subplot(2,4,1)\n",
    "sns.histplot(df, x=\"alpha\", hue=\"group\")\n",
    "plt.subplot(2,4,2)\n",
    "sns.histplot(df, x=\"timeconstant\", hue=\"group\")\n",
    "plt.subplot(2,4,3)\n",
    "sns.histplot(df, x=\"subject_similarity\", hue=\"group\")\n",
    "\n",
    "plt.subplot(2,4,4)\n",
    "sns.histplot(df, x=\"context_weight_depth_1\", hue=\"group\")\n",
    "\n",
    "plt.subplot(2,4,5)\n",
    "sns.histplot(df, x=\"context_weight_depth_2.1\", hue=\"group\")\n",
    "plt.subplot(2,4,6)\n",
    "sns.histplot(df, x=\"context_weight_depth_2.2\", hue=\"group\")\n",
    "plt.subplot(2,4,7)\n",
    "sns.histplot(df, x=\"context_weight_depth_2.3\", hue=\"group\")"
   ]
  },
  {
   "cell_type": "code",
   "execution_count": null,
   "metadata": {},
   "outputs": [],
   "source": []
  },
  {
   "cell_type": "code",
   "execution_count": null,
   "metadata": {},
   "outputs": [],
   "source": [
    "data_fits.head()"
   ]
  }
 ],
 "metadata": {
  "kernelspec": {
   "display_name": "JaiYuLab",
   "language": "python",
   "name": "python3"
  },
  "language_info": {
   "codemirror_mode": {
    "name": "ipython",
    "version": 3
   },
   "file_extension": ".py",
   "mimetype": "text/x-python",
   "name": "python",
   "nbconvert_exporter": "python",
   "pygments_lexer": "ipython3",
   "version": "3.10.13"
  }
 },
 "nbformat": 4,
 "nbformat_minor": 2
}
