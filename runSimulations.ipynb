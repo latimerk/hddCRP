{
 "cells": [
  {
   "cell_type": "code",
   "execution_count": 23,
   "metadata": {},
   "outputs": [],
   "source": [
    "import nest_asyncio\n",
    "nest_asyncio.apply()\n",
    "\n",
    "from hddCRP.simulations import simulate_sessions\n",
    "from hddCRP.modelBuilder import cdCRP\n",
    "import numpy as np\n",
    "import pandas as pd\n",
    "import matplotlib.pyplot as plt\n",
    "import seaborn as sb\n",
    "\n",
    "import arviz as az"
   ]
  },
  {
   "cell_type": "code",
   "execution_count": 24,
   "metadata": {},
   "outputs": [
    {
     "name": "stdout",
     "output_type": "stream",
     "text": [
      "[array([2, 2, 0, 0, 1, 1, 1, 1, 1, 0, 1, 1, 1, 1, 1, 0, 1, 0, 2, 1, 2, 1,\n",
      "       0, 2, 2, 0, 2, 0, 0, 1, 2, 2, 1, 2, 0, 2, 0, 2, 2, 2, 1, 1, 1, 1,\n",
      "       2, 0, 0, 1, 0, 2, 2, 1, 2, 2, 2, 2, 1, 1, 1, 0, 1, 2, 2, 0, 2, 2,\n",
      "       0, 1, 0, 0, 0, 1, 2, 2, 2, 0, 0, 0, 2, 2, 2, 0, 1, 2, 2, 1, 2, 0,\n",
      "       1, 2, 2, 2, 0, 1, 2, 1, 1, 2, 2, 2, 0, 1, 2, 2, 2, 0, 0, 0, 2, 2,\n",
      "       0, 0, 0, 0, 0, 0, 0, 0, 0, 2, 2, 2, 0, 2, 2, 1, 0, 2, 2, 2, 1, 1,\n",
      "       0, 2, 2, 0, 2, 1, 1, 2, 2, 2, 2, 1, 2, 0, 1, 1, 2, 1, 1, 0, 2, 1,\n",
      "       1, 0, 1, 1, 2, 2, 2, 0, 1, 1, 2, 2, 1, 0, 0, 2, 2, 2, 2, 2, 2, 1,\n",
      "       2, 1, 2, 1, 2, 1, 2, 0, 2, 0, 1, 2, 2, 0, 2, 0, 2, 2, 0, 1, 1, 2,\n",
      "       0, 0])]\n"
     ]
    }
   ],
   "source": [
    "seed = 1004\n",
    "stan_seed = 1001\n",
    "rng = np.random.Generator(np.random.MT19937(seed))\n",
    "\n",
    "num_responses = 3\n",
    "num_sessions = 1;\n",
    "session_labels = [\"A\"] * num_sessions\n",
    "session_lengths = [100] * num_sessions\n",
    "\n",
    "alpha = 5\n",
    "different_context_weights = [0.5, 0.5];\n",
    "within_session_timescales  = {\"A\" : 20}\n",
    "between_session_timescales = {(\"A\",\"A\") : 2}\n",
    "repeat_bias_1_back = 1\n",
    "\n",
    "\n",
    "seqs = simulate_sessions(session_lengths=session_lengths, session_labels=session_labels, num_responses=num_responses, \n",
    "                         alpha=alpha,\n",
    "                         different_context_weights=different_context_weights,\n",
    "                         within_session_timescales=within_session_timescales, between_session_timescales=between_session_timescales,\n",
    "                         repeat_bias_1_back=repeat_bias_1_back, rng=rng)\n",
    "print(seqs)\n",
    "\n",
    "# rng = np.random.Generator(np.random.MT19937(seed))\n",
    "# within_session_timescales  = {\"A\" : 60}\n",
    "# seqs = simulate_sessions(session_lengths=session_lengths, session_labels=session_labels, num_responses=num_responses, \n",
    "#                          alpha=alpha,\n",
    "#                          different_context_weights=different_context_weights,\n",
    "#                          within_session_timescales=within_session_timescales, between_session_timescales=between_session_timescales,\n",
    "#                          repeat_bias_1_back=repeat_bias_1_back, rng=rng)\n",
    "# print(seqs)"
   ]
  },
  {
   "cell_type": "code",
   "execution_count": 25,
   "metadata": {},
   "outputs": [],
   "source": [
    "model = cdCRP(seqs);\n",
    "model.same_nback_depth = 0\n",
    "model.context_depth = len(different_context_weights)"
   ]
  },
  {
   "cell_type": "code",
   "execution_count": 26,
   "metadata": {},
   "outputs": [
    {
     "name": "stdout",
     "output_type": "stream",
     "text": [
      "Building..."
     ]
    },
    {
     "name": "stdout",
     "output_type": "stream",
     "text": [
      "\n"
     ]
    },
    {
     "name": "stderr",
     "output_type": "stream",
     "text": [
      "\n",
      "Building: found in cache, done.Messages from stanc:\n",
      "Warning: The parameter timeconstant_within_session_A has no priors. This\n",
      "    means either no prior is provided, or the prior(s) depend on data\n",
      "    variables. In the later case, this may be a false positive.\n",
      "Warning: The parameter context_similarity_depth_1 has no priors. This means\n",
      "    either no prior is provided, or the prior(s) depend on data variables. In\n",
      "    the later case, this may be a false positive.\n",
      "Warning: The parameter alpha has no priors. This means either no prior is\n",
      "    provided, or the prior(s) depend on data variables. In the later case,\n",
      "    this may be a false positive.\n",
      "Sampling:   0%\n",
      "Sampling:   0% (1/8000)\n",
      "Sampling:   0% (2/8000)\n",
      "Sampling:   0% (3/8000)\n",
      "Sampling:   0% (4/8000)\n",
      "Sampling:   1% (103/8000)\n",
      "Sampling:   3% (202/8000)\n",
      "Sampling:   4% (301/8000)\n",
      "Sampling:   5% (400/8000)\n",
      "Sampling:   6% (500/8000)\n",
      "Sampling:   8% (600/8000)\n",
      "Sampling:   9% (700/8000)\n",
      "Sampling:  10% (800/8000)\n",
      "Sampling:  11% (900/8000)\n",
      "Sampling:  12% (1000/8000)\n",
      "Sampling:  14% (1100/8000)\n",
      "Sampling:  15% (1200/8000)\n",
      "Sampling:  16% (1300/8000)\n",
      "Sampling:  18% (1400/8000)\n",
      "Sampling:  19% (1500/8000)\n",
      "Sampling:  20% (1600/8000)\n",
      "Sampling:  21% (1700/8000)\n",
      "Sampling:  22% (1800/8000)\n",
      "Sampling:  24% (1900/8000)\n",
      "Sampling:  25% (2000/8000)\n",
      "Sampling:  26% (2100/8000)\n",
      "Sampling:  28% (2200/8000)\n",
      "Sampling:  29% (2300/8000)\n",
      "Sampling:  30% (2400/8000)\n",
      "Sampling:  31% (2500/8000)\n",
      "Sampling:  32% (2600/8000)\n",
      "Sampling:  34% (2700/8000)\n",
      "Sampling:  35% (2800/8000)\n",
      "Sampling:  36% (2900/8000)\n",
      "Sampling:  38% (3000/8000)\n",
      "Sampling:  39% (3100/8000)\n",
      "Sampling:  40% (3200/8000)\n",
      "Sampling:  41% (3300/8000)\n",
      "Sampling:  42% (3400/8000)\n",
      "Sampling:  44% (3500/8000)\n",
      "Sampling:  44% (3501/8000)\n",
      "Sampling:  45% (3602/8000)\n",
      "Sampling:  46% (3702/8000)\n",
      "Sampling:  48% (3802/8000)\n",
      "Sampling:  49% (3901/8000)\n",
      "Sampling:  50% (4000/8000)\n",
      "Sampling:  51% (4100/8000)\n",
      "Sampling:  51% (4101/8000)\n",
      "Sampling:  53% (4202/8000)\n",
      "Sampling:  54% (4302/8000)\n",
      "Sampling:  55% (4402/8000)\n",
      "Sampling:  56% (4501/8000)\n",
      "Sampling:  58% (4600/8000)\n",
      "Sampling:  59% (4700/8000)\n",
      "Sampling:  60% (4800/8000)\n",
      "Sampling:  61% (4900/8000)\n",
      "Sampling:  62% (5000/8000)\n",
      "Sampling:  64% (5100/8000)\n",
      "Sampling:  65% (5200/8000)\n",
      "Sampling:  66% (5300/8000)\n",
      "Sampling:  68% (5400/8000)\n",
      "Sampling:  69% (5500/8000)\n",
      "Sampling:  70% (5600/8000)\n",
      "Sampling:  71% (5700/8000)\n",
      "Sampling:  72% (5800/8000)\n",
      "Sampling:  74% (5900/8000)\n",
      "Sampling:  75% (6000/8000)\n",
      "Sampling:  76% (6100/8000)\n",
      "Sampling:  78% (6200/8000)\n",
      "Sampling:  79% (6300/8000)\n",
      "Sampling:  80% (6400/8000)\n",
      "Sampling:  81% (6500/8000)\n",
      "Sampling:  82% (6600/8000)\n",
      "Sampling:  84% (6700/8000)\n",
      "Sampling:  85% (6800/8000)\n",
      "Sampling:  86% (6900/8000)\n",
      "Sampling:  88% (7000/8000)\n",
      "Sampling:  89% (7100/8000)\n",
      "Sampling:  90% (7200/8000)\n",
      "Sampling:  91% (7300/8000)\n",
      "Sampling:  92% (7400/8000)\n",
      "Sampling:  94% (7500/8000)\n",
      "Sampling:  95% (7600/8000)\n",
      "Sampling:  96% (7700/8000)\n",
      "Sampling:  98% (7800/8000)\n",
      "Sampling:  99% (7900/8000)\n",
      "Sampling: 100% (8000/8000)\n",
      "Sampling: 100% (8000/8000), done.\n",
      "Messages received during sampling:\n",
      "  Gradient evaluation took 0.021388 seconds\n",
      "  1000 transitions using 10 leapfrog steps per transition would take 213.88 seconds.\n",
      "  Adjust your expectations accordingly!\n",
      "  Gradient evaluation took 0.032101 seconds\n",
      "  1000 transitions using 10 leapfrog steps per transition would take 321.01 seconds.\n",
      "  Adjust your expectations accordingly!\n",
      "  Gradient evaluation took 0.033781 seconds\n",
      "  1000 transitions using 10 leapfrog steps per transition would take 337.81 seconds.\n",
      "  Adjust your expectations accordingly!\n",
      "  Gradient evaluation took 0.036782 seconds\n",
      "  1000 transitions using 10 leapfrog steps per transition would take 367.82 seconds.\n",
      "  Adjust your expectations accordingly!\n"
     ]
    },
    {
     "name": "stdout",
     "output_type": "stream",
     "text": [
      "                                 mean      sd  hdi_3%  hdi_97%  mcse_mean  \\\n",
      "alpha                          11.804   6.581   2.415   24.247      0.118   \n",
      "timeconstant_within_session_A  33.006  28.047   1.618   84.403      0.499   \n",
      "context_similarity_depth_1      0.470   0.263   0.046    0.947      0.004   \n",
      "\n",
      "                               mcse_sd  ess_bulk  ess_tail  r_hat  \n",
      "alpha                            0.084    2804.0    2054.0    1.0  \n",
      "timeconstant_within_session_A    0.361    2879.0    2885.0    1.0  \n",
      "context_similarity_depth_1       0.003    3479.0    2503.0    1.0  \n"
     ]
    }
   ],
   "source": [
    "fit = model.fit_model(random_seed=stan_seed);\n",
    "print(model.fit_summary())"
   ]
  },
  {
   "cell_type": "code",
   "execution_count": 27,
   "metadata": {},
   "outputs": [
    {
     "name": "stdout",
     "output_type": "stream",
     "text": [
      "10.328967768905496\n",
      "24.31935409327392\n"
     ]
    }
   ],
   "source": [
    "fit_df = fit.to_frame()\n",
    "print(fit_df[\"alpha\"].median())\n",
    "#print(fit_df[\"context_similarity_depth_1\"].median())\n",
    "#print(fit_df[\"context_similarity_depth_2\"].median())\n",
    "print(fit_df[\"timeconstant_within_session_A\"].median())\n",
    "#print(fit_df[\"repeat_bias_1_back\"].median())"
   ]
  },
  {
   "cell_type": "code",
   "execution_count": 28,
   "metadata": {},
   "outputs": [
    {
     "data": {
      "image/png": "[encoded data removed]",
      "text/plain": [
       "<Figure size 1200x1200 with 3 Axes>"
      ]
     },
     "metadata": {},
     "output_type": "display_data"
    }
   ],
   "source": [
    "plt.figure(figsize=(12,12))\n",
    "plt.subplot(2,2,1)\n",
    "ff = \"alpha\";\n",
    "plt.hist(fit_df[ff],50);\n",
    "plt.title('{0} {1:.1f}'.format(ff,fit_df[ff].median()))\n",
    "plt.subplot(2,2,2)\n",
    "ff = \"timeconstant_within_session_A\";\n",
    "plt.hist(fit_df[ff],50);\n",
    "plt.title('{0} {1:.1f}'.format(ff,fit_df[ff].median()))\n",
    "for ii in range(1,model.context_depth+1):\n",
    "    plt.subplot(2,2,2+ii)\n",
    "    ff = f\"context_similarity_depth_{ii}\";\n",
    "    plt.hist(fit_df[ff],50);\n",
    "    plt.title('{0} {1:.1f}'.format(ff,fit_df[ff].median()))\n"
   ]
  },
  {
   "cell_type": "code",
   "execution_count": 29,
   "metadata": {},
   "outputs": [
    {
     "name": "stdout",
     "output_type": "stream",
     "text": [
      "\n",
      "data {\n",
      "    int N; // Number of data points\n",
      "    int M; // number of possible observations\n",
      "    array[N] int Y;\n",
      "    array[N] int local_timeconstant_id;\n",
      "    array[N] int session_id;\n",
      "    array[N] real local_time;\n",
      "\n",
      "    real prior_alpha_shape;\n",
      "    real prior_alpha_scale;\n",
      "    real prior_timeconstant_within_session_shape;\n",
      "    real prior_timeconstant_within_session_scale;\n",
      "    matrix[N,N] is_same_context_1;\n",
      "    real prior_context_similarity_depth_1_alpha;\n",
      "    real prior_context_similarity_depth_1_beta;\n",
      "}\n",
      "\n",
      "transformed data {\n",
      "    // variables to turn main computation in matrix operations\n",
      "    vector[N] vs = rep_vector(1, N);\n",
      "\n",
      "    matrix[N,N] is_same_observation = rep_matrix(0, N, N); // for numerator in CRP likelihood p(y_t | y_1:t-1)\n",
      "    matrix[N,N] is_prev_observation = rep_matrix(0, N, N); // for denominator in CRP likelihood p(y_t | y_1:t-1)\n",
      "    for (aa in 1:N) {\n",
      "        for (bb in 1:N) {\n",
      "            if(local_time[bb] < local_time[aa]) {\n",
      "                is_prev_observation[aa,bb] = 1;\n",
      "            }\n",
      "\n",
      "            if((is_prev_observation[aa,bb] > 0) && (Y[aa] == Y[bb])) {\n",
      "                is_same_observation[aa,bb] = 1;\n",
      "            }\n",
      "        }\n",
      "    }\n",
      "    \n",
      "    matrix[N,N] deltas_A = rep_matrix(0, N, N);\n",
      "    for (aa in 1:N) {\n",
      "        for (bb in 1:N) {\n",
      "\n",
      "            if((bb < aa) && (local_timeconstant_id[aa] == 1) && (local_timeconstant_id[bb] == 1) && (session_id[aa] == session_id[bb])) {\n",
      "                deltas_A[aa,bb] = local_time[aa]-local_time[bb];\n",
      "            }\n",
      "        }\n",
      "    }\n",
      "    matrix[N,N] is_different_context_1 = rep_matrix(0, N, N);\n",
      "\n",
      "    for (aa in 1:N) {\n",
      "        for (bb in 1:N) {\n",
      "\n",
      "            if(bb < aa && is_same_context_1[aa,bb] <= 0) {\n",
      "                is_different_context_1[aa,bb] = 1;\n",
      "            }\n",
      "\n",
      "        }\n",
      "    }\n",
      "\n",
      "    // prior parameter transformations for computations\n",
      "    real prior_alpha_scale_log = log(prior_alpha_scale);\n",
      "    real prior_alpha_scale_inv = inv(prior_alpha_scale);\n",
      "    real prior_timeconstant_within_session_scale_log   = log(prior_timeconstant_within_session_scale);\n",
      "    real prior_timeconstant_within_session_scale_inv   = inv(prior_timeconstant_within_session_scale);\n",
      "}\n",
      "parameters {\n",
      "    real<lower=0> alpha;   \n",
      "    real<lower=0> timeconstant_within_session_A;\n",
      "    real<lower=0,upper=1> context_similarity_depth_1;\n",
      "}\n",
      "model {\n",
      "    matrix[N,N] weights_same_obs;\n",
      "    matrix[N,N] weights_all_obs;\n",
      "    vector[N] ps;\n",
      "    real BaseMeasure;\n",
      "    BaseMeasure = inv(M);\n",
      "\n",
      "    alpha                         ~ gamma(prior_alpha_shape,                         prior_alpha_scale_inv);\n",
      "    timeconstant_within_session_A   ~ gamma(prior_timeconstant_within_session_shape,   prior_timeconstant_within_session_scale_inv);\n",
      "    context_similarity_depth_1  ~ beta(prior_context_similarity_depth_1_alpha,   prior_context_similarity_depth_1_beta);\n",
      "\n",
      "    weights_all_obs   = is_prev_observation .* exp( (- deltas_A/timeconstant_within_session_A)\n",
      "                                                   + (log(context_similarity_depth_1)  * is_different_context_1)\n",
      "                                                   );\n",
      "\n",
      "    weights_same_obs  = is_same_observation .* weights_all_obs;\n",
      "\n",
      "    // probability of drawing the observed observations given their pasts\n",
      "    ps =  ((weights_same_obs * vs) + (alpha*BaseMeasure)) ./  ((weights_all_obs * vs) + (alpha));\n",
      "    \n",
      "    1 ~ bernoulli(ps); // note: not generative - this is a simplified distribution to make the log likelihood computations work quickly in Stan\n",
      "}\n",
      "\n"
     ]
    }
   ],
   "source": [
    "print(model.model)"
   ]
  },
  {
   "cell_type": "code",
   "execution_count": 30,
   "metadata": {},
   "outputs": [
    {
     "name": "stdout",
     "output_type": "stream",
     "text": [
      "33.00623677608137\t786.4593908490652\n",
      "11.804084056944244\t43.30047995394427\n"
     ]
    },
    {
     "data": {
      "text/plain": [
       "array([3, 3, 1, 1, 2, 2, 2, 2, 2, 1, 2, 2, 2, 2, 2, 1, 2, 1, 3, 2, 3, 2,\n",
       "       1, 3, 3, 1, 3, 1, 1, 2, 3, 3, 2, 3, 1, 3, 1, 3, 3, 3, 2, 2, 2, 2,\n",
       "       3, 1, 1, 2, 1, 3, 3, 2, 3, 3, 3, 3, 2, 2, 2, 1, 2, 3, 3, 1, 3, 3,\n",
       "       1, 2, 1, 1, 1, 2, 3, 3, 3, 1, 1, 1, 3, 3, 3, 1, 2, 3, 3, 2, 3, 1,\n",
       "       2, 3, 3, 3, 1, 2, 3, 2, 2, 3, 3, 3, 1, 2, 3, 3, 3, 1, 1, 1, 3, 3,\n",
       "       1, 1, 1, 1, 1, 1, 1, 1, 1, 3, 3, 3, 1, 3, 3, 2, 1, 3, 3, 3, 2, 2,\n",
       "       1, 3, 3, 1, 3, 2, 2, 3, 3, 3, 3, 2, 3, 1, 2, 2, 3, 2, 2, 1, 3, 2,\n",
       "       2, 1, 2, 2, 3, 3, 3, 1, 2, 2, 3, 3, 2, 1, 1, 3, 3, 3, 3, 3, 3, 2,\n",
       "       3, 2, 3, 2, 3, 2, 3, 1, 3, 1, 2, 3, 3, 1, 3, 1, 3, 3, 1, 2, 2, 3,\n",
       "       1, 1])"
      ]
     },
     "execution_count": 30,
     "metadata": {},
     "output_type": "execute_result"
    }
   ],
   "source": [
    "t = fit[\"timeconstant_within_session_A\"]\n",
    "a = fit[\"alpha\"]\n",
    "print(str(t.mean()) + \"\\t\" + str(t.var()))\n",
    "print(str(a.mean()) + \"\\t\" + str(a.var()))\n",
    "\n",
    "model.to_dict()[\"Y\"]"
   ]
  },
  {
   "cell_type": "code",
   "execution_count": null,
   "metadata": {},
   "outputs": [],
   "source": []
  },
  {
   "cell_type": "code",
   "execution_count": 31,
   "metadata": {},
   "outputs": [
    {
     "data": {
      "text/plain": [
       "56.95920815954194"
      ]
     },
     "execution_count": 31,
     "metadata": {},
     "output_type": "execute_result"
    },
    {
     "data": {
      "image/png": "[encoded data removed]",
      "text/plain": [
       "<Figure size 640x480 with 1 Axes>"
      ]
     },
     "metadata": {},
     "output_type": "display_data"
    }
   ],
   "source": [
    "def lpdf(seq, alphas,M):\n",
    "    seq = seq.flatten();\n",
    "    n_prev = np.sum(np.tril(seq[:,np.newaxis] == seq[np.newaxis,:],-1),axis=1,keepdims=True);\n",
    "    n_tot  = np.arange(0,n_prev.size)[:,np.newaxis]\n",
    "    alphas = alphas.flatten()[np.newaxis,:];\n",
    "    yy = np.log(n_prev + alphas/M) - np.log(n_tot + alphas);\n",
    "    return yy.sum(axis=0);\n",
    "\n",
    "alphas = np.arange(0.1,100,0.1);\n",
    "yy = lpdf(model.to_dict()[\"Y\"], alphas, model.M);\n",
    "\n",
    "ww = np.exp(yy-np.max(yy));\n",
    "ww = ww/(np.sum(ww)*0.1);\n",
    "plt.plot(alphas,ww)\n",
    "\n",
    "np.dot(ww,alphas)*0.1"
   ]
  }
 ],
 "metadata": {
  "kernelspec": {
   "display_name": "JaiYuLab",
   "language": "python",
   "name": "python3"
  },
  "language_info": {
   "codemirror_mode": {
    "name": "ipython",
    "version": 3
   },
   "file_extension": ".py",
   "mimetype": "text/x-python",
   "name": "python",
   "nbconvert_exporter": "python",
   "pygments_lexer": "ipython3",
   "version": "3.10.13"
  }
 },
 "nbformat": 4,
 "nbformat_minor": 2
}
