{
 "cells": [
  {
   "cell_type": "code",
   "execution_count": 5,
   "metadata": {},
   "outputs": [],
   "source": [
    "from hddCRP.simulations import simulate_sessions\n",
    "import numpy as np\n",
    "import pandas as pd\n",
    "import matplotlib.pyplot as plt\n",
    "import seaborn as sb"
   ]
  },
  {
   "cell_type": "code",
   "execution_count": 6,
   "metadata": {},
   "outputs": [
    {
     "name": "stdout",
     "output_type": "stream",
     "text": [
      "[array([2, 0, 1, 2, 0, 1, 0, 2, 0, 1, 2, 1, 0, 1, 2, 1, 2, 0, 2, 0, 1, 0,\n",
      "       1, 2, 0, 2, 1, 2, 1, 2, 0, 2, 1, 0, 2, 0, 2, 0, 2, 1, 2, 0, 2, 0,\n",
      "       1, 2, 0, 2, 0, 1]), array([2, 0, 1, 2, 0, 1, 0, 2, 1, 0, 2, 0, 1, 0, 2, 1, 2, 1, 0, 2, 1, 0,\n",
      "       2, 0, 2, 1, 2, 0, 1, 2, 0, 1, 0, 1, 2, 1, 0, 2, 1, 2, 0, 1, 2, 0,\n",
      "       2, 1, 0, 2, 0, 2])]\n"
     ]
    }
   ],
   "source": [
    "seed = 1001\n",
    "rng = np.random.Generator(np.random.MT19937(seed))\n",
    "\n",
    "num_responses = 3\n",
    "num_sessions = 2;\n",
    "session_labels = [\"A\"] * num_sessions\n",
    "session_lengths = [50] * num_sessions\n",
    "\n",
    "alpha = 5\n",
    "different_context_weights = [0.8, 0.8];\n",
    "within_session_timescales  = {\"A\" : 40}\n",
    "between_session_timescales = {(\"A\",\"A\") : 2}\n",
    "repeat_bias_1_back = 0.8\n",
    "\n",
    "\n",
    "seqs = simulate_sessions(session_lengths=session_lengths, session_labels=session_labels, num_responses=num_responses, \n",
    "                         alpha=alpha,\n",
    "                         different_context_weights=different_context_weights,\n",
    "                         within_session_timescales=within_session_timescales, between_session_timescales=between_session_timescales,\n",
    "                         repeat_bias_1_back=repeat_bias_1_back, rng=rng)\n",
    "print(seqs)"
   ]
  }
 ],
 "metadata": {
  "kernelspec": {
   "display_name": "JaiYuLab",
   "language": "python",
   "name": "python3"
  },
  "language_info": {
   "codemirror_mode": {
    "name": "ipython",
    "version": 3
   },
   "file_extension": ".py",
   "mimetype": "text/x-python",
   "name": "python",
   "nbconvert_exporter": "python",
   "pygments_lexer": "ipython3",
   "version": "3.10.13"
  }
 },
 "nbformat": 4,
 "nbformat_minor": 2
}
