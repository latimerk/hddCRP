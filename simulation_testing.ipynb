{
 "cells": [
  {
   "cell_type": "code",
   "execution_count": 1,
   "metadata": {},
   "outputs": [],
   "source": [
    "import hddCRP.simulations\n",
    "import hddCRP.modelFitting\n",
    "import hddCRP.behaviorDataHandlers\n",
    "import numpy as np\n",
    "import matplotlib.pyplot as plt\n",
    "import matplotlib as mpl\n",
    "import networkx as nx"
   ]
  },
  {
   "cell_type": "code",
   "execution_count": 2,
   "metadata": {},
   "outputs": [
    {
     "name": "stdout",
     "output_type": "stream",
     "text": [
      "[array(['L', 'L', 'L', 'L', 'L', 'L', 'L', 'L', 'L', 'L', 'R', 'L', 'L',\n",
      "       'L', 'R', 'R', 'L', 'R', 'R', 'R', 'L', 'R', 'L', 'L', 'L', 'L',\n",
      "       'L', 'L', 'L', 'L', 'L', 'L', 'L', 'L', 'L', 'L', 'L', 'L', 'L',\n",
      "       'L', 'L', 'L', 'L', 'L', 'L', 'S', 'L', 'L', 'L', 'L'], dtype='<U1'), array(['L', 'L', 'L', 'L', 'L', 'L', 'L', 'L', 'L', 'L', 'S', 'R', 'R',\n",
      "       'R', 'R', 'L', 'R', 'R', 'L', 'L', 'R', 'L', 'L', 'L', 'L', 'L',\n",
      "       'L', 'L', 'L', 'L', 'R', 'L', 'L', 'L', 'L', 'L', 'L', 'R', 'L',\n",
      "       'L', 'L', 'L', 'R', 'S', 'L', 'L', 'L', 'L', 'L', 'L', 'L', 'L',\n",
      "       'L', 'L', 'L'], dtype='<U1')]\n"
     ]
    }
   ],
   "source": [
    "session_lengths = [50, 50,50,50,50,50,50,50,50,50,50] # number of observations (left, right, or straight actions) per session\n",
    "session_labels = ['A', 'A', 'A', 'B', 'B', 'B', 'B', 'B', 'B', 'B', 'B'] # which maze\n",
    "\n",
    "# session_lengths = [4,3]#[10, 15]\n",
    "# session_labels  = ['A', 'B']\n",
    "\n",
    "action_labels = ['L', 'R', 'S'] # turn type: label can be int or other type too\n",
    "\n",
    "depth  = 3; # look 2 actions in the past\n",
    "alphas = [2,5,8] # concentration parameters: per depth in the hddCRP tree. alphas[0] first level (no action context), alphas[1] is the second (for regularizing p(y_t | y_{t-1})), etc...\n",
    "between_session_time_constants = np.array([[3, 1],\n",
    "                                            [1, 3]]) # units = sessions\n",
    "within_session_time_constant = 20 # units = actions\n",
    "\n",
    "seqs, connection_data = hddCRP.simulations.simulate_sequential_hddCRP(session_lengths, session_labels, action_labels, depth, alphas, between_session_time_constants, within_session_time_constant)\n",
    "print(seqs[:2])\n"
   ]
  },
  {
   "cell_type": "code",
   "execution_count": 3,
   "metadata": {},
   "outputs": [
    {
     "name": "stdout",
     "output_type": "stream",
     "text": [
      "not plotting graph: too many nodes\n"
     ]
    }
   ],
   "source": [
    "num_sessions_to_plot = min(3, len(session_lengths));\n",
    "\n",
    "if(np.sum(session_lengths[:num_sessions_to_plot]) < 50):\n",
    "    ax = plt.gca()\n",
    "    hddCRP.simulations.make_graph_plot(connection_data, ax, num_sessions=num_sessions_to_plot)\n",
    "    plt.show()\n",
    "else:\n",
    "    print(\"not plotting graph: too many nodes\")\n"
   ]
  },
  {
   "cell_type": "code",
   "execution_count": 4,
   "metadata": {},
   "outputs": [],
   "source": [
    "model = hddCRP.simulations.create_hddCRPModel_from_simulated_sequential_hddCRP(seqs, connection_data)"
   ]
  },
  {
   "cell_type": "code",
   "execution_count": 5,
   "metadata": {},
   "outputs": [
    {
     "name": "stdout",
     "output_type": "stream",
     "text": [
      "False\n",
      "[2 5 8]\n"
     ]
    }
   ],
   "source": [
    "sigma2 = 0.1**2\n",
    "model, log_acceptance_probability, accepted = hddCRP.behaviorDataHandlers.Metropolis_Hastings_step_for_maze_data(model, sigma2)\n",
    "print(accepted)\n",
    "print(model.alpha)"
   ]
  },
  {
   "cell_type": "code",
   "execution_count": 6,
   "metadata": {},
   "outputs": [],
   "source": [
    "model.run_gibbs_sweep()\n",
    "model._validate_internals(\"post\")"
   ]
  },
  {
   "cell_type": "code",
   "execution_count": 10,
   "metadata": {},
   "outputs": [
    {
     "name": "stdout",
     "output_type": "stream",
     "text": [
      "0\n",
      "10\n",
      "20\n",
      "30\n",
      "40\n",
      "50\n",
      "60\n",
      "70\n",
      "80\n",
      "90\n",
      "100\n",
      "110\n",
      "120\n",
      "130\n",
      "140\n",
      "150\n",
      "160\n",
      "170\n",
      "180\n",
      "190\n",
      "200\n",
      "210\n",
      "220\n",
      "230\n",
      "240\n",
      "250\n",
      "260\n",
      "270\n",
      "280\n",
      "290\n",
      "300\n",
      "310\n",
      "320\n",
      "330\n",
      "340\n",
      "350\n",
      "360\n",
      "370\n",
      "380\n",
      "390\n",
      "400\n",
      "410\n",
      "420\n",
      "430\n",
      "440\n",
      "450\n",
      "460\n",
      "470\n",
      "480\n",
      "490\n",
      "500\n",
      "510\n",
      "520\n",
      "530\n",
      "540\n",
      "550\n",
      "560\n",
      "570\n",
      "580\n",
      "590\n",
      "600\n",
      "610\n",
      "620\n",
      "630\n",
      "640\n",
      "650\n",
      "660\n",
      "670\n",
      "680\n",
      "690\n",
      "700\n",
      "710\n",
      "720\n",
      "730\n",
      "740\n",
      "750\n",
      "760\n",
      "770\n",
      "780\n",
      "790\n",
      "800\n",
      "810\n",
      "820\n",
      "830\n",
      "840\n",
      "850\n",
      "860\n",
      "870\n",
      "880\n",
      "890\n",
      "900\n",
      "910\n",
      "920\n",
      "930\n",
      "940\n",
      "950\n",
      "960\n",
      "970\n",
      "980\n",
      "990\n",
      "0.523\n"
     ]
    }
   ],
   "source": [
    "sigma2 = 0.1**2\n",
    "S = 1000\n",
    "log_acceptance_probability = np.zeros((S))\n",
    "accepted = np.zeros((S),dtype=bool)\n",
    "alphas = np.zeros((S,model.alpha.size))\n",
    "log_taus = np.zeros((S,model.weight_params.size))\n",
    "for ss in range(S):\n",
    "    if(ss % 10 == 0):\n",
    "        print(ss)\n",
    "    model.run_gibbs_sweep()\n",
    "    model, log_acceptance_probability[ss], accepted[ss] = hddCRP.behaviorDataHandlers.Metropolis_Hastings_step_for_maze_data(model, sigma2)\n",
    "\n",
    "    alphas[ss,:] = model.alpha\n",
    "    log_taus[ss,:] = model.weight_params\n",
    "print(accepted.mean())"
   ]
  },
  {
   "cell_type": "code",
   "execution_count": 11,
   "metadata": {},
   "outputs": [
    {
     "data": {
      "image/png": "[encoded data removed]",
      "text/plain": [
       "<Figure size 640x480 with 2 Axes>"
      ]
     },
     "metadata": {},
     "output_type": "display_data"
    }
   ],
   "source": [
    "plt.subplot(2,1,1)\n",
    "plt.plot(alphas)\n",
    "plt.subplot(2,1,2)\n",
    "plt.plot(np.exp(log_taus))\n",
    "plt.show()"
   ]
  },
  {
   "cell_type": "code",
   "execution_count": 9,
   "metadata": {},
   "outputs": [
    {
     "name": "stdout",
     "output_type": "stream",
     "text": [
      "[[ 0. inf inf inf inf]\n",
      " [ 1.  0. inf inf inf]\n",
      " [ 2.  1.  0. inf inf]\n",
      " [ 3.  2.  1.  0. inf]\n",
      " [ 4.  3.  2.  1.  0.]]\n"
     ]
    }
   ],
   "source": [
    "print(model._D[:5,:5,0])"
   ]
  }
 ],
 "metadata": {
  "interpreter": {
   "hash": "fa7646fadbe57c277d76ff36de8f181b6360ae43924dda8e36f9c735fd43eb1d"
  },
  "kernelspec": {
   "display_name": "Python 3.10.11 64-bit ('JaiYuLab': conda)",
   "language": "python",
   "name": "python3"
  },
  "language_info": {
   "codemirror_mode": {
    "name": "ipython",
    "version": 3
   },
   "file_extension": ".py",
   "mimetype": "text/x-python",
   "name": "python",
   "nbconvert_exporter": "python",
   "pygments_lexer": "ipython3",
   "version": "3.10.12"
  },
  "orig_nbformat": 4
 },
 "nbformat": 4,
 "nbformat_minor": 2
}
