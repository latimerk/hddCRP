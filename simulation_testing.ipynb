{
 "cells": [
  {
   "cell_type": "code",
   "execution_count": 1,
   "metadata": {},
   "outputs": [],
   "source": [
    "import hddCRP.simulations\n",
    "import numpy as np\n",
    "import matplotlib.pyplot as plt\n",
    "import matplotlib as mpl\n",
    "import networkx as nx"
   ]
  },
  {
   "cell_type": "code",
   "execution_count": 2,
   "metadata": {},
   "outputs": [
    {
     "name": "stdout",
     "output_type": "stream",
     "text": [
      "[array(['S', 'L', 'S', 'R'], dtype='<U1'), array(['S', 'S', 'S'], dtype='<U1')]\n"
     ]
    }
   ],
   "source": [
    "# session_lengths = [50,55,53,50,50, 50,50,50,50,50,50,50,50,50,50] # number of observations (actions) per session\n",
    "# session_labels = ['A', 'A', 'A', 'A', 'A', 'B', 'B', 'B', 'B', 'B', 'B', 'B', 'B', 'B', 'B']\n",
    "\n",
    "session_lengths = [4,3]#[10, 15]\n",
    "session_labels  = ['A', 'B']\n",
    "\n",
    "action_labels = ['L', 'R', 'S']\n",
    "\n",
    "depth = 3; # look 2 actions in the past\n",
    "alphas = [2,3,3] # concentration parameter\n",
    "between_session_time_constants = np.array([[3, 1],\n",
    "                                            [1, 3]]) # units = sessions\n",
    "within_session_time_constant = 20 # units = actions\n",
    "\n",
    "seqs, connection_data = hddCRP.simulations.simulate_sequential_hddCRP(session_lengths, session_labels, action_labels, depth, alphas, between_session_time_constants, within_session_time_constant)\n",
    "print(seqs[:2])\n"
   ]
  },
  {
   "cell_type": "code",
   "execution_count": 3,
   "metadata": {},
   "outputs": [
    {
     "data": {
      "image/png": "[encoded data removed]",
      "text/plain": [
       "<Figure size 640x480 with 1 Axes>"
      ]
     },
     "metadata": {},
     "output_type": "display_data"
    }
   ],
   "source": [
    "num_sessions_to_plot = min(3, len(session_lengths));\n",
    "\n",
    "if(np.sum(session_lengths[:num_sessions_to_plot]) < 50):\n",
    "    ax = plt.gca()\n",
    "    hddCRP.simulations.make_graph_plot(connection_data, ax, num_sessions=num_sessions_to_plot)\n",
    "    plt.show()\n",
    "else:\n",
    "    print(\"not plotting graph: too many nodes\")\n"
   ]
  },
  {
   "cell_type": "code",
   "execution_count": 4,
   "metadata": {},
   "outputs": [],
   "source": [
    "model = hddCRP.simulations.create_hddCRPModel_from_simulated_sequential_hddCRP(seqs, connection_data)"
   ]
  },
  {
   "cell_type": "code",
   "execution_count": 5,
   "metadata": {},
   "outputs": [],
   "source": [
    "model.run_gibbs_sweep()\n",
    "#model._gibbs_sample_single_node(0, 0)"
   ]
  },
  {
   "cell_type": "code",
   "execution_count": 6,
   "metadata": {},
   "outputs": [
    {
     "name": "stdout",
     "output_type": "stream",
     "text": [
      "[[6 0 0]\n",
      " [1 1 1]\n",
      " [0 2 2]\n",
      " [3 3 3]\n",
      " [5 4 0]\n",
      " [0 5 5]\n",
      " [0 5 6]]\n"
     ]
    }
   ],
   "source": [
    "print(model._C_ptr)"
   ]
  },
  {
   "cell_type": "code",
   "execution_count": 7,
   "metadata": {},
   "outputs": [
    {
     "name": "stdout",
     "output_type": "stream",
     "text": [
      "[[2, 5, 6], [], [], [], [], [4], [0]]\n",
      "[[], [], [], [], [], [6], []]\n",
      "[[4], [], [], [], [], [], []]\n"
     ]
    }
   ],
   "source": [
    "print(model._C_predecessors[0])\n",
    "print(model._C_predecessors[1])\n",
    "print(model._C_predecessors[2])"
   ]
  },
  {
   "cell_type": "code",
   "execution_count": 8,
   "metadata": {},
   "outputs": [
    {
     "name": "stdout",
     "output_type": "stream",
     "text": [
      "[[0 0 0]\n",
      " [1 1 1]\n",
      " [0 0 0]\n",
      " [2 2 2]\n",
      " [0 0 0]\n",
      " [0 0 0]\n",
      " [0 0 0]]\n"
     ]
    }
   ],
   "source": [
    "print(model._C_tables)"
   ]
  },
  {
   "cell_type": "code",
   "execution_count": 9,
   "metadata": {},
   "outputs": [
    {
     "name": "stdout",
     "output_type": "stream",
     "text": [
      "[2 0 1]\n"
     ]
    }
   ],
   "source": [
    "print(model._C_table_values)"
   ]
  },
  {
   "cell_type": "code",
   "execution_count": 10,
   "metadata": {},
   "outputs": [
    {
     "name": "stdout",
     "output_type": "stream",
     "text": [
      "[[ True False False]\n",
      " [ True False False]\n",
      " [False False False]\n",
      " [ True False False]\n",
      " [False False False]\n",
      " [False False False]\n",
      " [ True False False]]\n"
     ]
    }
   ],
   "source": [
    "make_graph_plot"
   ]
  },
  {
   "cell_type": "code",
   "execution_count": 11,
   "metadata": {},
   "outputs": [
    {
     "name": "stdout",
     "output_type": "stream",
     "text": [
      "[5 1 1]\n"
     ]
    }
   ],
   "source": [
    "print(model._C_num_labeled_in_table)"
   ]
  },
  {
   "cell_type": "code",
   "execution_count": 12,
   "metadata": {},
   "outputs": [
    {
     "name": "stdout",
     "output_type": "stream",
     "text": [
      "[[1. 2. 2.]\n",
      " [1. 1. 1.]\n",
      " [1. 1. 1.]\n",
      " [1. 1. 1.]\n",
      " [1. 1. 0.]\n",
      " [3. 2. 1.]\n",
      " [0. 1. 1.]]\n"
     ]
    }
   ],
   "source": [
    "num_sessions_to_plot = min(3, len(session_lengths));\n",
    "\n",
    "connection_data2 = {\"C_y\" : model._C_y, \"C_ctx\" : connection_data[\"C_ctx\"], \"session_lengths\" : connection_data[\"session_lengths\"]}\n",
    "\n",
    "if(np.sum(session_lengths[:num_sessions_to_plot]) < 50):\n",
    "    ax = plt.gca()\n",
    "    hddCRP.simulations.make_graph_plot(connection_data2, ax, num_sessions=num_sessions_to_plot)\n",
    "    plt.show()\n",
    "else:\n",
    "    print(\"not plotting graph: too many nodes\")"
   ]
  }
 ],
 "metadata": {
  "interpreter": {
   "hash": "fa7646fadbe57c277d76ff36de8f181b6360ae43924dda8e36f9c735fd43eb1d"
  },
  "kernelspec": {
   "display_name": "Python 3.10.11 64-bit ('JaiYuLab': conda)",
   "language": "python",
   "name": "python3"
  },
  "language_info": {
   "codemirror_mode": {
    "name": "ipython",
    "version": 3
   },
   "file_extension": ".py",
   "mimetype": "text/x-python",
   "name": "python",
   "nbconvert_exporter": "python",
   "pygments_lexer": "ipython3",
   "version": "3.10.11"
  },
  "orig_nbformat": 4
 },
 "nbformat": 4,
 "nbformat_minor": 2
}
