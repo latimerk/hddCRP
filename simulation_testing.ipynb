{
 "cells": [
  {
   "cell_type": "code",
   "execution_count": 1,
   "metadata": {},
   "outputs": [],
   "source": [
    "import hddCRP.simulations\n",
    "import numpy as np\n",
    "import matplotlib.pyplot as plt\n",
    "import matplotlib as mpl\n",
    "import networkx as nx"
   ]
  },
  {
   "cell_type": "code",
   "execution_count": 9,
   "metadata": {},
   "outputs": [
    {
     "name": "stdout",
     "output_type": "stream",
     "text": [
      "[array(['R', 'R', 'S', 'R'], dtype='<U1'), array(['L', 'S', 'L'], dtype='<U1')]\n"
     ]
    }
   ],
   "source": [
    "# session_lengths = [50,55,53,50,50, 50,50,50,50,50,50,50,50,50,50] # number of observations (actions) per session\n",
    "# session_labels = ['A', 'A', 'A', 'A', 'A', 'B', 'B', 'B', 'B', 'B', 'B', 'B', 'B', 'B', 'B']\n",
    "\n",
    "session_lengths = [4,3]#[10, 15]\n",
    "session_labels  = ['A', 'B']\n",
    "\n",
    "action_labels = ['L', 'R', 'S']\n",
    "\n",
    "depth = 3; # look 2 actions in the past\n",
    "alphas = [2,3,3] # concentration parameter\n",
    "between_session_time_constants = np.array([[3, 1],\n",
    "                                            [1, 3]]) # units = sessions\n",
    "within_session_time_constant = 20 # units = actions\n",
    "\n",
    "seqs, connection_data = hddCRP.simulations.simulate_sequential_hddCRP(session_lengths, session_labels, action_labels, depth, alphas, between_session_time_constants, within_session_time_constant)\n",
    "print(seqs[:2])\n"
   ]
  },
  {
   "cell_type": "code",
   "execution_count": 13,
   "metadata": {},
   "outputs": [
    {
     "data": {
      "image/png": "[encoded data removed]",
      "text/plain": [
       "<Figure size 640x480 with 1 Axes>"
      ]
     },
     "metadata": {},
     "output_type": "display_data"
    }
   ],
   "source": [
    "num_sessions_to_plot = min(3, len(session_lengths));\n",
    "\n",
    "if(np.sum(session_lengths[:num_sessions_to_plot]) < 50):\n",
    "    ax = plt.gca()\n",
    "    hddCRP.simulations.make_graph_plot(connection_data, ax, num_sessions=num_sessions_to_plot)\n",
    "    plt.show()\n",
    "else:\n",
    "    print(\"not plotting graph: too many nodes\")\n"
   ]
  },
  {
   "cell_type": "code",
   "execution_count": 10,
   "metadata": {},
   "outputs": [],
   "source": [
    "model = hddCRP.simulations.create_hddCRPModel_from_simulated_sequential_hddCRP(seqs, connection_data)"
   ]
  },
  {
   "cell_type": "code",
   "execution_count": 6,
   "metadata": {},
   "outputs": [
    {
     "ename": "KeyboardInterrupt",
     "evalue": "",
     "output_type": "error",
     "traceback": [
      "\u001b[0;31m---------------------------------------------------------------------------\u001b[0m",
      "\u001b[0;31mKeyboardInterrupt\u001b[0m                         Traceback (most recent call last)",
      "Cell \u001b[0;32mIn[6], line 2\u001b[0m\n\u001b[1;32m      1\u001b[0m \u001b[38;5;66;03m#model.run_gibbs_sweep()\u001b[39;00m\n\u001b[0;32m----> 2\u001b[0m \u001b[43mmodel\u001b[49m\u001b[38;5;241;43m.\u001b[39;49m\u001b[43m_gibbs_sample_single_node\u001b[49m\u001b[43m(\u001b[49m\u001b[38;5;241;43m0\u001b[39;49m\u001b[43m,\u001b[49m\u001b[43m \u001b[49m\u001b[38;5;241;43m0\u001b[39;49m\u001b[43m)\u001b[49m\n",
      "File \u001b[0;32m~/gitCode/hddCRP/src/hddCRP/modelFitting.py:922\u001b[0m, in \u001b[0;36mhddCRPModel._gibbs_sample_single_node\u001b[0;34m(self, node, layer)\u001b[0m\n\u001b[1;32m    919\u001b[0m can_connect_to, post \u001b[38;5;241m=\u001b[39m \u001b[38;5;28mself\u001b[39m\u001b[38;5;241m.\u001b[39m_post_for_single_nodes_connections(node, layer);\n\u001b[1;32m    920\u001b[0m node_to \u001b[38;5;241m=\u001b[39m np\u001b[38;5;241m.\u001b[39mrandom\u001b[38;5;241m.\u001b[39mchoice(can_connect_to, p \u001b[38;5;241m=\u001b[39m post\u001b[38;5;241m/\u001b[39mnp\u001b[38;5;241m.\u001b[39msum(post))\n\u001b[0;32m--> 922\u001b[0m \u001b[38;5;28;43mself\u001b[39;49m\u001b[38;5;241;43m.\u001b[39;49m\u001b[43m_set_connection\u001b[49m\u001b[43m(\u001b[49m\u001b[43mnode\u001b[49m\u001b[43m,\u001b[49m\u001b[43m \u001b[49m\u001b[43mnode_to\u001b[49m\u001b[43m,\u001b[49m\u001b[43m \u001b[49m\u001b[43mlayer\u001b[49m\u001b[43m)\u001b[49m\n",
      "File \u001b[0;32m~/gitCode/hddCRP/src/hddCRP/modelFitting.py:1154\u001b[0m, in \u001b[0;36mhddCRPModel._set_connection\u001b[0;34m(self, node_from, node_to, layer)\u001b[0m\n\u001b[1;32m   1152\u001b[0m \u001b[38;5;28;01mfor\u001b[39;00m pr_nodes \u001b[38;5;129;01min\u001b[39;00m \u001b[38;5;28mself\u001b[39m\u001b[38;5;241m.\u001b[39m_C_predecessors[layer][node_c]:\n\u001b[1;32m   1153\u001b[0m     \u001b[38;5;28;01mif\u001b[39;00m(\u001b[38;5;129;01mnot\u001b[39;00m \u001b[38;5;28mself\u001b[39m\u001b[38;5;241m.\u001b[39m_C_is_cycle[pr_nodes, layer]):\n\u001b[0;32m-> 1154\u001b[0m         \u001b[38;5;28;43mself\u001b[39;49m\u001b[38;5;241;43m.\u001b[39;49m\u001b[43m_propogate_label_backwards\u001b[49m\u001b[43m(\u001b[49m\u001b[43mpr_nodes\u001b[49m\u001b[43m,\u001b[49m\u001b[43m \u001b[49m\u001b[43mlayer\u001b[49m\u001b[43m,\u001b[49m\u001b[43m \u001b[49m\u001b[43mtable_num_new\u001b[49m\u001b[43m)\u001b[49m;\n\u001b[1;32m   1156\u001b[0m \u001b[38;5;28;01mif\u001b[39;00m(layer \u001b[38;5;241m<\u001b[39m \u001b[38;5;28mself\u001b[39m\u001b[38;5;241m.\u001b[39mnum_layers \u001b[38;5;241m-\u001b[39m \u001b[38;5;241m1\u001b[39m \u001b[38;5;129;01mand\u001b[39;00m \u001b[38;5;28mself\u001b[39m\u001b[38;5;241m.\u001b[39m_C_ptr[node_c, layer\u001b[38;5;241m+\u001b[39m\u001b[38;5;241m1\u001b[39m] \u001b[38;5;241m==\u001b[39m node_c):\n\u001b[1;32m   1157\u001b[0m     \u001b[38;5;28mself\u001b[39m\u001b[38;5;241m.\u001b[39m_propogate_label_backwards(node_c, layer\u001b[38;5;241m+\u001b[39m\u001b[38;5;241m1\u001b[39m, table_num_new)\n",
      "File \u001b[0;32m~/gitCode/hddCRP/src/hddCRP/modelFitting.py:1292\u001b[0m, in \u001b[0;36mhddCRPModel._propogate_label_backwards\u001b[0;34m(self, node_from, layer, table_num_to)\u001b[0m\n\u001b[1;32m   1281\u001b[0m \u001b[38;5;250m\u001b[39m\u001b[38;5;124;03m'''\u001b[39;00m\n\u001b[1;32m   1282\u001b[0m \u001b[38;5;124;03mResets the values of _C_tables and _C_y from one specific node, traversing the graph backwards until all preceding nodes have been reached.\u001b[39;00m\n\u001b[1;32m   1283\u001b[0m \u001b[38;5;124;03mChanges the nodes to be at a new table. The _C_y values are taken from _C_table_values[table_num_to]\u001b[39;00m\n\u001b[0;32m   (...)\u001b[0m\n\u001b[1;32m   1288\u001b[0m \u001b[38;5;124;03m  table_num_to: int in range(self._C_table_counter) the new table number for the nodes\u001b[39;00m\n\u001b[1;32m   1289\u001b[0m \u001b[38;5;124;03m'''\u001b[39;00m\n\u001b[1;32m   1290\u001b[0m \u001b[38;5;28;01massert\u001b[39;00m \u001b[38;5;129;01mnot\u001b[39;00m \u001b[38;5;28mself\u001b[39m\u001b[38;5;241m.\u001b[39m_C_is_cycle[node_from, layer], \u001b[38;5;124m\"\u001b[39m\u001b[38;5;124mnot intended for use with cycles\u001b[39m\u001b[38;5;124m\"\u001b[39m\n\u001b[0;32m-> 1292\u001b[0m nns \u001b[38;5;241m=\u001b[39m \u001b[38;5;28;43mself\u001b[39;49m\u001b[38;5;241;43m.\u001b[39;49m\u001b[43m_get_preceeding_nodes_within_layer\u001b[49m\u001b[43m(\u001b[49m\u001b[43mnode_from\u001b[49m\u001b[43m,\u001b[49m\u001b[43m \u001b[49m\u001b[43mlayer\u001b[49m\u001b[43m)\u001b[49m\n\u001b[1;32m   1294\u001b[0m \u001b[38;5;28mself\u001b[39m\u001b[38;5;241m.\u001b[39m_C_tables[nns, layer] \u001b[38;5;241m=\u001b[39m table_num_to\n\u001b[1;32m   1295\u001b[0m \u001b[38;5;28mself\u001b[39m\u001b[38;5;241m.\u001b[39m_C_y[nns, layer] \u001b[38;5;241m=\u001b[39m \u001b[38;5;28mself\u001b[39m\u001b[38;5;241m.\u001b[39m_C_table_values[table_num_to]\n",
      "File \u001b[0;32m~/gitCode/hddCRP/src/hddCRP/modelFitting.py:1231\u001b[0m, in \u001b[0;36mhddCRPModel._get_preceeding_nodes_within_layer\u001b[0;34m(self, node, layer)\u001b[0m\n\u001b[1;32m   1228\u001b[0m prs \u001b[38;5;241m=\u001b[39m [node];\n\u001b[1;32m   1230\u001b[0m ctr \u001b[38;5;241m=\u001b[39m \u001b[38;5;241m0\u001b[39m;\n\u001b[0;32m-> 1231\u001b[0m \u001b[38;5;28;01mwhile\u001b[39;00m(ctr \u001b[38;5;241m<\u001b[39m \u001b[38;5;28;43mlen\u001b[39;49m\u001b[43m(\u001b[49m\u001b[43mprs\u001b[49m\u001b[43m)\u001b[49m):\n\u001b[1;32m   1232\u001b[0m     prs \u001b[38;5;241m+\u001b[39m\u001b[38;5;241m=\u001b[39m \u001b[38;5;28mself\u001b[39m\u001b[38;5;241m.\u001b[39m_C_predecessors[layer][prs[ctr]]\n\u001b[1;32m   1233\u001b[0m     ctr \u001b[38;5;241m+\u001b[39m\u001b[38;5;241m=\u001b[39m \u001b[38;5;241m1\u001b[39m;\n",
      "\u001b[0;31mKeyboardInterrupt\u001b[0m: "
     ]
    }
   ],
   "source": [
    "#model.run_gibbs_sweep()\n",
    "# model._gibbs_sample_single_node(0, 0)"
   ]
  },
  {
   "cell_type": "code",
   "execution_count": 11,
   "metadata": {},
   "outputs": [
    {
     "name": "stdout",
     "output_type": "stream",
     "text": [
      "[[0 0 0]\n",
      " [1 1 1]\n",
      " [2 2 2]\n",
      " [1 3 3]\n",
      " [4 4 4]\n",
      " [5 5 5]\n",
      " [4 6 6]]\n"
     ]
    }
   ],
   "source": [
    "print(model._C_ptr)"
   ]
  },
  {
   "cell_type": "code",
   "execution_count": 14,
   "metadata": {},
   "outputs": [
    {
     "name": "stdout",
     "output_type": "stream",
     "text": [
      "[[ 0  5 12]\n",
      " [ 1  6 13]\n",
      " [ 2  7 14]\n",
      " [ 1  8 15]\n",
      " [ 3  9 16]\n",
      " [ 4 10 17]\n",
      " [ 3 11 18]]\n"
     ]
    }
   ],
   "source": [
    "print(model._C_tables)"
   ]
  }
 ],
 "metadata": {
  "interpreter": {
   "hash": "fa7646fadbe57c277d76ff36de8f181b6360ae43924dda8e36f9c735fd43eb1d"
  },
  "kernelspec": {
   "display_name": "Python 3.10.11 64-bit ('JaiYuLab': conda)",
   "language": "python",
   "name": "python3"
  },
  "language_info": {
   "codemirror_mode": {
    "name": "ipython",
    "version": 3
   },
   "file_extension": ".py",
   "mimetype": "text/x-python",
   "name": "python",
   "nbconvert_exporter": "python",
   "pygments_lexer": "ipython3",
   "version": "3.10.11"
  },
  "orig_nbformat": 4
 },
 "nbformat": 4,
 "nbformat_minor": 2
}
