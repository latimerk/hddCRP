{
 "cells": [
  {
   "cell_type": "code",
   "execution_count": 1,
   "metadata": {},
   "outputs": [],
   "source": [
    "import hddCRP.simulations\n",
    "import hddCRP.modelFitting\n",
    "import hddCRP.behaviorDataHandlers\n",
    "import numpy as np\n",
    "import matplotlib.pyplot as plt\n",
    "import matplotlib as mpl\n",
    "import networkx as nx"
   ]
  },
  {
   "cell_type": "code",
   "execution_count": 2,
   "metadata": {},
   "outputs": [
    {
     "name": "stdout",
     "output_type": "stream",
     "text": [
      "[array(['L', 'L', 'L', 'L', 'L', 'L', 'L', 'L', 'L', 'L', 'R', 'L', 'L',\n",
      "       'L', 'R', 'R', 'L', 'R', 'R', 'R', 'L', 'R', 'L', 'L', 'L', 'L',\n",
      "       'L', 'L', 'L', 'L', 'L', 'L', 'L', 'L', 'L', 'L', 'L', 'L', 'L',\n",
      "       'L', 'L', 'L', 'L', 'L', 'L', 'S', 'L', 'L', 'L', 'L'], dtype='<U1'), array(['L', 'L', 'L', 'L', 'L', 'L', 'L', 'L', 'L', 'L', 'S', 'R', 'R',\n",
      "       'R', 'R', 'L', 'R', 'R', 'L', 'L', 'R', 'L', 'L', 'L', 'L', 'L',\n",
      "       'L', 'L', 'L', 'L', 'R', 'L', 'L', 'L', 'L', 'L', 'L', 'R', 'L',\n",
      "       'L', 'L', 'L', 'R', 'S', 'L', 'L', 'L', 'L', 'L', 'L', 'L', 'L',\n",
      "       'L', 'L', 'L'], dtype='<U1')]\n"
     ]
    }
   ],
   "source": [
    "session_lengths = [50,55,53,50,50, 50,50,50,50,50,50,50,50,50,50] # number of observations (left, right, or straight actions) per session\n",
    "session_labels = ['A', 'A', 'A', 'A', 'A', 'B', 'B', 'B', 'B', 'B', 'B', 'B', 'B', 'B', 'B'] # which maze\n",
    "\n",
    "# session_lengths = [4,3]#[10, 15]\n",
    "# session_labels  = ['A', 'B']\n",
    "\n",
    "action_labels = ['L', 'R', 'S'] # turn type: label can be int or other type too\n",
    "\n",
    "depth  = 3; # look 2 actions in the past\n",
    "alphas = [2,5,8] # concentration parameters: per depth in the hddCRP tree. alphas[0] first level (no action context), alphas[1] is the second (for regularizing p(y_t | y_{t-1})), etc...\n",
    "between_session_time_constants = np.array([[3, 1],\n",
    "                                            [1, 3]]) # units = sessions\n",
    "within_session_time_constant = 20 # units = actions\n",
    "\n",
    "seqs, connection_data = hddCRP.simulations.simulate_sequential_hddCRP(session_lengths, session_labels, action_labels, depth, alphas, between_session_time_constants, within_session_time_constant)\n",
    "print(seqs[:2])\n"
   ]
  },
  {
   "cell_type": "code",
   "execution_count": 3,
   "metadata": {},
   "outputs": [
    {
     "name": "stdout",
     "output_type": "stream",
     "text": [
      "not plotting graph: too many nodes\n"
     ]
    }
   ],
   "source": [
    "num_sessions_to_plot = min(3, len(session_lengths));\n",
    "\n",
    "if(np.sum(session_lengths[:num_sessions_to_plot]) < 50):\n",
    "    ax = plt.gca()\n",
    "    hddCRP.simulations.make_graph_plot(connection_data, ax, num_sessions=num_sessions_to_plot)\n",
    "    plt.show()\n",
    "else:\n",
    "    print(\"not plotting graph: too many nodes\")\n"
   ]
  },
  {
   "cell_type": "code",
   "execution_count": 4,
   "metadata": {},
   "outputs": [],
   "source": [
    "model = hddCRP.simulations.create_hddCRPModel_from_simulated_sequential_hddCRP(seqs, connection_data)"
   ]
  },
  {
   "cell_type": "code",
   "execution_count": 5,
   "metadata": {},
   "outputs": [
    {
     "name": "stdout",
     "output_type": "stream",
     "text": [
      "False\n",
      "[2 5 8]\n"
     ]
    }
   ],
   "source": [
    "sigma2 = 0.1**2\n",
    "model, log_acceptance_probability, accepted = hddCRP.behaviorDataHandlers.Metropolis_Hastings_step_for_maze_data(model, sigma2)\n",
    "print(accepted)\n",
    "print(model.alpha)"
   ]
  },
  {
   "cell_type": "code",
   "execution_count": 6,
   "metadata": {},
   "outputs": [],
   "source": [
    "model.run_gibbs_sweep()\n",
    "model._validate_internals(\"post\")"
   ]
  },
  {
   "cell_type": "code",
   "execution_count": 7,
   "metadata": {},
   "outputs": [
    {
     "name": "stdout",
     "output_type": "stream",
     "text": [
      "0\n",
      "10\n",
      "20\n",
      "30\n",
      "40\n"
     ]
    }
   ],
   "source": [
    "sigma2 = 0.1**2\n",
    "S = 1000\n",
    "log_acceptance_probability = np.zeros((S))\n",
    "accepted = np.zeros((S),dtype=bool)\n",
    "alphas = np.zeros((S,model.alpha.size))\n",
    "log_taus = np.zeros((S,model.weight_params.size))\n",
    "for ss in range(S):\n",
    "    if(ss % 10 == 0):\n",
    "        print(ss)\n",
    "    model.run_gibbs_sweep()\n",
    "    model, log_acceptance_probability[ss], accepted[ss] = hddCRP.behaviorDataHandlers.Metropolis_Hastings_step_for_maze_data(model, sigma2)\n",
    "\n",
    "    alphas[ss,:] = model.alpha\n",
    "    log_taus[ss,:] = model.weight_params\n",
    "print(accepted.mean())"
   ]
  },
  {
   "cell_type": "code",
   "execution_count": null,
   "metadata": {},
   "outputs": [],
   "source": [
    "plt.subplot(2,1,1)\n",
    "plt.plot(alphas)\n",
    "plt.subplot(2,1,2)\n",
    "plt.plot(np.exp(log_taus))\n",
    "plt.show()"
   ]
  },
  {
   "cell_type": "code",
   "execution_count": null,
   "metadata": {},
   "outputs": [],
   "source": [
    "print(model._D[:5,:5,0])"
   ]
  }
 ],
 "metadata": {
  "interpreter": {
   "hash": "fa7646fadbe57c277d76ff36de8f181b6360ae43924dda8e36f9c735fd43eb1d"
  },
  "kernelspec": {
   "display_name": "Python 3.10.11 64-bit ('JaiYuLab': conda)",
   "language": "python",
   "name": "python3"
  },
  "language_info": {
   "codemirror_mode": {
    "name": "ipython",
    "version": 3
   },
   "file_extension": ".py",
   "mimetype": "text/x-python",
   "name": "python",
   "nbconvert_exporter": "python",
   "pygments_lexer": "ipython3",
   "version": "3.10.12"
  },
  "orig_nbformat": 4
 },
 "nbformat": 4,
 "nbformat_minor": 2
}
