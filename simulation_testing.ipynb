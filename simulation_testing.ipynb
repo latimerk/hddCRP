{
 "cells": [
  {
   "cell_type": "code",
   "execution_count": 1,
   "metadata": {},
   "outputs": [],
   "source": [
    "import hddCRP.simulations\n",
    "import hddCRP.modelFitting\n",
    "import hddCRP.behaviorDataHandlers\n",
    "import numpy as np\n",
    "import matplotlib.pyplot as plt\n",
    "import matplotlib as mpl\n",
    "import networkx as nx"
   ]
  },
  {
   "cell_type": "code",
   "execution_count": 2,
   "metadata": {},
   "outputs": [
    {
     "name": "stdout",
     "output_type": "stream",
     "text": [
      "[array(['L', 'S', 'S', 'L', 'L', 'S', 'S', 'S', 'S', 'R', 'S', 'S', 'R',\n",
      "       'S', 'L', 'S', 'S', 'R', 'S', 'S', 'R', 'S', 'S', 'L', 'R', 'L',\n",
      "       'L', 'S', 'S', 'L', 'L', 'L', 'R', 'L', 'S', 'S', 'L', 'L', 'S',\n",
      "       'S', 'L', 'S', 'S', 'R', 'S', 'S', 'S', 'S', 'L', 'R'], dtype='<U1'), array(['L', 'S', 'L', 'L', 'L', 'L', 'S', 'S', 'L', 'L', 'R', 'L', 'S',\n",
      "       'L', 'L', 'S', 'S', 'L', 'L', 'S', 'S', 'S', 'S', 'L', 'R', 'L',\n",
      "       'R', 'L', 'R', 'L', 'S', 'L', 'S', 'S', 'L', 'R', 'L', 'S', 'L',\n",
      "       'L', 'S', 'L', 'L', 'R', 'L', 'S', 'S', 'R', 'S', 'S'], dtype='<U1')]\n"
     ]
    }
   ],
   "source": [
    "session_lengths = [50, 50,50,50,50,50,50,50,50,50,50] # number of observations (left, right, or straight actions) per session\n",
    "session_labels = ['A', 'A', 'A', 'B', 'B', 'B', 'B', 'B', 'B', 'B', 'B'] # which maze\n",
    "\n",
    "# session_lengths = [4,3]#[10, 15]\n",
    "# session_labels  = ['A', 'B']\n",
    "\n",
    "action_labels = ['L', 'R', 'S'] # turn type: label can be int or other type too\n",
    "\n",
    "depth  = 3; # look 2 actions in the past\n",
    "alphas = [2,10,20] # concentration parameters: per depth in the hddCRP tree. alphas[0] first level (no action context), alphas[1] is the second (for regularizing p(y_t | y_{t-1})), etc...\n",
    "between_session_time_constants = np.array([[4, 2],\n",
    "                                            [2, 4]]) # units = sessions\n",
    "within_session_time_constant = 20 # units = actions\n",
    "\n",
    "seqs, connection_data = hddCRP.simulations.simulate_sequential_hddCRP(session_lengths, session_labels, action_labels, depth, alphas, between_session_time_constants, within_session_time_constant)\n",
    "print(seqs[:2])\n"
   ]
  },
  {
   "cell_type": "code",
   "execution_count": 3,
   "metadata": {},
   "outputs": [
    {
     "name": "stdout",
     "output_type": "stream",
     "text": [
      "not plotting graph: too many nodes\n"
     ]
    }
   ],
   "source": [
    "num_sessions_to_plot = min(3, len(session_lengths));\n",
    "\n",
    "if(np.sum(session_lengths[:num_sessions_to_plot]) < 50):\n",
    "    ax = plt.gca()\n",
    "    hddCRP.simulations.make_graph_plot(connection_data, ax, num_sessions=num_sessions_to_plot)\n",
    "    plt.show()\n",
    "else:\n",
    "    print(\"not plotting graph: too many nodes\")\n"
   ]
  },
  {
   "cell_type": "code",
   "execution_count": 4,
   "metadata": {},
   "outputs": [],
   "source": [
    "model = hddCRP.simulations.create_hddCRPModel_from_simulated_sequential_hddCRP(seqs, connection_data)"
   ]
  },
  {
   "cell_type": "code",
   "execution_count": 5,
   "metadata": {},
   "outputs": [
    {
     "name": "stdout",
     "output_type": "stream",
     "text": [
      "True\n",
      "[2.51467991 4.50154787 9.03860081]\n"
     ]
    }
   ],
   "source": [
    "sigma2 = 0.1**2\n",
    "model, log_acceptance_probability, accepted = hddCRP.behaviorDataHandlers.Metropolis_Hastings_step_for_maze_data(model, sigma2)\n",
    "print(accepted)\n",
    "print(model.alpha)"
   ]
  },
  {
   "cell_type": "code",
   "execution_count": 6,
   "metadata": {},
   "outputs": [],
   "source": [
    "model.run_gibbs_sweep()\n",
    "model._validate_internals(\"post\")"
   ]
  },
  {
   "cell_type": "code",
   "execution_count": 12,
   "metadata": {},
   "outputs": [
    {
     "name": "stdout",
     "output_type": "stream",
     "text": [
      "0\n",
      "10\n",
      "20\n",
      "30\n",
      "40\n",
      "50\n",
      "60\n",
      "70\n",
      "80\n",
      "90\n",
      "100\n",
      "110\n",
      "120\n",
      "130\n",
      "140\n",
      "150\n",
      "160\n",
      "170\n",
      "180\n",
      "190\n",
      "200\n",
      "210\n",
      "220\n",
      "230\n",
      "240\n",
      "250\n",
      "260\n",
      "270\n",
      "280\n",
      "290\n",
      "300\n",
      "310\n",
      "320\n",
      "330\n",
      "340\n",
      "350\n",
      "360\n",
      "370\n",
      "380\n",
      "390\n",
      "400\n",
      "410\n",
      "420\n",
      "430\n",
      "440\n",
      "450\n",
      "460\n"
     ]
    },
    {
     "ename": "KeyboardInterrupt",
     "evalue": "",
     "output_type": "error",
     "traceback": [
      "\u001b[1;31m---------------------------------------------------------------------------\u001b[0m",
      "\u001b[1;31mKeyboardInterrupt\u001b[0m                         Traceback (most recent call last)",
      "Cell \u001b[1;32mIn[12], line 10\u001b[0m\n\u001b[0;32m      8\u001b[0m \u001b[39mif\u001b[39;00m(ss \u001b[39m%\u001b[39m \u001b[39m10\u001b[39m \u001b[39m==\u001b[39m \u001b[39m0\u001b[39m):\n\u001b[0;32m      9\u001b[0m     \u001b[39mprint\u001b[39m(ss)\n\u001b[1;32m---> 10\u001b[0m model\u001b[39m.\u001b[39;49mrun_gibbs_sweep()\n\u001b[0;32m     11\u001b[0m model, log_acceptance_probability[ss], accepted[ss] \u001b[39m=\u001b[39m hddCRP\u001b[39m.\u001b[39mbehaviorDataHandlers\u001b[39m.\u001b[39mMetropolis_Hastings_step_for_maze_data(model, sigma2)\n\u001b[0;32m     13\u001b[0m alphas[ss,:] \u001b[39m=\u001b[39m model\u001b[39m.\u001b[39malpha\n",
      "File \u001b[1;32m~\\gitCode\\hddCRP\\src\\hddCRP\\modelFitting.py:980\u001b[0m, in \u001b[0;36mhddCRPModel.run_gibbs_sweep\u001b[1;34m(self, order, DEBUG_MODE)\u001b[0m\n\u001b[0;32m    978\u001b[0m codes \u001b[39m=\u001b[39m np\u001b[39m.\u001b[39mzeros((order\u001b[39m.\u001b[39mshape[\u001b[39m0\u001b[39m]), dtype\u001b[39m=\u001b[39m\u001b[39mint\u001b[39m)\n\u001b[0;32m    979\u001b[0m \u001b[39mfor\u001b[39;00m ii \u001b[39min\u001b[39;00m \u001b[39mrange\u001b[39m(order\u001b[39m.\u001b[39mshape[\u001b[39m0\u001b[39m]):\n\u001b[1;32m--> 980\u001b[0m     codes[order[ii,\u001b[39m0\u001b[39m]] \u001b[39m=\u001b[39m \u001b[39mself\u001b[39;49m\u001b[39m.\u001b[39;49m_gibbs_sample_single_node(order[ii,\u001b[39m0\u001b[39;49m], order[ii,\u001b[39m1\u001b[39;49m], DEBUG_MODE\u001b[39m=\u001b[39;49mDEBUG_MODE);\n\u001b[0;32m    981\u001b[0m \u001b[39mreturn\u001b[39;00m (codes, order)\n",
      "File \u001b[1;32m~\\gitCode\\hddCRP\\src\\hddCRP\\modelFitting.py:1133\u001b[0m, in \u001b[0;36mhddCRPModel._gibbs_sample_single_node\u001b[1;34m(self, node, layer, DEBUG_MODE)\u001b[0m\n\u001b[0;32m   1130\u001b[0m     \u001b[39mself\u001b[39m\u001b[39m.\u001b[39m_CB_num_labeled_in_table \u001b[39m=\u001b[39m \u001b[39mself\u001b[39m\u001b[39m.\u001b[39m_C_num_labeled_in_table\u001b[39m.\u001b[39mcopy()\n\u001b[0;32m   1131\u001b[0m     \u001b[39mself\u001b[39m\u001b[39m.\u001b[39m_CB_num_labeled_upstream \u001b[39m=\u001b[39m \u001b[39mself\u001b[39m\u001b[39m.\u001b[39m_C_num_labeled_upstream\u001b[39m.\u001b[39mcopy()\n\u001b[1;32m-> 1133\u001b[0m can_connect_to, post, \u001b[39m*\u001b[39m_ \u001b[39m=\u001b[39m \u001b[39mself\u001b[39;49m\u001b[39m.\u001b[39;49m_post_for_single_nodes_connections(node, layer);\n\u001b[0;32m   1134\u001b[0m node_to \u001b[39m=\u001b[39m np\u001b[39m.\u001b[39mrandom\u001b[39m.\u001b[39mchoice(can_connect_to, p \u001b[39m=\u001b[39m post\u001b[39m/\u001b[39mnp\u001b[39m.\u001b[39msum(post))\n\u001b[0;32m   1136\u001b[0m connection_type \u001b[39m=\u001b[39m \u001b[39mself\u001b[39m\u001b[39m.\u001b[39m_set_connection(node, node_to, layer)\n",
      "File \u001b[1;32m~\\gitCode\\hddCRP\\src\\hddCRP\\modelFitting.py:1034\u001b[0m, in \u001b[0;36mhddCRPModel._post_for_single_nodes_connections\u001b[1;34m(self, node, layer, print_msgs)\u001b[0m\n\u001b[0;32m   1027\u001b[0m destination_Y \u001b[39m=\u001b[39m \u001b[39mself\u001b[39m\u001b[39m.\u001b[39m_C_table_values[destination_tables];\n\u001b[0;32m   1029\u001b[0m \u001b[39m# probabilities of observing each table count that a move is associated with (connecting UNKNOWN_OBSERVATION to a known table will determine table type)\u001b[39;00m\n\u001b[0;32m   1030\u001b[0m \u001b[39m# log_G_delta = np.zeros((can_connect_to.size));\u001b[39;00m\n\u001b[0;32m   1031\u001b[0m \u001b[39m# if(Y_type != hddCRPModel.UNKNOWN_OBSERVATION):\u001b[39;00m\n\u001b[0;32m   1032\u001b[0m \u001b[39m#     log_G_delta[:] = self.log_BaseMeasure[Y_type]\u001b[39;00m\n\u001b[0;32m   1033\u001b[0m \u001b[39m# log_G_delta[destination_Y != hddCRPModel.UNKNOWN_OBSERVATION] = self.log_BaseMeasure[destination_Y[destination_Y != hddCRPModel.UNKNOWN_OBSERVATION]];\u001b[39;00m\n\u001b[1;32m-> 1034\u001b[0m G_delta \u001b[39m=\u001b[39m np\u001b[39m.\u001b[39;49mones((can_connect_to\u001b[39m.\u001b[39;49msize));\n\u001b[0;32m   1035\u001b[0m \u001b[39mif\u001b[39;00m(Y_type \u001b[39m!=\u001b[39m hddCRPModel\u001b[39m.\u001b[39mUNKNOWN_OBSERVATION):\n\u001b[0;32m   1036\u001b[0m     G_delta[:] \u001b[39m=\u001b[39m \u001b[39mself\u001b[39m\u001b[39m.\u001b[39mBaseMeasure[Y_type]\n",
      "File \u001b[1;32mc:\\Users\\latim\\anaconda3\\envs\\JaiYuLab\\lib\\site-packages\\numpy\\core\\numeric.py:150\u001b[0m, in \u001b[0;36mones\u001b[1;34m(shape, dtype, order, like)\u001b[0m\n\u001b[0;32m    146\u001b[0m \u001b[39mdef\u001b[39;00m \u001b[39m_ones_dispatcher\u001b[39m(shape, dtype\u001b[39m=\u001b[39m\u001b[39mNone\u001b[39;00m, order\u001b[39m=\u001b[39m\u001b[39mNone\u001b[39;00m, \u001b[39m*\u001b[39m, like\u001b[39m=\u001b[39m\u001b[39mNone\u001b[39;00m):\n\u001b[0;32m    147\u001b[0m     \u001b[39mreturn\u001b[39;00m(like,)\n\u001b[1;32m--> 150\u001b[0m \u001b[39m@set_array_function_like_doc\u001b[39m\n\u001b[0;32m    151\u001b[0m \u001b[39m@set_module\u001b[39m(\u001b[39m'\u001b[39m\u001b[39mnumpy\u001b[39m\u001b[39m'\u001b[39m)\n\u001b[0;32m    152\u001b[0m \u001b[39mdef\u001b[39;00m \u001b[39mones\u001b[39m(shape, dtype\u001b[39m=\u001b[39m\u001b[39mNone\u001b[39;00m, order\u001b[39m=\u001b[39m\u001b[39m'\u001b[39m\u001b[39mC\u001b[39m\u001b[39m'\u001b[39m, \u001b[39m*\u001b[39m, like\u001b[39m=\u001b[39m\u001b[39mNone\u001b[39;00m):\n\u001b[0;32m    153\u001b[0m \u001b[39m    \u001b[39m\u001b[39m\"\"\"\u001b[39;00m\n\u001b[0;32m    154\u001b[0m \u001b[39m    Return a new array of given shape and type, filled with ones.\u001b[39;00m\n\u001b[0;32m    155\u001b[0m \n\u001b[1;32m   (...)\u001b[0m\n\u001b[0;32m    200\u001b[0m \n\u001b[0;32m    201\u001b[0m \u001b[39m    \"\"\"\u001b[39;00m\n\u001b[0;32m    202\u001b[0m     \u001b[39mif\u001b[39;00m like \u001b[39mis\u001b[39;00m \u001b[39mnot\u001b[39;00m \u001b[39mNone\u001b[39;00m:\n",
      "\u001b[1;31mKeyboardInterrupt\u001b[0m: "
     ]
    }
   ],
   "source": [
    "sigma2 = 0.1**2\n",
    "S = 1000\n",
    "log_acceptance_probability = np.zeros((S))\n",
    "accepted = np.zeros((S),dtype=bool)\n",
    "alphas = np.zeros((S,model.alpha.size))\n",
    "log_taus = np.zeros((S,model.weight_params.size))\n",
    "for ss in range(S):\n",
    "    if(ss % 10 == 0):\n",
    "        print(ss)\n",
    "    model.run_gibbs_sweep()\n",
    "    model, log_acceptance_probability[ss], accepted[ss] = hddCRP.behaviorDataHandlers.Metropolis_Hastings_step_for_maze_data(model, sigma2)\n",
    "\n",
    "    alphas[ss,:] = model.alpha\n",
    "    log_taus[ss,:] = model.weight_params\n",
    "print(accepted.mean())"
   ]
  },
  {
   "cell_type": "code",
   "execution_count": 13,
   "metadata": {},
   "outputs": [
    {
     "data": {
      "image/png": "[encoded data removed]",
      "text/plain": [
       "<Figure size 640x480 with 2 Axes>"
      ]
     },
     "metadata": {},
     "output_type": "display_data"
    }
   ],
   "source": [
    "plt.subplot(2,1,1)\n",
    "plt.plot(alphas)\n",
    "plt.subplot(2,1,2)\n",
    "plt.plot(np.exp(log_taus))\n",
    "plt.show()"
   ]
  },
  {
   "cell_type": "code",
   "execution_count": 9,
   "metadata": {},
   "outputs": [
    {
     "name": "stdout",
     "output_type": "stream",
     "text": [
      "[[ 0. inf inf inf inf]\n",
      " [ 1.  0. inf inf inf]\n",
      " [ 2.  1.  0. inf inf]\n",
      " [ 3.  2.  1.  0. inf]\n",
      " [ 4.  3.  2.  1.  0.]]\n"
     ]
    }
   ],
   "source": [
    "print(model._D[:5,:5,0])"
   ]
  }
 ],
 "metadata": {
  "interpreter": {
   "hash": "fa7646fadbe57c277d76ff36de8f181b6360ae43924dda8e36f9c735fd43eb1d"
  },
  "kernelspec": {
   "display_name": "Python 3.10.11 64-bit ('JaiYuLab': conda)",
   "language": "python",
   "name": "python3"
  },
  "language_info": {
   "codemirror_mode": {
    "name": "ipython",
    "version": 3
   },
   "file_extension": ".py",
   "mimetype": "text/x-python",
   "name": "python",
   "nbconvert_exporter": "python",
   "pygments_lexer": "ipython3",
   "version": "3.10.12"
  },
  "orig_nbformat": 4
 },
 "nbformat": 4,
 "nbformat_minor": 2
}
