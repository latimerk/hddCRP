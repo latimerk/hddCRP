{
 "cells": [
  {
   "cell_type": "code",
   "execution_count": null,
   "metadata": {},
   "outputs": [],
   "source": [
    "import pickle\n",
    "import hddCRP.behaviorDataHandlers\n",
    "import matplotlib.pyplot as plt\n",
    "import numpy as np"
   ]
  },
  {
   "cell_type": "code",
   "execution_count": null,
   "metadata": {},
   "outputs": [],
   "source": [
    "\n",
    "data_file = open('data/Data_turns_all_by_session.pkl', 'rb')\n",
    "data = pickle.load(data_file)\n",
    "data_file.close()\n"
   ]
  },
  {
   "cell_type": "code",
   "execution_count": null,
   "metadata": {},
   "outputs": [],
   "source": [
    "subjects = list(data[\"data\"].keys())\n",
    "subjects.sort()\n",
    "print(\"subjects = \" + str(subjects))\n",
    "\n",
    "subject_idx = 0;\n",
    "subject = subjects[subject_idx]\n",
    "sequences = data[\"data\"][subject][\"data\"]; # turns in each session\n",
    "session_types = data[\"data\"][subject][\"task\"] # which maze\n",
    "\n",
    "session_lengths = [len(xx) for xx in sequences]\n",
    "print(\"subject = \" + str(subject))\n",
    "print(\"N sessions = \" + str(len(session_lengths)))\n",
    "print(\"lengths = \" + str(session_lengths))\n",
    "print(\"session_types = \" + str(session_types))"
   ]
  },
  {
   "cell_type": "code",
   "execution_count": null,
   "metadata": {},
   "outputs": [],
   "source": [
    "\n"
   ]
  },
  {
   "cell_type": "code",
   "execution_count": null,
   "metadata": {},
   "outputs": [],
   "source": [
    "run = 0;\n",
    "\n",
    "seed = subject_idx * 1000 + run;\n",
    "rng = np.random.Generator(np.random.MT19937(seed))\n",
    "\n",
    "model = hddCRP.behaviorDataHandlers.create_hddCRP(sequences, session_types, rng = rng)\n",
    "\n",
    "print(\"initial alphas\")\n",
    "print(model.alpha)\n",
    "print(\"initial taus\")\n",
    "print(np.exp(model.weight_params))\n",
    "print(model.weight_param_labels)\n",
    "\n",
    "# for each run, should do some randomization of initial parameters (with known seeds so we can repeat everything)\n",
    "num_samples = 5;\n",
    "model, alphas, log_taus, log_acceptance_probability, accepted = hddCRP.behaviorDataHandlers.sample_model_for_maze_data_with_fixed_MH_step(model, num_samples)\n",
    "\n",
    "plt.subplot(2,1,1)\n",
    "plt.plot(alphas)\n",
    "plt.subplot(2,1,2)\n",
    "plt.plot(np.exp(log_taus))\n",
    "plt.show()\n",
    "\n",
    "print(\"fraction of accepted samples = \" + str(accepted.mean()))"
   ]
  }
 ],
 "metadata": {
  "kernelspec": {
   "display_name": "JaiYuLab",
   "language": "python",
   "name": "python3"
  },
  "language_info": {
   "codemirror_mode": {
    "name": "ipython",
    "version": 3
   },
   "file_extension": ".py",
   "mimetype": "text/x-python",
   "name": "python",
   "nbconvert_exporter": "python",
   "pygments_lexer": "ipython3",
   "version": "3.10.12"
  },
  "orig_nbformat": 4
 },
 "nbformat": 4,
 "nbformat_minor": 2
}
