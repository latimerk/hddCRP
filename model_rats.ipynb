{
 "cells": [
  {
   "cell_type": "code",
   "execution_count": 1,
   "metadata": {},
   "outputs": [],
   "source": [
    "import pickle\n",
    "import hddCRP.behaviorDataHandlers\n",
    "import matplotlib.pyplot as plt\n",
    "import numpy as np"
   ]
  },
  {
   "cell_type": "code",
   "execution_count": 2,
   "metadata": {},
   "outputs": [],
   "source": [
    "\n",
    "data_file = open('data/Data_turns_all_by_session.pkl', 'rb')\n",
    "\n",
    "data = pickle.load(data_file)\n",
    "\n",
    "data_file.close()\n"
   ]
  },
  {
   "cell_type": "code",
   "execution_count": 3,
   "metadata": {},
   "outputs": [
    {
     "name": "stdout",
     "output_type": "stream",
     "text": [
      "N sessions = 30\n",
      "lengths = [45, 56, 52, 68, 60, 50, 58, 88, 98, 110, 115, 134, 143, 103, 123, 155, 111, 154, 93, 132, 52, 79, 78, 121, 98, 110, 110, 125, 93, 71]\n",
      "session_types = ['H', 'H', 'H', 'H', 'H', 'H', 'H', 'H', 'H', 'H', 'H', 'H', 'H', 'H', 'H', 'H', 'H', 'H', 'H', 'H', 'C', 'C', 'C', 'C', 'C', 'C', 'C', 'C', 'C', 'C']\n"
     ]
    }
   ],
   "source": [
    "subject = \"A1\"\n",
    "sequences = data[\"data\"][subject][\"data\"]; # turns in each session\n",
    "session_types = data[\"data\"][subject][\"task\"] # which maze\n",
    "model = hddCRP.behaviorDataHandlers.create_hddCRP(sequences, session_types)\n",
    "\n",
    "session_lengths = [len(xx) for xx in sequences]\n",
    "print(\"subject = \" + str(subject))\n",
    "print(\"N sessions = \" + str(len(session_lengths)))\n",
    "print(\"lengths = \" + str(session_lengths))\n",
    "print(\"session_types = \" + str(session_types))"
   ]
  },
  {
   "cell_type": "code",
   "execution_count": 4,
   "metadata": {},
   "outputs": [],
   "source": [
    "model.run_gibbs_sweep()\n",
    "model, log_acceptance_probability, accepted = hddCRP.behaviorDataHandlers.Metropolis_Hastings_step_for_maze_data(model, 0.1**2)"
   ]
  },
  {
   "cell_type": "code",
   "execution_count": 5,
   "metadata": {},
   "outputs": [],
   "source": [
    "# for each run, should do some randomization of initial parameters (with known seeds so we can repeat everything)\n",
    "num_samples = 200;\n",
    "model, alphas, log_taus, log_acceptance_probability, accepted = hddCRP.behaviorDataHandlers.sample_model_for_maze_data_with_fixed_MH_step(model, num_samples)\n",
    "\n",
    "plt.subplot(2,1,1)\n",
    "plt.plot(alphas)\n",
    "plt.subplot(2,1,2)\n",
    "plt.plot(np.exp(log_taus))\n",
    "plt.show()\n",
    "\n",
    "print(\"fraction of accepted samples = \" + str(accepted.mean()))"
   ]
  }
 ],
 "metadata": {
  "kernelspec": {
   "display_name": "JaiYuLab",
   "language": "python",
   "name": "python3"
  },
  "language_info": {
   "codemirror_mode": {
    "name": "ipython",
    "version": 3
   },
   "file_extension": ".py",
   "mimetype": "text/x-python",
   "name": "python",
   "nbconvert_exporter": "python",
   "pygments_lexer": "ipython3",
   "version": "3.10.12"
  },
  "orig_nbformat": 4
 },
 "nbformat": 4,
 "nbformat_minor": 2
}
