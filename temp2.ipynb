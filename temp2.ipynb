{
 "cells": [
  {
   "cell_type": "code",
   "execution_count": 1,
   "metadata": {},
   "outputs": [],
   "source": [
    "import nest_asyncio\n",
    "nest_asyncio.apply()\n",
    "import numpy as np\n",
    "import pandas as pd\n",
    "import pickle\n",
    "import matplotlib.pyplot as plt\n",
    "import seaborn as sns\n",
    "\n",
    "from hddCRP.newContextModel3 import load_turns_and_locations\n",
    "from hddCRP.newContextModel3 import create_pop_model"
   ]
  },
  {
   "cell_type": "code",
   "execution_count": 2,
   "metadata": {},
   "outputs": [
    {
     "name": "stdout",
     "output_type": "stream",
     "text": [
      "Building...\n"
     ]
    },
    {
     "name": "stderr",
     "output_type": "stream",
     "text": [
      "\n",
      "Building: 31.3s, done.Messages from stanc:\n",
      "Warning: The parameter timeconstant has no priors. This means either no prior\n",
      "    is provided, or the prior(s) depend on data variables. In the later case,\n",
      "    this may be a false positive.\n",
      "Warning: The parameter subject_similarity_b has no priors. This means either\n",
      "    no prior is provided, or the prior(s) depend on data variables. In the\n",
      "    later case, this may be a false positive.\n",
      "Warning: The parameter subject_similarity_a has no priors. This means either\n",
      "    no prior is provided, or the prior(s) depend on data variables. In the\n",
      "    later case, this may be a false positive.\n",
      "Warning: The parameter context_b_depth_1 has no priors. This means either no\n",
      "    prior is provided, or the prior(s) depend on data variables. In the later\n",
      "    case, this may be a false positive.\n",
      "Warning: The parameter context_a_depth_1 has no priors. This means either no\n",
      "    prior is provided, or the prior(s) depend on data variables. In the later\n",
      "    case, this may be a false positive.\n",
      "Warning: The parameter alpha has no priors. This means either no prior is\n",
      "    provided, or the prior(s) depend on data variables. In the later case,\n",
      "    this may be a false positive.\n",
      "Sampling:   0%\n",
      "Sampling:   0% (1/8000)\n",
      "Sampling:   0% (2/8000)\n",
      "Sampling:   0% (3/8000)\n",
      "Sampling:   0% (4/8000)\n",
      "Sampling:   1% (103/8000)\n",
      "Sampling:   3% (202/8000)\n",
      "Sampling:   4% (301/8000)\n",
      "Sampling:   5% (400/8000)\n",
      "Sampling:   6% (500/8000)\n",
      "Sampling:   8% (600/8000)\n",
      "Sampling:   9% (700/8000)\n",
      "Sampling:  10% (800/8000)\n",
      "Sampling:  11% (900/8000)\n",
      "Sampling:  12% (1000/8000)\n",
      "Sampling:  14% (1100/8000)\n",
      "Sampling:  15% (1200/8000)\n",
      "Sampling:  16% (1300/8000)\n",
      "Sampling:  18% (1400/8000)\n",
      "Sampling:  19% (1500/8000)\n",
      "Sampling:  20% (1600/8000)\n",
      "Sampling:  21% (1700/8000)\n",
      "Sampling:  22% (1800/8000)\n",
      "Sampling:  24% (1900/8000)\n",
      "Sampling:  25% (2000/8000)\n",
      "Sampling:  26% (2100/8000)\n",
      "Sampling:  28% (2200/8000)\n",
      "Sampling:  29% (2300/8000)\n",
      "Sampling:  30% (2400/8000)\n",
      "Sampling:  31% (2500/8000)\n",
      "Sampling:  32% (2600/8000)\n",
      "Sampling:  34% (2700/8000)\n",
      "Sampling:  35% (2800/8000)\n",
      "Sampling:  36% (2900/8000)\n",
      "Sampling:  38% (3000/8000)\n",
      "Sampling:  39% (3100/8000)\n",
      "Sampling:  39% (3101/8000)\n",
      "Sampling:  40% (3201/8000)\n",
      "Sampling:  41% (3301/8000)\n",
      "Sampling:  43% (3401/8000)\n",
      "Sampling:  43% (3402/8000)\n",
      "Sampling:  44% (3501/8000)\n",
      "Sampling:  45% (3601/8000)\n",
      "Sampling:  46% (3700/8000)\n",
      "Sampling:  48% (3800/8000)\n",
      "Sampling:  49% (3900/8000)\n",
      "Sampling:  50% (4000/8000)\n",
      "Sampling:  51% (4100/8000)\n",
      "Sampling:  52% (4200/8000)\n",
      "Sampling:  54% (4300/8000)\n",
      "Sampling:  55% (4400/8000)\n",
      "Sampling:  56% (4500/8000)\n",
      "Sampling:  58% (4600/8000)\n",
      "Sampling:  58% (4601/8000)\n",
      "Sampling:  59% (4701/8000)\n",
      "Sampling:  60% (4801/8000)\n",
      "Sampling:  61% (4901/8000)\n",
      "Sampling:  61% (4902/8000)\n",
      "Sampling:  63% (5001/8000)\n",
      "Sampling:  64% (5101/8000)\n",
      "Sampling:  65% (5201/8000)\n",
      "Sampling:  66% (5300/8000)\n",
      "Sampling:  68% (5400/8000)\n",
      "Sampling:  69% (5500/8000)\n",
      "Sampling:  70% (5600/8000)\n",
      "Sampling:  71% (5700/8000)\n",
      "Sampling:  72% (5800/8000)\n",
      "Sampling:  74% (5900/8000)\n",
      "Sampling:  75% (6000/8000)\n",
      "Sampling:  76% (6100/8000)\n",
      "Sampling:  78% (6200/8000)\n",
      "Sampling:  79% (6300/8000)\n",
      "Sampling:  80% (6400/8000)\n",
      "Sampling:  81% (6500/8000)\n",
      "Sampling:  82% (6600/8000)\n",
      "Sampling:  84% (6700/8000)\n",
      "Sampling:  85% (6800/8000)\n",
      "Sampling:  86% (6900/8000)\n",
      "Sampling:  88% (7000/8000)\n",
      "Sampling:  89% (7100/8000)\n",
      "Sampling:  90% (7200/8000)\n",
      "Sampling:  91% (7300/8000)\n",
      "Sampling:  92% (7400/8000)\n",
      "Sampling:  94% (7500/8000)\n",
      "Sampling:  95% (7600/8000)\n",
      "Sampling:  96% (7700/8000)\n",
      "Sampling:  98% (7800/8000)\n",
      "Sampling:  99% (7900/8000)\n",
      "Sampling: 100% (8000/8000)\n",
      "Sampling: 100% (8000/8000), done.\n",
      "Messages received during sampling:\n",
      "  Gradient evaluation took 0.215704 seconds\n",
      "  1000 transitions using 10 leapfrog steps per transition would take 2157.04 seconds.\n",
      "  Adjust your expectations accordingly!\n",
      "  Informational Message: The current Metropolis proposal is about to be rejected because of the following issue:\n",
      "  Exception: gamma_lpdf: Random variable[1] is 0, but must be positive finite! (in '/tmp/httpstan_xwq292_p/model_bcufgmth.stan', line 108, column 4 to column 90)\n",
      "  If this warning occurs sporadically, such as for highly constrained variable types like covariance matrices, then the sampler is fine,\n",
      "  but if this warning occurs often then your model may be either severely ill-conditioned or misspecified.\n",
      "  Informational Message: The current Metropolis proposal is about to be rejected because of the following issue:\n",
      "  Exception: bernoulli_lpmf: Probability parameter[1] is -nan, but must be in the interval [0, 1] (in '/tmp/httpstan_xwq292_p/model_bcufgmth.stan', line 131, column 4 to column 22)\n",
      "  If this warning occurs sporadically, such as for highly constrained variable types like covariance matrices, then the sampler is fine,\n",
      "  but if this warning occurs often then your model may be either severely ill-conditioned or misspecified.\n",
      "  Gradient evaluation took 0.229052 seconds\n",
      "  1000 transitions using 10 leapfrog steps per transition would take 2290.52 seconds.\n",
      "  Adjust your expectations accordingly!\n",
      "  Informational Message: The current Metropolis proposal is about to be rejected because of the following issue:\n",
      "  Exception: bernoulli_lpmf: Probability parameter[1] is -nan, but must be in the interval [0, 1] (in '/tmp/httpstan_xwq292_p/model_bcufgmth.stan', line 131, column 4 to column 22)\n",
      "  If this warning occurs sporadically, such as for highly constrained variable types like covariance matrices, then the sampler is fine,\n",
      "  but if this warning occurs often then your model may be either severely ill-conditioned or misspecified.\n",
      "  Gradient evaluation took 0.221813 seconds\n",
      "  1000 transitions using 10 leapfrog steps per transition would take 2218.13 seconds.\n",
      "  Adjust your expectations accordingly!\n",
      "  Informational Message: The current Metropolis proposal is about to be rejected because of the following issue:\n",
      "  Exception: gamma_lpdf: Random variable[2] is inf, but must be positive finite! (in '/tmp/httpstan_xwq292_p/model_bcufgmth.stan', line 108, column 4 to column 90)\n",
      "  If this warning occurs sporadically, such as for highly constrained variable types like covariance matrices, then the sampler is fine,\n",
      "  but if this warning occurs often then your model may be either severely ill-conditioned or misspecified.\n",
      "  Informational Message: The current Metropolis proposal is about to be rejected because of the following issue:\n",
      "  Exception: bernoulli_lpmf: Probability parameter[1] is -nan, but must be in the interval [0, 1] (in '/tmp/httpstan_xwq292_p/model_bcufgmth.stan', line 131, column 4 to column 22)\n",
      "  If this warning occurs sporadically, such as for highly constrained variable types like covariance matrices, then the sampler is fine,\n",
      "  but if this warning occurs often then your model may be either severely ill-conditioned or misspecified.\n",
      "  Gradient evaluation took 0.22716 seconds\n",
      "  1000 transitions using 10 leapfrog steps per transition would take 2271.6 seconds.\n",
      "  Adjust your expectations accordingly!\n"
     ]
    },
    {
     "data": {
      "text/plain": [
       "<stan.Fit>\n",
       "Parameters:\n",
       "    alpha: (3,)\n",
       "    timeconstant: ()\n",
       "    subject_similarity_a: ()\n",
       "    subject_similarity_b: ()\n",
       "    context_a_depth_1: ()\n",
       "    context_b_depth_1: ()\n",
       "Draws: 4000"
      ]
     },
     "execution_count": 2,
     "metadata": {},
     "output_type": "execute_result"
    }
   ],
   "source": [
    "model = create_pop_model(\"uniform\")\n",
    "model.build(random_seed=901)\n",
    "model.fit_model()"
   ]
  },
  {
   "cell_type": "code",
   "execution_count": 3,
   "metadata": {},
   "outputs": [
    {
     "name": "stdout",
     "output_type": "stream",
     "text": [
      "Building...\n"
     ]
    },
    {
     "name": "stderr",
     "output_type": "stream",
     "text": [
      "\n",
      "Building: found in cache, done.Messages from stanc:\n",
      "Warning: The parameter timeconstant has no priors. This means either no prior\n",
      "    is provided, or the prior(s) depend on data variables. In the later case,\n",
      "    this may be a false positive.\n",
      "Warning: The parameter subject_similarity_b has no priors. This means either\n",
      "    no prior is provided, or the prior(s) depend on data variables. In the\n",
      "    later case, this may be a false positive.\n",
      "Warning: The parameter subject_similarity_a has no priors. This means either\n",
      "    no prior is provided, or the prior(s) depend on data variables. In the\n",
      "    later case, this may be a false positive.\n",
      "Warning: The parameter context_b_depth_1 has no priors. This means either no\n",
      "    prior is provided, or the prior(s) depend on data variables. In the later\n",
      "    case, this may be a false positive.\n",
      "Warning: The parameter context_a_depth_1 has no priors. This means either no\n",
      "    prior is provided, or the prior(s) depend on data variables. In the later\n",
      "    case, this may be a false positive.\n",
      "Warning: The parameter alpha has no priors. This means either no prior is\n",
      "    provided, or the prior(s) depend on data variables. In the later case,\n",
      "    this may be a false positive.\n",
      "Sampling:   0%\n",
      "Sampling:   0% (1/8000)\n",
      "Sampling:   0% (2/8000)\n",
      "Sampling:   0% (3/8000)\n",
      "Sampling:   0% (4/8000)\n",
      "Sampling:   1% (103/8000)\n",
      "Sampling:   3% (202/8000)\n",
      "Sampling:   4% (301/8000)\n",
      "Sampling:   5% (400/8000)\n",
      "Sampling:   6% (500/8000)\n",
      "Sampling:   8% (600/8000)\n",
      "Sampling:   9% (700/8000)\n",
      "Sampling:  10% (800/8000)\n",
      "Sampling:  11% (900/8000)\n",
      "Sampling:  12% (1000/8000)\n",
      "Sampling:  14% (1100/8000)\n",
      "Sampling:  15% (1200/8000)\n",
      "Sampling:  16% (1300/8000)\n",
      "Sampling:  18% (1400/8000)\n",
      "Sampling:  19% (1500/8000)\n",
      "Sampling:  20% (1600/8000)\n",
      "Sampling:  21% (1700/8000)\n",
      "Sampling:  22% (1800/8000)\n",
      "Sampling:  24% (1900/8000)\n",
      "Sampling:  25% (2000/8000)\n",
      "Sampling:  26% (2100/8000)\n",
      "Sampling:  28% (2200/8000)\n",
      "Sampling:  29% (2300/8000)\n",
      "Sampling:  30% (2400/8000)\n",
      "Sampling:  31% (2500/8000)\n",
      "Sampling:  32% (2600/8000)\n",
      "Sampling:  34% (2700/8000)\n",
      "Sampling:  35% (2800/8000)\n",
      "Sampling:  36% (2900/8000)\n",
      "Sampling:  38% (3000/8000)\n",
      "Sampling:  39% (3100/8000)\n",
      "Sampling:  40% (3201/8000)\n",
      "Sampling:  41% (3301/8000)\n",
      "Sampling:  43% (3401/8000)\n",
      "Sampling:  43% (3402/8000)\n",
      "Sampling:  44% (3502/8000)\n",
      "Sampling:  45% (3601/8000)\n",
      "Sampling:  46% (3700/8000)\n",
      "Sampling:  48% (3800/8000)\n",
      "Sampling:  49% (3900/8000)\n",
      "Sampling:  50% (4000/8000)\n",
      "Sampling:  51% (4100/8000)\n",
      "Sampling:  52% (4200/8000)\n",
      "Sampling:  54% (4301/8000)\n",
      "Sampling:  55% (4401/8000)\n",
      "Sampling:  56% (4501/8000)\n",
      "Sampling:  58% (4601/8000)\n",
      "Sampling:  59% (4700/8000)\n",
      "Sampling:  60% (4800/8000)\n",
      "Sampling:  61% (4900/8000)\n",
      "Sampling:  61% (4901/8000)\n",
      "Sampling:  63% (5001/8000)\n",
      "Sampling:  64% (5101/8000)\n",
      "Sampling:  65% (5201/8000)\n",
      "Sampling:  66% (5301/8000)\n",
      "Sampling:  68% (5400/8000)\n",
      "Sampling:  69% (5500/8000)\n",
      "Sampling:  70% (5600/8000)\n",
      "Sampling:  71% (5700/8000)\n",
      "Sampling:  72% (5800/8000)\n",
      "Sampling:  74% (5900/8000)\n",
      "Sampling:  75% (6000/8000)\n",
      "Sampling:  76% (6100/8000)\n",
      "Sampling:  78% (6200/8000)\n",
      "Sampling:  79% (6300/8000)\n",
      "Sampling:  80% (6400/8000)\n",
      "Sampling:  81% (6500/8000)\n",
      "Sampling:  82% (6600/8000)\n",
      "Sampling:  84% (6700/8000)\n",
      "Sampling:  85% (6800/8000)\n",
      "Sampling:  86% (6900/8000)\n",
      "Sampling:  88% (7000/8000)\n",
      "Sampling:  89% (7100/8000)\n",
      "Sampling:  90% (7200/8000)\n",
      "Sampling:  91% (7300/8000)\n",
      "Sampling:  92% (7400/8000)\n",
      "Sampling:  94% (7500/8000)\n",
      "Sampling:  95% (7600/8000)\n",
      "Sampling:  96% (7700/8000)\n",
      "Sampling:  98% (7800/8000)\n",
      "Sampling:  99% (7900/8000)\n",
      "Sampling: 100% (8000/8000)\n",
      "Sampling: 100% (8000/8000), done.\n",
      "Messages received during sampling:\n",
      "  Gradient evaluation took 0.172414 seconds\n",
      "  1000 transitions using 10 leapfrog steps per transition would take 1724.14 seconds.\n",
      "  Adjust your expectations accordingly!\n",
      "  Informational Message: The current Metropolis proposal is about to be rejected because of the following issue:\n",
      "  Exception: bernoulli_lpmf: Probability parameter[1] is -nan, but must be in the interval [0, 1] (in '/tmp/httpstan_xwq292_p/model_bcufgmth.stan', line 131, column 4 to column 22)\n",
      "  If this warning occurs sporadically, such as for highly constrained variable types like covariance matrices, then the sampler is fine,\n",
      "  but if this warning occurs often then your model may be either severely ill-conditioned or misspecified.\n",
      "  Gradient evaluation took 0.169087 seconds\n",
      "  1000 transitions using 10 leapfrog steps per transition would take 1690.87 seconds.\n",
      "  Adjust your expectations accordingly!\n",
      "  Informational Message: The current Metropolis proposal is about to be rejected because of the following issue:\n",
      "  Exception: gamma_lpdf: Random variable[1] is 0, but must be positive finite! (in '/tmp/httpstan_xwq292_p/model_bcufgmth.stan', line 108, column 4 to column 90)\n",
      "  If this warning occurs sporadically, such as for highly constrained variable types like covariance matrices, then the sampler is fine,\n",
      "  but if this warning occurs often then your model may be either severely ill-conditioned or misspecified.\n",
      "  Gradient evaluation took 0.176664 seconds\n",
      "  1000 transitions using 10 leapfrog steps per transition would take 1766.64 seconds.\n",
      "  Adjust your expectations accordingly!\n",
      "  Informational Message: The current Metropolis proposal is about to be rejected because of the following issue:\n",
      "  Exception: gamma_lpdf: Random variable[2] is inf, but must be positive finite! (in '/tmp/httpstan_xwq292_p/model_bcufgmth.stan', line 108, column 4 to column 90)\n",
      "  If this warning occurs sporadically, such as for highly constrained variable types like covariance matrices, then the sampler is fine,\n",
      "  but if this warning occurs often then your model may be either severely ill-conditioned or misspecified.\n",
      "  Gradient evaluation took 0.166152 seconds\n",
      "  1000 transitions using 10 leapfrog steps per transition would take 1661.52 seconds.\n",
      "  Adjust your expectations accordingly!\n",
      "  Informational Message: The current Metropolis proposal is about to be rejected because of the following issue:\n",
      "  Exception: gamma_lpdf: Random variable[3] is inf, but must be positive finite! (in '/tmp/httpstan_xwq292_p/model_bcufgmth.stan', line 108, column 4 to column 90)\n",
      "  If this warning occurs sporadically, such as for highly constrained variable types like covariance matrices, then the sampler is fine,\n",
      "  but if this warning occurs often then your model may be either severely ill-conditioned or misspecified.\n"
     ]
    },
    {
     "data": {
      "text/plain": [
       "<stan.Fit>\n",
       "Parameters:\n",
       "    alpha: (3,)\n",
       "    timeconstant: ()\n",
       "    subject_similarity_a: ()\n",
       "    subject_similarity_b: ()\n",
       "    context_a_depth_1: ()\n",
       "    context_b_depth_1: ()\n",
       "Draws: 4000"
      ]
     },
     "execution_count": 3,
     "metadata": {},
     "output_type": "execute_result"
    }
   ],
   "source": [
    "model_d = create_pop_model(\"diverse\")\n",
    "model_d.build(random_seed=902)\n",
    "model_d.fit_model()"
   ]
  },
  {
   "cell_type": "code",
   "execution_count": 4,
   "metadata": {},
   "outputs": [
    {
     "data": {
      "text/plain": [
       "Index(['lp__', 'accept_stat__', 'stepsize__', 'treedepth__', 'n_leapfrog__',\n",
       "       'divergent__', 'energy__', 'alpha.1', 'alpha.2', 'alpha.3',\n",
       "       'timeconstant', 'subject_similarity_a', 'subject_similarity_b',\n",
       "       'context_a_depth_1', 'context_b_depth_1', 'grp'],\n",
       "      dtype='object', name='parameters')"
      ]
     },
     "execution_count": 4,
     "metadata": {},
     "output_type": "execute_result"
    }
   ],
   "source": [
    "fit_df_u = model.fit.to_frame()\n",
    "fit_df_d = model_d.fit.to_frame()\n",
    "\n",
    "fit_df_u = fit_df_u.assign(grp=\"uniform\")\n",
    "fit_df_d = fit_df_d.assign(grp=\"diverse\")\n",
    "\n",
    "fits = pd.concat([fit_df_d,fit_df_u])\n",
    "fits.keys()"
   ]
  },
  {
   "cell_type": "code",
   "execution_count": 5,
   "metadata": {},
   "outputs": [
    {
     "name": "stderr",
     "output_type": "stream",
     "text": [
      "/home/latimerk/miniconda3/envs/JaiYuLab/lib/python3.10/site-packages/seaborn/_oldcore.py:1119: FutureWarning: use_inf_as_na option is deprecated and will be removed in a future version. Convert inf values to NaN before operating instead.\n",
      "  with pd.option_context('mode.use_inf_as_na', True):\n",
      "/home/latimerk/miniconda3/envs/JaiYuLab/lib/python3.10/site-packages/seaborn/_oldcore.py:1075: FutureWarning: When grouping with a length-1 list-like, you will need to pass a length-1 tuple to get_group in a future version of pandas. Pass `(name,)` instead of `name` to silence this warning.\n",
      "  data_subset = grouped_data.get_group(pd_key)\n",
      "/home/latimerk/miniconda3/envs/JaiYuLab/lib/python3.10/site-packages/seaborn/_oldcore.py:1075: FutureWarning: When grouping with a length-1 list-like, you will need to pass a length-1 tuple to get_group in a future version of pandas. Pass `(name,)` instead of `name` to silence this warning.\n",
      "  data_subset = grouped_data.get_group(pd_key)\n",
      "/home/latimerk/miniconda3/envs/JaiYuLab/lib/python3.10/site-packages/seaborn/_oldcore.py:1075: FutureWarning: When grouping with a length-1 list-like, you will need to pass a length-1 tuple to get_group in a future version of pandas. Pass `(name,)` instead of `name` to silence this warning.\n",
      "  data_subset = grouped_data.get_group(pd_key)\n"
     ]
    },
    {
     "data": {
      "image/png": "[encoded data removed]",
      "text/plain": [
       "<Figure size 640x480 with 1 Axes>"
      ]
     },
     "metadata": {},
     "output_type": "display_data"
    }
   ],
   "source": [
    "sns.histplot(data=fits,x=\"context_a_depth_1\", hue=\"grp\");"
   ]
  },
  {
   "cell_type": "code",
   "execution_count": 6,
   "metadata": {},
   "outputs": [
    {
     "name": "stderr",
     "output_type": "stream",
     "text": [
      "/home/latimerk/miniconda3/envs/JaiYuLab/lib/python3.10/site-packages/seaborn/_oldcore.py:1119: FutureWarning: use_inf_as_na option is deprecated and will be removed in a future version. Convert inf values to NaN before operating instead.\n",
      "  with pd.option_context('mode.use_inf_as_na', True):\n",
      "/home/latimerk/miniconda3/envs/JaiYuLab/lib/python3.10/site-packages/seaborn/_oldcore.py:1075: FutureWarning: When grouping with a length-1 list-like, you will need to pass a length-1 tuple to get_group in a future version of pandas. Pass `(name,)` instead of `name` to silence this warning.\n",
      "  data_subset = grouped_data.get_group(pd_key)\n",
      "/home/latimerk/miniconda3/envs/JaiYuLab/lib/python3.10/site-packages/seaborn/_oldcore.py:1075: FutureWarning: When grouping with a length-1 list-like, you will need to pass a length-1 tuple to get_group in a future version of pandas. Pass `(name,)` instead of `name` to silence this warning.\n",
      "  data_subset = grouped_data.get_group(pd_key)\n",
      "/home/latimerk/miniconda3/envs/JaiYuLab/lib/python3.10/site-packages/seaborn/_oldcore.py:1075: FutureWarning: When grouping with a length-1 list-like, you will need to pass a length-1 tuple to get_group in a future version of pandas. Pass `(name,)` instead of `name` to silence this warning.\n",
      "  data_subset = grouped_data.get_group(pd_key)\n"
     ]
    },
    {
     "data": {
      "image/png": "[encoded data removed]",
      "text/plain": [
       "<Figure size 640x480 with 1 Axes>"
      ]
     },
     "metadata": {},
     "output_type": "display_data"
    }
   ],
   "source": [
    "sns.histplot(data=fits,x=\"context_b_depth_1\", hue=\"grp\");"
   ]
  },
  {
   "cell_type": "code",
   "execution_count": 7,
   "metadata": {},
   "outputs": [
    {
     "name": "stdout",
     "output_type": "stream",
     "text": [
      "[2 2 0 0 0 0 0 0 1 1]\n",
      "[2 1 0 1 2 3 0 1 2 0]\n"
     ]
    }
   ],
   "source": [
    "Y,R = load_turns_and_locations(\"A1\")\n",
    "\n",
    "print(Y[0][:10])\n",
    "print(R[0][:10])"
   ]
  }
 ],
 "metadata": {
  "kernelspec": {
   "display_name": "JaiYuLab",
   "language": "python",
   "name": "python3"
  },
  "language_info": {
   "codemirror_mode": {
    "name": "ipython",
    "version": 3
   },
   "file_extension": ".py",
   "mimetype": "text/x-python",
   "name": "python",
   "nbconvert_exporter": "python",
   "pygments_lexer": "ipython3",
   "version": "3.10.14"
  }
 },
 "nbformat": 4,
 "nbformat_minor": 2
}
